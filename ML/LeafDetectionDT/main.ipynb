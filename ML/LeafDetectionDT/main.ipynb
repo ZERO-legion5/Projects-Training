{
 "cells": [
  {
   "cell_type": "code",
   "execution_count": null,
   "metadata": {},
   "outputs": [],
   "source": [
    "# Importing Libraries"
   ]
  },
  {
   "cell_type": "code",
   "execution_count": 1,
   "metadata": {},
   "outputs": [],
   "source": [
    "import pandas as pd\n",
    "import seaborn as sns\n",
    "import numpy as np\n",
    "import os\n",
    "import cv2 as cv\n",
    "from PIL import Image\n",
    "from sklearn.model_selection import train_test_split\n",
    "from sklearn.tree import DecisionTreeClassifier\n",
    "from sklearn.metrics import accuracy_score\n",
    "import matplotlib.pyplot as plt\n",
    "from sklearn.metrics import confusion_matrix"
   ]
  },
  {
   "cell_type": "code",
   "execution_count": 2,
   "metadata": {},
   "outputs": [],
   "source": [
    "# Reading the Data"
   ]
  },
  {
   "cell_type": "code",
   "execution_count": 3,
   "metadata": {},
   "outputs": [],
   "source": [
    "input_dir = 'rice_leaf_diseases'\n",
    "output_dir_resized = 'rice_leaf_diseases_resized'\n",
    "output_dir_downsampled = 'rice_leaf_diseases_downsampled'"
   ]
  },
  {
   "cell_type": "code",
   "execution_count": 4,
   "metadata": {},
   "outputs": [],
   "source": [
    "# Create output directories if they don't exist\n",
    "os.makedirs(output_dir_resized, exist_ok=True)\n",
    "os.makedirs(output_dir_downsampled, exist_ok=True)\n",
    "\n",
    "target_width = 224\n",
    "target_height = 224\n",
    "downsample_factor = 0.5  # Reducing image dimensions by 50%"
   ]
  },
  {
   "cell_type": "code",
   "execution_count": 5,
   "metadata": {},
   "outputs": [],
   "source": [
    "# Iterate through each category\n",
    "for category in os.listdir(input_dir):\n",
    "    category_path = os.path.join(input_dir, category)\n",
    "    resized_category_path = os.path.join(output_dir_resized, category)\n",
    "    downsampled_category_path = os.path.join(output_dir_downsampled, category)\n",
    "    os.makedirs(resized_category_path, exist_ok=True)\n",
    "    os.makedirs(downsampled_category_path, exist_ok=True)\n",
    "\n",
    "    # Iterate through images in the category\n",
    "    for img_name in os.listdir(category_path):\n",
    "        img_path = os.path.join(category_path, img_name)\n",
    "        img = Image.open(img_path)\n",
    "\n",
    "        # Resize image to the target width and height\n",
    "        resized_img = img.resize((target_width, target_height))\n",
    "\n",
    "        # Save resized image\n",
    "        resized_img_path = os.path.join(resized_category_path, img_name)\n",
    "        resized_img.save(resized_img_path)\n",
    "\n",
    "        # Downsample image\n",
    "        downsampled_img = img.resize((int(img.width * downsample_factor), int(img.height * downsample_factor)))\n",
    "\n",
    "        # Save downsampled image\n",
    "        downsampled_img_path = os.path.join(downsampled_category_path, img_name)\n",
    "        downsampled_img.save(downsampled_img_path)"
   ]
  },
  {
   "cell_type": "code",
   "execution_count": null,
   "metadata": {},
   "outputs": [],
   "source": []
  }
 ],
 "metadata": {
  "kernelspec": {
   "display_name": "Python 3",
   "language": "python",
   "name": "python3"
  },
  "language_info": {
   "codemirror_mode": {
    "name": "ipython",
    "version": 3
   },
   "file_extension": ".py",
   "mimetype": "text/x-python",
   "name": "python",
   "nbconvert_exporter": "python",
   "pygments_lexer": "ipython3",
   "version": "3.12.0"
  }
 },
 "nbformat": 4,
 "nbformat_minor": 2
}
