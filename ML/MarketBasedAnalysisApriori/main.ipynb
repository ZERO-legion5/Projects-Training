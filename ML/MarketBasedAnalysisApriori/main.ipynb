{
  "cells": [
    {
      "cell_type": "markdown",
      "id": "83bc15f4",
      "metadata": {
        "id": "83bc15f4",
        "papermill": {
          "duration": 0.034863,
          "end_time": "2022-07-12T07:16:35.966407",
          "exception": false,
          "start_time": "2022-07-12T07:16:35.931544",
          "status": "completed"
        },
        "tags": []
      },
      "source": [
        "# <span style='color:Black'> MARKET BASKET ANALYSIS USING APRIORI ALGORITHM"
      ]
    },
    {
      "cell_type": "markdown",
      "id": "930ffab2",
      "metadata": {
        "id": "930ffab2",
        "papermill": {
          "duration": 0.027173,
          "end_time": "2022-07-12T07:16:36.028825",
          "exception": false,
          "start_time": "2022-07-12T07:16:36.001652",
          "status": "completed"
        },
        "tags": []
      },
      "source": [
        "All of us have done e-shopping right? We go to the site for buying a particular thing and come out with a lot more than what we wished to buy, right? Ever thought how the retailers manage to tempT us into buying stuff that we actually did not intend to buy in the first place?\n"
      ]
    },
    {
      "cell_type": "markdown",
      "id": "bf02fcbc",
      "metadata": {
        "id": "bf02fcbc",
        "papermill": {
          "duration": 0.025094,
          "end_time": "2022-07-12T07:16:36.085819",
          "exception": false,
          "start_time": "2022-07-12T07:16:36.060725",
          "status": "completed"
        },
        "tags": []
      },
      "source": [
        "We live in the era of e-commerce and digital marketing, We hav even small scale businesses going online as the opportunities are endless.\n",
        "Since a huge chunk of the people who have access to internet is switching to onlline shopping, large retailers are actively searching for ways to increase their profit."
      ]
    },
    {
      "cell_type": "markdown",
      "id": "81b76811",
      "metadata": {
        "id": "81b76811",
        "papermill": {
          "duration": 0.025953,
          "end_time": "2022-07-12T07:16:36.137198",
          "exception": false,
          "start_time": "2022-07-12T07:16:36.111245",
          "status": "completed"
        },
        "tags": []
      },
      "source": [
        "Market Basket analysis is one such key techniques used by large retailers to uncover relationships between items, which can in turn help them make profit:\n",
        "\n",
        "For example:\n",
        "\n",
        "Customers who buy bread are more likely to buy jam as well, similarly people who buy laptops are likely to buy laptop bags as well. Finding these kind of relationships between items and ensuring that they are placed correctly in the market recommendations so that the chance of the purchase of the second item is effectively increased.\n",
        "\n",
        "Now lets say we find out that people who buy bread buy jam most of the time, how can we make them buy a third item say eggs? what if we place an offer that they can't deny?\n",
        "Lets give them a discount of 30% on eggs, they will be tempted to buy the eggs right?\n",
        "\n",
        "This is how the market basket analysis work, we find relationships between items so that the retailers can make necessary arrangements and offers to ensure that the person who is buying one item buys the related items as well.\n"
      ]
    },
    {
      "cell_type": "markdown",
      "id": "d882a263",
      "metadata": {
        "id": "d882a263",
        "papermill": {
          "duration": 0.027918,
          "end_time": "2022-07-12T07:16:36.191287",
          "exception": false,
          "start_time": "2022-07-12T07:16:36.163369",
          "status": "completed"
        },
        "tags": []
      },
      "source": [
        "**Steps for apriori algorithm"
      ]
    },
    {
      "cell_type": "markdown",
      "id": "1ccea78e",
      "metadata": {
        "id": "1ccea78e",
        "papermill": {
          "duration": 0.025095,
          "end_time": "2022-07-12T07:16:36.242228",
          "exception": false,
          "start_time": "2022-07-12T07:16:36.217133",
          "status": "completed"
        },
        "tags": []
      },
      "source": [
        "Set a minimum value for support and confidence. This means that we are only interested in finding rules for the items that have certain default existence (e.g. support) and have a minimum value for co-occurrence with other items (e.g. confidence).\n",
        "\n",
        "Extract all the subsets having higher value of support than minimum threshold.\n",
        "\n",
        "Select all the rules from the subsets with confidence value higher than minimum threshold.\n",
        "\n",
        "Order the rules by descending order of Lift."
      ]
    },
    {
      "cell_type": "markdown",
      "id": "0eb87b64",
      "metadata": {
        "id": "0eb87b64",
        "papermill": {
          "duration": 0.024934,
          "end_time": "2022-07-12T07:16:36.292612",
          "exception": false,
          "start_time": "2022-07-12T07:16:36.267678",
          "status": "completed"
        },
        "tags": []
      },
      "source": [
        "# APRIORI"
      ]
    },
    {
      "cell_type": "code",
      "execution_count": 1,
      "id": "c518abc8",
      "metadata": {
        "execution": {
          "iopub.execute_input": "2022-07-12T07:16:36.347865Z",
          "iopub.status.busy": "2022-07-12T07:16:36.346820Z",
          "iopub.status.idle": "2022-07-12T07:16:37.922303Z",
          "shell.execute_reply": "2022-07-12T07:16:37.921520Z",
          "shell.execute_reply.started": "2022-02-11T14:27:08.916818Z"
        },
        "id": "c518abc8",
        "papermill": {
          "duration": 1.604552,
          "end_time": "2022-07-12T07:16:37.922481",
          "exception": false,
          "start_time": "2022-07-12T07:16:36.317929",
          "status": "completed"
        },
        "tags": []
      },
      "outputs": [],
      "source": [
        "import numpy as np # linear algebra\n",
        "import pandas as pd # data processing\n",
        "import plotly.express as px\n",
        "\n",
        "import matplotlib.pyplot as plt\n",
        "import seaborn as sns"
      ]
    },
    {
      "cell_type": "code",
      "execution_count": 2,
      "id": "5c05c266",
      "metadata": {
        "execution": {
          "iopub.execute_input": "2022-07-12T07:16:49.652979Z",
          "iopub.status.busy": "2022-07-12T07:16:49.652372Z",
          "iopub.status.idle": "2022-07-12T07:16:49.656793Z",
          "shell.execute_reply": "2022-07-12T07:16:49.657213Z",
          "shell.execute_reply.started": "2022-02-11T14:32:13.305433Z"
        },
        "id": "5c05c266",
        "papermill": {
          "duration": 0.038834,
          "end_time": "2022-07-12T07:16:49.657394",
          "exception": false,
          "start_time": "2022-07-12T07:16:49.618560",
          "status": "completed"
        },
        "tags": []
      },
      "outputs": [],
      "source": [
        "import apyori\n",
        "from apyori import apriori"
      ]
    },
    {
      "cell_type": "code",
      "execution_count": 3,
      "id": "8f52e2ef",
      "metadata": {
        "colab": {
          "base_uri": "https://localhost:8080/"
        },
        "execution": {
          "iopub.execute_input": "2022-07-12T07:16:49.717930Z",
          "iopub.status.busy": "2022-07-12T07:16:49.717351Z",
          "iopub.status.idle": "2022-07-12T07:16:49.777928Z",
          "shell.execute_reply": "2022-07-12T07:16:49.778393Z",
          "shell.execute_reply.started": "2022-02-11T14:34:09.138073Z"
        },
        "id": "8f52e2ef",
        "outputId": "e899b306-b767-4809-a8c0-809af0fe417e",
        "papermill": {
          "duration": 0.092103,
          "end_time": "2022-07-12T07:16:49.778589",
          "exception": false,
          "start_time": "2022-07-12T07:16:49.686486",
          "status": "completed"
        },
        "scrolled": true,
        "tags": []
      },
      "outputs": [
        {
          "data": {
            "text/plain": [
              "(38765, 3)"
            ]
          },
          "execution_count": 3,
          "metadata": {},
          "output_type": "execute_result"
        }
      ],
      "source": [
        "data = pd.read_csv(\"Groceries_dataset.csv\")\n",
        "data.shape"
      ]
    },
    {
      "cell_type": "code",
      "execution_count": 4,
      "id": "4TcvfP_59n17",
      "metadata": {
        "colab": {
          "base_uri": "https://localhost:8080/",
          "height": 206
        },
        "id": "4TcvfP_59n17",
        "outputId": "851e7d48-ded5-4903-93fc-a6945642edb2"
      },
      "outputs": [
        {
          "data": {
            "text/html": [
              "<div>\n",
              "<style scoped>\n",
              "    .dataframe tbody tr th:only-of-type {\n",
              "        vertical-align: middle;\n",
              "    }\n",
              "\n",
              "    .dataframe tbody tr th {\n",
              "        vertical-align: top;\n",
              "    }\n",
              "\n",
              "    .dataframe thead th {\n",
              "        text-align: right;\n",
              "    }\n",
              "</style>\n",
              "<table border=\"1\" class=\"dataframe\">\n",
              "  <thead>\n",
              "    <tr style=\"text-align: right;\">\n",
              "      <th></th>\n",
              "      <th>Member_number</th>\n",
              "      <th>Date</th>\n",
              "      <th>itemDescription</th>\n",
              "    </tr>\n",
              "  </thead>\n",
              "  <tbody>\n",
              "    <tr>\n",
              "      <th>0</th>\n",
              "      <td>1808</td>\n",
              "      <td>21-07-2015</td>\n",
              "      <td>tropical fruit</td>\n",
              "    </tr>\n",
              "    <tr>\n",
              "      <th>1</th>\n",
              "      <td>2552</td>\n",
              "      <td>05-01-2015</td>\n",
              "      <td>whole milk</td>\n",
              "    </tr>\n",
              "    <tr>\n",
              "      <th>2</th>\n",
              "      <td>2300</td>\n",
              "      <td>19-09-2015</td>\n",
              "      <td>pip fruit</td>\n",
              "    </tr>\n",
              "    <tr>\n",
              "      <th>3</th>\n",
              "      <td>1187</td>\n",
              "      <td>12-12-2015</td>\n",
              "      <td>other vegetables</td>\n",
              "    </tr>\n",
              "    <tr>\n",
              "      <th>4</th>\n",
              "      <td>3037</td>\n",
              "      <td>01-02-2015</td>\n",
              "      <td>whole milk</td>\n",
              "    </tr>\n",
              "  </tbody>\n",
              "</table>\n",
              "</div>"
            ],
            "text/plain": [
              "   Member_number        Date   itemDescription\n",
              "0           1808  21-07-2015    tropical fruit\n",
              "1           2552  05-01-2015        whole milk\n",
              "2           2300  19-09-2015         pip fruit\n",
              "3           1187  12-12-2015  other vegetables\n",
              "4           3037  01-02-2015        whole milk"
            ]
          },
          "execution_count": 4,
          "metadata": {},
          "output_type": "execute_result"
        }
      ],
      "source": [
        "data.head()"
      ]
    },
    {
      "cell_type": "markdown",
      "id": "36019fc4",
      "metadata": {
        "id": "36019fc4",
        "papermill": {
          "duration": 0.030843,
          "end_time": "2022-07-12T07:16:49.838730",
          "exception": false,
          "start_time": "2022-07-12T07:16:49.807887",
          "status": "completed"
        },
        "tags": []
      },
      "source": [
        "The above dataset is that of a grocery store, we can see that the dataset has three columns the member_number (The is of the person who bought the item), Date of purchase and the description of the item."
      ]
    },
    {
      "cell_type": "code",
      "execution_count": 5,
      "id": "e1165288",
      "metadata": {
        "colab": {
          "base_uri": "https://localhost:8080/"
        },
        "execution": {
          "iopub.execute_input": "2022-07-12T07:16:49.901126Z",
          "iopub.status.busy": "2022-07-12T07:16:49.900477Z",
          "iopub.status.idle": "2022-07-12T07:16:49.932740Z",
          "shell.execute_reply": "2022-07-12T07:16:49.933186Z",
          "shell.execute_reply.started": "2022-02-11T14:34:11.480421Z"
        },
        "id": "e1165288",
        "outputId": "24c73ff8-4ba2-4166-c64a-f47776c3f950",
        "papermill": {
          "duration": 0.064384,
          "end_time": "2022-07-12T07:16:49.933381",
          "exception": false,
          "start_time": "2022-07-12T07:16:49.868997",
          "status": "completed"
        },
        "tags": []
      },
      "outputs": [
        {
          "name": "stdout",
          "output_type": "stream",
          "text": [
            "<class 'pandas.core.frame.DataFrame'>\n",
            "RangeIndex: 38765 entries, 0 to 38764\n",
            "Data columns (total 3 columns):\n",
            " #   Column           Non-Null Count  Dtype \n",
            "---  ------           --------------  ----- \n",
            " 0   Member_number    38765 non-null  int64 \n",
            " 1   Date             38765 non-null  object\n",
            " 2   itemDescription  38765 non-null  object\n",
            "dtypes: int64(1), object(2)\n",
            "memory usage: 908.7+ KB\n"
          ]
        }
      ],
      "source": [
        "data.info()"
      ]
    },
    {
      "cell_type": "markdown",
      "id": "b419b36d",
      "metadata": {
        "id": "b419b36d",
        "papermill": {
          "duration": 0.028156,
          "end_time": "2022-07-12T07:16:49.990244",
          "exception": false,
          "start_time": "2022-07-12T07:16:49.962088",
          "status": "completed"
        },
        "tags": []
      },
      "source": [
        "We can see that there are 38765 rows in the dataset"
      ]
    },
    {
      "cell_type": "code",
      "execution_count": 6,
      "id": "b646560f",
      "metadata": {
        "colab": {
          "base_uri": "https://localhost:8080/"
        },
        "execution": {
          "iopub.execute_input": "2022-07-12T07:16:50.053260Z",
          "iopub.status.busy": "2022-07-12T07:16:50.052556Z",
          "iopub.status.idle": "2022-07-12T07:16:50.063160Z",
          "shell.execute_reply": "2022-07-12T07:16:50.063597Z",
          "shell.execute_reply.started": "2022-02-11T14:34:18.937931Z"
        },
        "id": "b646560f",
        "outputId": "b8910a42-49c6-46ad-bf25-c5e9a8a18646",
        "papermill": {
          "duration": 0.043944,
          "end_time": "2022-07-12T07:16:50.063841",
          "exception": false,
          "start_time": "2022-07-12T07:16:50.019897",
          "status": "completed"
        },
        "tags": []
      },
      "outputs": [
        {
          "data": {
            "text/plain": [
              "Member_number      0\n",
              "Date               0\n",
              "itemDescription    0\n",
              "dtype: int64"
            ]
          },
          "execution_count": 6,
          "metadata": {},
          "output_type": "execute_result"
        }
      ],
      "source": [
        "data.isna().sum()"
      ]
    },
    {
      "cell_type": "markdown",
      "id": "c0063a9d",
      "metadata": {
        "id": "c0063a9d",
        "papermill": {
          "duration": 0.029039,
          "end_time": "2022-07-12T07:16:50.122901",
          "exception": false,
          "start_time": "2022-07-12T07:16:50.093862",
          "status": "completed"
        },
        "tags": []
      },
      "source": [
        "We can see that there are no null values in any of the columns in the dataset, this makes analysis easier."
      ]
    },
    {
      "cell_type": "markdown",
      "id": "00c5041f",
      "metadata": {
        "id": "00c5041f",
        "papermill": {
          "duration": 0.029278,
          "end_time": "2022-07-12T07:16:50.182311",
          "exception": false,
          "start_time": "2022-07-12T07:16:50.153033",
          "status": "completed"
        },
        "tags": []
      },
      "source": [
        "### <span style='color:Black'> Now let's look at the top selling products as well as the least selling products in the dataset."
      ]
    },
    {
      "cell_type": "code",
      "execution_count": 7,
      "id": "8c1a2982",
      "metadata": {
        "execution": {
          "iopub.execute_input": "2022-07-12T07:16:50.246696Z",
          "iopub.status.busy": "2022-07-12T07:16:50.246017Z",
          "iopub.status.idle": "2022-07-12T07:16:50.253301Z",
          "shell.execute_reply": "2022-07-12T07:16:50.252816Z",
          "shell.execute_reply.started": "2022-02-11T14:34:22.532599Z"
        },
        "id": "8c1a2982",
        "papermill": {
          "duration": 0.040322,
          "end_time": "2022-07-12T07:16:50.253442",
          "exception": false,
          "start_time": "2022-07-12T07:16:50.213120",
          "status": "completed"
        },
        "tags": []
      },
      "outputs": [],
      "source": [
        "#Let's split up this line of code, we first count the occurances of each item in the dataset, then sort the value in asending order and filter out the first 10 items, this would be the top 10 selling items\n",
        "x = data['itemDescription'].value_counts().sort_values(ascending=False)[:10]"
      ]
    },
    {
      "cell_type": "code",
      "execution_count": 8,
      "metadata": {},
      "outputs": [
        {
          "data": {
            "text/plain": [
              "<Axes: xlabel='itemDescription'>"
            ]
          },
          "execution_count": 8,
          "metadata": {},
          "output_type": "execute_result"
        },
        {
          "data": {
            "image/png": "[encoded data removed]",
            "text/plain": [
              "<Figure size 1300x300 with 1 Axes>"
            ]
          },
          "metadata": {},
          "output_type": "display_data"
        }
      ],
      "source": [
        "plt.figure(figsize=(13, 3))\n",
        "sns.barplot(x = x.index,y = x.values)"
      ]
    },
    {
      "cell_type": "markdown",
      "id": "f261f9c7",
      "metadata": {
        "id": "f261f9c7",
        "papermill": {
          "duration": 0.03088,
          "end_time": "2022-07-12T07:16:51.556500",
          "exception": false,
          "start_time": "2022-07-12T07:16:51.525620",
          "status": "completed"
        },
        "tags": []
      },
      "source": [
        " We can see that whole milk has the highest count (nearly 2500), followed by vegetables(almost 1800)"
      ]
    },
    {
      "cell_type": "code",
      "execution_count": 9,
      "id": "4e6aacf8",
      "metadata": {
        "execution": {
          "iopub.execute_input": "2022-07-12T07:16:51.621603Z",
          "iopub.status.busy": "2022-07-12T07:16:51.620668Z",
          "iopub.status.idle": "2022-07-12T07:16:51.627501Z",
          "shell.execute_reply": "2022-07-12T07:16:51.628099Z"
        },
        "id": "4e6aacf8",
        "papermill": {
          "duration": 0.041336,
          "end_time": "2022-07-12T07:16:51.628277",
          "exception": false,
          "start_time": "2022-07-12T07:16:51.586941",
          "status": "completed"
        },
        "tags": []
      },
      "outputs": [],
      "source": [
        "#Now let's look at the 10 least selling products\n",
        "#The only change in code would be to not sort the values in descending order\n",
        "\n",
        "y = data['itemDescription'].value_counts().sort_values(ascending=True)[:10]"
      ]
    },
    {
      "cell_type": "code",
      "execution_count": 10,
      "id": "6c884780",
      "metadata": {
        "colab": {
          "base_uri": "https://localhost:8080/",
          "height": 560
        },
        "execution": {
          "iopub.execute_input": "2022-07-12T07:16:51.693328Z",
          "iopub.status.busy": "2022-07-12T07:16:51.692368Z",
          "iopub.status.idle": "2022-07-12T07:16:51.890458Z",
          "shell.execute_reply": "2022-07-12T07:16:51.890905Z"
        },
        "id": "6c884780",
        "outputId": "c135044c-f273-4abd-8431-b41d0ff9684a",
        "papermill": {
          "duration": 0.232288,
          "end_time": "2022-07-12T07:16:51.891093",
          "exception": false,
          "start_time": "2022-07-12T07:16:51.658805",
          "status": "completed"
        },
        "scrolled": true,
        "tags": []
      },
      "outputs": [
        {
          "data": {
            "text/plain": [
              "<Axes: xlabel='itemDescription'>"
            ]
          },
          "execution_count": 10,
          "metadata": {},
          "output_type": "execute_result"
        },
        {
          "data": {
            "image/png": "[encoded data removed]",
            "text/plain": [
              "<Figure size 1300x300 with 1 Axes>"
            ]
          },
          "metadata": {},
          "output_type": "display_data"
        }
      ],
      "source": [
        "plt.figure(figsize=(13, 3))\n",
        "sns.barplot(x = y.index,y = y.values)"
      ]
    },
    {
      "cell_type": "markdown",
      "id": "60959355",
      "metadata": {
        "id": "60959355",
        "papermill": {
          "duration": 0.031416,
          "end_time": "2022-07-12T07:16:51.955930",
          "exception": false,
          "start_time": "2022-07-12T07:16:51.924514",
          "status": "completed"
        },
        "tags": []
      },
      "source": [
        "We can see that preservation products are the least sold item followed by kitchen utensils."
      ]
    },
    {
      "cell_type": "markdown",
      "id": "17d42ac5",
      "metadata": {
        "id": "17d42ac5",
        "papermill": {
          "duration": 0.032077,
          "end_time": "2022-07-12T07:16:52.019637",
          "exception": false,
          "start_time": "2022-07-12T07:16:51.987560",
          "status": "completed"
        },
        "tags": []
      },
      "source": [
        "Let's create a dataframe by counting the number of times each customer has made a purchase. Then sort that in descending order and filter out the first 10 values, these are the ids of the customers that has made the most purchases."
      ]
    },
    {
      "cell_type": "code",
      "execution_count": 11,
      "id": "3840d235",
      "metadata": {
        "colab": {
          "base_uri": "https://localhost:8080/",
          "height": 363
        },
        "execution": {
          "iopub.execute_input": "2022-07-12T07:16:52.087590Z",
          "iopub.status.busy": "2022-07-12T07:16:52.086690Z",
          "iopub.status.idle": "2022-07-12T07:16:52.102260Z",
          "shell.execute_reply": "2022-07-12T07:16:52.102756Z"
        },
        "id": "3840d235",
        "outputId": "c99206a6-30f8-4113-993f-df6009f8b14c",
        "papermill": {
          "duration": 0.050812,
          "end_time": "2022-07-12T07:16:52.102935",
          "exception": false,
          "start_time": "2022-07-12T07:16:52.052123",
          "status": "completed"
        },
        "tags": []
      },
      "outputs": [
        {
          "data": {
            "text/html": [
              "<div>\n",
              "<style scoped>\n",
              "    .dataframe tbody tr th:only-of-type {\n",
              "        vertical-align: middle;\n",
              "    }\n",
              "\n",
              "    .dataframe tbody tr th {\n",
              "        vertical-align: top;\n",
              "    }\n",
              "\n",
              "    .dataframe thead th {\n",
              "        text-align: right;\n",
              "    }\n",
              "</style>\n",
              "<table border=\"1\" class=\"dataframe\">\n",
              "  <thead>\n",
              "    <tr style=\"text-align: right;\">\n",
              "      <th></th>\n",
              "      <th>count</th>\n",
              "    </tr>\n",
              "    <tr>\n",
              "      <th>Member_number</th>\n",
              "      <th></th>\n",
              "    </tr>\n",
              "  </thead>\n",
              "  <tbody>\n",
              "    <tr>\n",
              "      <th>3180</th>\n",
              "      <td>36</td>\n",
              "    </tr>\n",
              "    <tr>\n",
              "      <th>3050</th>\n",
              "      <td>33</td>\n",
              "    </tr>\n",
              "    <tr>\n",
              "      <th>2051</th>\n",
              "      <td>33</td>\n",
              "    </tr>\n",
              "    <tr>\n",
              "      <th>3737</th>\n",
              "      <td>33</td>\n",
              "    </tr>\n",
              "    <tr>\n",
              "      <th>2625</th>\n",
              "      <td>31</td>\n",
              "    </tr>\n",
              "    <tr>\n",
              "      <th>3915</th>\n",
              "      <td>31</td>\n",
              "    </tr>\n",
              "    <tr>\n",
              "      <th>2433</th>\n",
              "      <td>31</td>\n",
              "    </tr>\n",
              "    <tr>\n",
              "      <th>2271</th>\n",
              "      <td>31</td>\n",
              "    </tr>\n",
              "    <tr>\n",
              "      <th>3872</th>\n",
              "      <td>30</td>\n",
              "    </tr>\n",
              "    <tr>\n",
              "      <th>2394</th>\n",
              "      <td>29</td>\n",
              "    </tr>\n",
              "  </tbody>\n",
              "</table>\n",
              "</div>"
            ],
            "text/plain": [
              "               count\n",
              "Member_number       \n",
              "3180              36\n",
              "3050              33\n",
              "2051              33\n",
              "3737              33\n",
              "2625              31\n",
              "3915              31\n",
              "2433              31\n",
              "2271              31\n",
              "3872              30\n",
              "2394              29"
            ]
          },
          "execution_count": 11,
          "metadata": {},
          "output_type": "execute_result"
        }
      ],
      "source": [
        "pd.DataFrame(data['Member_number'].value_counts().sort_values(ascending=False))[:10]"
      ]
    },
    {
      "cell_type": "markdown",
      "id": "99a82676",
      "metadata": {
        "id": "99a82676",
        "papermill": {
          "duration": 0.032552,
          "end_time": "2022-07-12T07:16:52.168731",
          "exception": false,
          "start_time": "2022-07-12T07:16:52.136179",
          "status": "completed"
        },
        "tags": []
      },
      "source": [
        "We can see that customer with id 3180 has made the most purchases (36) followed by 3050,2051,3737 buying 33 items each."
      ]
    },
    {
      "cell_type": "markdown",
      "id": "87d957d8",
      "metadata": {
        "id": "87d957d8",
        "papermill": {
          "duration": 0.033041,
          "end_time": "2022-07-12T07:16:52.234196",
          "exception": false,
          "start_time": "2022-07-12T07:16:52.201155",
          "status": "completed"
        },
        "tags": []
      },
      "source": [
        "### <span style='color:Black'>Let's find the dates on which highest sale was made."
      ]
    },
    {
      "cell_type": "code",
      "execution_count": 12,
      "id": "676e0957",
      "metadata": {
        "execution": {
          "iopub.execute_input": "2022-07-12T07:16:52.307344Z",
          "iopub.status.busy": "2022-07-12T07:16:52.306390Z",
          "iopub.status.idle": "2022-07-12T07:16:52.583642Z",
          "shell.execute_reply": "2022-07-12T07:16:52.584078Z"
        },
        "id": "676e0957",
        "papermill": {
          "duration": 0.316928,
          "end_time": "2022-07-12T07:16:52.584260",
          "exception": false,
          "start_time": "2022-07-12T07:16:52.267332",
          "status": "completed"
        },
        "tags": []
      },
      "outputs": [],
      "source": [
        "#Let's create few new column by modifying the date column in the dataframe\n",
        "\n",
        "#Filtering out the year value from the date by splitting the date on - which gives a list and then taking out the last value which is the year value\n",
        "data[\"Year\"] = data['Date'].str.split(\"-\").str[-1]\n",
        "\n",
        "#Creating a new column in Month-Year format by splitting the date by - and filtering out the second and last value from the list which belongs to month and year respectively\n",
        "data[\"Month-Year\"] = data['Date'].str.split(\"-\").str[1] + \"-\" + data['Date'].str.split(\"-\").str[-1]"
      ]
    },
    {
      "cell_type": "code",
      "execution_count": 13,
      "id": "b5582aed",
      "metadata": {
        "colab": {
          "base_uri": "https://localhost:8080/",
          "height": 542
        },
        "execution": {
          "iopub.execute_input": "2022-07-12T07:16:52.653727Z",
          "iopub.status.busy": "2022-07-12T07:16:52.652626Z",
          "iopub.status.idle": "2022-07-12T07:16:52.741917Z",
          "shell.execute_reply": "2022-07-12T07:16:52.742670Z"
        },
        "id": "b5582aed",
        "outputId": "e2724e82-dcab-4089-b50b-db7763e447ed",
        "papermill": {
          "duration": 0.125809,
          "end_time": "2022-07-12T07:16:52.742843",
          "exception": false,
          "start_time": "2022-07-12T07:16:52.617034",
          "status": "completed"
        },
        "tags": []
      },
      "outputs": [
        {
          "data": {
            "application/vnd.plotly.v1+json": {
              "config": {
                "plotlyServerURL": "https://plot.ly"
              },
              "data": [
                {
                  "alignmentgroup": "True",
                  "hovertemplate": "Month-Year=%{x}<br>Count=%{y}<br>Meter=%{marker.color}<extra></extra>",
                  "legendgroup": "",
                  "marker": {
                    "color": [
                      1921,
                      1797,
                      1793,
                      1785,
                      1724,
                      1722,
                      1699,
                      1694,
                      1670,
                      1615,
                      1591,
                      1587,
                      1576,
                      1575,
                      1570,
                      1561,
                      1560,
                      1536,
                      1527,
                      1473,
                      1472,
                      1469,
                      1437,
                      1411
                    ],
                    "coloraxis": "coloraxis",
                    "pattern": {
                      "shape": ""
                    }
                  },
                  "name": "",
                  "offsetgroup": "",
                  "orientation": "v",
                  "showlegend": false,
                  "textposition": "auto",
                  "type": "bar",
                  "x": [
                    "08-2015",
                    "01-2015",
                    "05-2015",
                    "11-2015",
                    "07-2015",
                    "03-2015",
                    "04-2015",
                    "06-2015",
                    "10-2015",
                    "05-2014",
                    "10-2014",
                    "09-2015",
                    "07-2014",
                    "08-2014",
                    "06-2014",
                    "04-2014",
                    "02-2015",
                    "12-2015",
                    "01-2014",
                    "12-2014",
                    "09-2014",
                    "11-2014",
                    "02-2014",
                    "03-2014"
                  ],
                  "xaxis": "x",
                  "y": [
                    1921,
                    1797,
                    1793,
                    1785,
                    1724,
                    1722,
                    1699,
                    1694,
                    1670,
                    1615,
                    1591,
                    1587,
                    1576,
                    1575,
                    1570,
                    1561,
                    1560,
                    1536,
                    1527,
                    1473,
                    1472,
                    1469,
                    1437,
                    1411
                  ],
                  "yaxis": "y"
                }
              ],
              "layout": {
                "barmode": "relative",
                "coloraxis": {
                  "colorbar": {
                    "title": {
                      "text": "Meter"
                    }
                  },
                  "colorscale": [
                    [
                      0,
                      "#0d0887"
                    ],
                    [
                      0.1111111111111111,
                      "#46039f"
                    ],
                    [
                      0.2222222222222222,
                      "#7201a8"
                    ],
                    [
                      0.3333333333333333,
                      "#9c179e"
                    ],
                    [
                      0.4444444444444444,
                      "#bd3786"
                    ],
                    [
                      0.5555555555555556,
                      "#d8576b"
                    ],
                    [
                      0.6666666666666666,
                      "#ed7953"
                    ],
                    [
                      0.7777777777777778,
                      "#fb9f3a"
                    ],
                    [
                      0.8888888888888888,
                      "#fdca26"
                    ],
                    [
                      1,
                      "#f0f921"
                    ]
                  ]
                },
                "legend": {
                  "tracegroupgap": 0
                },
                "margin": {
                  "t": 60
                },
                "template": {
                  "data": {
                    "bar": [
                      {
                        "error_x": {
                          "color": "#2a3f5f"
                        },
                        "error_y": {
                          "color": "#2a3f5f"
                        },
                        "marker": {
                          "line": {
                            "color": "#E5ECF6",
                            "width": 0.5
                          },
                          "pattern": {
                            "fillmode": "overlay",
                            "size": 10,
                            "solidity": 0.2
                          }
                        },
                        "type": "bar"
                      }
                    ],
                    "barpolar": [
                      {
                        "marker": {
                          "line": {
                            "color": "#E5ECF6",
                            "width": 0.5
                          },
                          "pattern": {
                            "fillmode": "overlay",
                            "size": 10,
                            "solidity": 0.2
                          }
                        },
                        "type": "barpolar"
                      }
                    ],
                    "carpet": [
                      {
                        "aaxis": {
                          "endlinecolor": "#2a3f5f",
                          "gridcolor": "white",
                          "linecolor": "white",
                          "minorgridcolor": "white",
                          "startlinecolor": "#2a3f5f"
                        },
                        "baxis": {
                          "endlinecolor": "#2a3f5f",
                          "gridcolor": "white",
                          "linecolor": "white",
                          "minorgridcolor": "white",
                          "startlinecolor": "#2a3f5f"
                        },
                        "type": "carpet"
                      }
                    ],
                    "choropleth": [
                      {
                        "colorbar": {
                          "outlinewidth": 0,
                          "ticks": ""
                        },
                        "type": "choropleth"
                      }
                    ],
                    "contour": [
                      {
                        "colorbar": {
                          "outlinewidth": 0,
                          "ticks": ""
                        },
                        "colorscale": [
                          [
                            0,
                            "#0d0887"
                          ],
                          [
                            0.1111111111111111,
                            "#46039f"
                          ],
                          [
                            0.2222222222222222,
                            "#7201a8"
                          ],
                          [
                            0.3333333333333333,
                            "#9c179e"
                          ],
                          [
                            0.4444444444444444,
                            "#bd3786"
                          ],
                          [
                            0.5555555555555556,
                            "#d8576b"
                          ],
                          [
                            0.6666666666666666,
                            "#ed7953"
                          ],
                          [
                            0.7777777777777778,
                            "#fb9f3a"
                          ],
                          [
                            0.8888888888888888,
                            "#fdca26"
                          ],
                          [
                            1,
                            "#f0f921"
                          ]
                        ],
                        "type": "contour"
                      }
                    ],
                    "contourcarpet": [
                      {
                        "colorbar": {
                          "outlinewidth": 0,
                          "ticks": ""
                        },
                        "type": "contourcarpet"
                      }
                    ],
                    "heatmap": [
                      {
                        "colorbar": {
                          "outlinewidth": 0,
                          "ticks": ""
                        },
                        "colorscale": [
                          [
                            0,
                            "#0d0887"
                          ],
                          [
                            0.1111111111111111,
                            "#46039f"
                          ],
                          [
                            0.2222222222222222,
                            "#7201a8"
                          ],
                          [
                            0.3333333333333333,
                            "#9c179e"
                          ],
                          [
                            0.4444444444444444,
                            "#bd3786"
                          ],
                          [
                            0.5555555555555556,
                            "#d8576b"
                          ],
                          [
                            0.6666666666666666,
                            "#ed7953"
                          ],
                          [
                            0.7777777777777778,
                            "#fb9f3a"
                          ],
                          [
                            0.8888888888888888,
                            "#fdca26"
                          ],
                          [
                            1,
                            "#f0f921"
                          ]
                        ],
                        "type": "heatmap"
                      }
                    ],
                    "heatmapgl": [
                      {
                        "colorbar": {
                          "outlinewidth": 0,
                          "ticks": ""
                        },
                        "colorscale": [
                          [
                            0,
                            "#0d0887"
                          ],
                          [
                            0.1111111111111111,
                            "#46039f"
                          ],
                          [
                            0.2222222222222222,
                            "#7201a8"
                          ],
                          [
                            0.3333333333333333,
                            "#9c179e"
                          ],
                          [
                            0.4444444444444444,
                            "#bd3786"
                          ],
                          [
                            0.5555555555555556,
                            "#d8576b"
                          ],
                          [
                            0.6666666666666666,
                            "#ed7953"
                          ],
                          [
                            0.7777777777777778,
                            "#fb9f3a"
                          ],
                          [
                            0.8888888888888888,
                            "#fdca26"
                          ],
                          [
                            1,
                            "#f0f921"
                          ]
                        ],
                        "type": "heatmapgl"
                      }
                    ],
                    "histogram": [
                      {
                        "marker": {
                          "pattern": {
                            "fillmode": "overlay",
                            "size": 10,
                            "solidity": 0.2
                          }
                        },
                        "type": "histogram"
                      }
                    ],
                    "histogram2d": [
                      {
                        "colorbar": {
                          "outlinewidth": 0,
                          "ticks": ""
                        },
                        "colorscale": [
                          [
                            0,
                            "#0d0887"
                          ],
                          [
                            0.1111111111111111,
                            "#46039f"
                          ],
                          [
                            0.2222222222222222,
                            "#7201a8"
                          ],
                          [
                            0.3333333333333333,
                            "#9c179e"
                          ],
                          [
                            0.4444444444444444,
                            "#bd3786"
                          ],
                          [
                            0.5555555555555556,
                            "#d8576b"
                          ],
                          [
                            0.6666666666666666,
                            "#ed7953"
                          ],
                          [
                            0.7777777777777778,
                            "#fb9f3a"
                          ],
                          [
                            0.8888888888888888,
                            "#fdca26"
                          ],
                          [
                            1,
                            "#f0f921"
                          ]
                        ],
                        "type": "histogram2d"
                      }
                    ],
                    "histogram2dcontour": [
                      {
                        "colorbar": {
                          "outlinewidth": 0,
                          "ticks": ""
                        },
                        "colorscale": [
                          [
                            0,
                            "#0d0887"
                          ],
                          [
                            0.1111111111111111,
                            "#46039f"
                          ],
                          [
                            0.2222222222222222,
                            "#7201a8"
                          ],
                          [
                            0.3333333333333333,
                            "#9c179e"
                          ],
                          [
                            0.4444444444444444,
                            "#bd3786"
                          ],
                          [
                            0.5555555555555556,
                            "#d8576b"
                          ],
                          [
                            0.6666666666666666,
                            "#ed7953"
                          ],
                          [
                            0.7777777777777778,
                            "#fb9f3a"
                          ],
                          [
                            0.8888888888888888,
                            "#fdca26"
                          ],
                          [
                            1,
                            "#f0f921"
                          ]
                        ],
                        "type": "histogram2dcontour"
                      }
                    ],
                    "mesh3d": [
                      {
                        "colorbar": {
                          "outlinewidth": 0,
                          "ticks": ""
                        },
                        "type": "mesh3d"
                      }
                    ],
                    "parcoords": [
                      {
                        "line": {
                          "colorbar": {
                            "outlinewidth": 0,
                            "ticks": ""
                          }
                        },
                        "type": "parcoords"
                      }
                    ],
                    "pie": [
                      {
                        "automargin": true,
                        "type": "pie"
                      }
                    ],
                    "scatter": [
                      {
                        "fillpattern": {
                          "fillmode": "overlay",
                          "size": 10,
                          "solidity": 0.2
                        },
                        "type": "scatter"
                      }
                    ],
                    "scatter3d": [
                      {
                        "line": {
                          "colorbar": {
                            "outlinewidth": 0,
                            "ticks": ""
                          }
                        },
                        "marker": {
                          "colorbar": {
                            "outlinewidth": 0,
                            "ticks": ""
                          }
                        },
                        "type": "scatter3d"
                      }
                    ],
                    "scattercarpet": [
                      {
                        "marker": {
                          "colorbar": {
                            "outlinewidth": 0,
                            "ticks": ""
                          }
                        },
                        "type": "scattercarpet"
                      }
                    ],
                    "scattergeo": [
                      {
                        "marker": {
                          "colorbar": {
                            "outlinewidth": 0,
                            "ticks": ""
                          }
                        },
                        "type": "scattergeo"
                      }
                    ],
                    "scattergl": [
                      {
                        "marker": {
                          "colorbar": {
                            "outlinewidth": 0,
                            "ticks": ""
                          }
                        },
                        "type": "scattergl"
                      }
                    ],
                    "scattermapbox": [
                      {
                        "marker": {
                          "colorbar": {
                            "outlinewidth": 0,
                            "ticks": ""
                          }
                        },
                        "type": "scattermapbox"
                      }
                    ],
                    "scatterpolar": [
                      {
                        "marker": {
                          "colorbar": {
                            "outlinewidth": 0,
                            "ticks": ""
                          }
                        },
                        "type": "scatterpolar"
                      }
                    ],
                    "scatterpolargl": [
                      {
                        "marker": {
                          "colorbar": {
                            "outlinewidth": 0,
                            "ticks": ""
                          }
                        },
                        "type": "scatterpolargl"
                      }
                    ],
                    "scatterternary": [
                      {
                        "marker": {
                          "colorbar": {
                            "outlinewidth": 0,
                            "ticks": ""
                          }
                        },
                        "type": "scatterternary"
                      }
                    ],
                    "surface": [
                      {
                        "colorbar": {
                          "outlinewidth": 0,
                          "ticks": ""
                        },
                        "colorscale": [
                          [
                            0,
                            "#0d0887"
                          ],
                          [
                            0.1111111111111111,
                            "#46039f"
                          ],
                          [
                            0.2222222222222222,
                            "#7201a8"
                          ],
                          [
                            0.3333333333333333,
                            "#9c179e"
                          ],
                          [
                            0.4444444444444444,
                            "#bd3786"
                          ],
                          [
                            0.5555555555555556,
                            "#d8576b"
                          ],
                          [
                            0.6666666666666666,
                            "#ed7953"
                          ],
                          [
                            0.7777777777777778,
                            "#fb9f3a"
                          ],
                          [
                            0.8888888888888888,
                            "#fdca26"
                          ],
                          [
                            1,
                            "#f0f921"
                          ]
                        ],
                        "type": "surface"
                      }
                    ],
                    "table": [
                      {
                        "cells": {
                          "fill": {
                            "color": "#EBF0F8"
                          },
                          "line": {
                            "color": "white"
                          }
                        },
                        "header": {
                          "fill": {
                            "color": "#C8D4E3"
                          },
                          "line": {
                            "color": "white"
                          }
                        },
                        "type": "table"
                      }
                    ]
                  },
                  "layout": {
                    "annotationdefaults": {
                      "arrowcolor": "#2a3f5f",
                      "arrowhead": 0,
                      "arrowwidth": 1
                    },
                    "autotypenumbers": "strict",
                    "coloraxis": {
                      "colorbar": {
                        "outlinewidth": 0,
                        "ticks": ""
                      }
                    },
                    "colorscale": {
                      "diverging": [
                        [
                          0,
                          "#8e0152"
                        ],
                        [
                          0.1,
                          "#c51b7d"
                        ],
                        [
                          0.2,
                          "#de77ae"
                        ],
                        [
                          0.3,
                          "#f1b6da"
                        ],
                        [
                          0.4,
                          "#fde0ef"
                        ],
                        [
                          0.5,
                          "#f7f7f7"
                        ],
                        [
                          0.6,
                          "#e6f5d0"
                        ],
                        [
                          0.7,
                          "#b8e186"
                        ],
                        [
                          0.8,
                          "#7fbc41"
                        ],
                        [
                          0.9,
                          "#4d9221"
                        ],
                        [
                          1,
                          "#276419"
                        ]
                      ],
                      "sequential": [
                        [
                          0,
                          "#0d0887"
                        ],
                        [
                          0.1111111111111111,
                          "#46039f"
                        ],
                        [
                          0.2222222222222222,
                          "#7201a8"
                        ],
                        [
                          0.3333333333333333,
                          "#9c179e"
                        ],
                        [
                          0.4444444444444444,
                          "#bd3786"
                        ],
                        [
                          0.5555555555555556,
                          "#d8576b"
                        ],
                        [
                          0.6666666666666666,
                          "#ed7953"
                        ],
                        [
                          0.7777777777777778,
                          "#fb9f3a"
                        ],
                        [
                          0.8888888888888888,
                          "#fdca26"
                        ],
                        [
                          1,
                          "#f0f921"
                        ]
                      ],
                      "sequentialminus": [
                        [
                          0,
                          "#0d0887"
                        ],
                        [
                          0.1111111111111111,
                          "#46039f"
                        ],
                        [
                          0.2222222222222222,
                          "#7201a8"
                        ],
                        [
                          0.3333333333333333,
                          "#9c179e"
                        ],
                        [
                          0.4444444444444444,
                          "#bd3786"
                        ],
                        [
                          0.5555555555555556,
                          "#d8576b"
                        ],
                        [
                          0.6666666666666666,
                          "#ed7953"
                        ],
                        [
                          0.7777777777777778,
                          "#fb9f3a"
                        ],
                        [
                          0.8888888888888888,
                          "#fdca26"
                        ],
                        [
                          1,
                          "#f0f921"
                        ]
                      ]
                    },
                    "colorway": [
                      "#636efa",
                      "#EF553B",
                      "#00cc96",
                      "#ab63fa",
                      "#FFA15A",
                      "#19d3f3",
                      "#FF6692",
                      "#B6E880",
                      "#FF97FF",
                      "#FECB52"
                    ],
                    "font": {
                      "color": "#2a3f5f"
                    },
                    "geo": {
                      "bgcolor": "white",
                      "lakecolor": "white",
                      "landcolor": "#E5ECF6",
                      "showlakes": true,
                      "showland": true,
                      "subunitcolor": "white"
                    },
                    "hoverlabel": {
                      "align": "left"
                    },
                    "hovermode": "closest",
                    "mapbox": {
                      "style": "light"
                    },
                    "paper_bgcolor": "white",
                    "plot_bgcolor": "#E5ECF6",
                    "polar": {
                      "angularaxis": {
                        "gridcolor": "white",
                        "linecolor": "white",
                        "ticks": ""
                      },
                      "bgcolor": "#E5ECF6",
                      "radialaxis": {
                        "gridcolor": "white",
                        "linecolor": "white",
                        "ticks": ""
                      }
                    },
                    "scene": {
                      "xaxis": {
                        "backgroundcolor": "#E5ECF6",
                        "gridcolor": "white",
                        "gridwidth": 2,
                        "linecolor": "white",
                        "showbackground": true,
                        "ticks": "",
                        "zerolinecolor": "white"
                      },
                      "yaxis": {
                        "backgroundcolor": "#E5ECF6",
                        "gridcolor": "white",
                        "gridwidth": 2,
                        "linecolor": "white",
                        "showbackground": true,
                        "ticks": "",
                        "zerolinecolor": "white"
                      },
                      "zaxis": {
                        "backgroundcolor": "#E5ECF6",
                        "gridcolor": "white",
                        "gridwidth": 2,
                        "linecolor": "white",
                        "showbackground": true,
                        "ticks": "",
                        "zerolinecolor": "white"
                      }
                    },
                    "shapedefaults": {
                      "line": {
                        "color": "#2a3f5f"
                      }
                    },
                    "ternary": {
                      "aaxis": {
                        "gridcolor": "white",
                        "linecolor": "white",
                        "ticks": ""
                      },
                      "baxis": {
                        "gridcolor": "white",
                        "linecolor": "white",
                        "ticks": ""
                      },
                      "bgcolor": "#E5ECF6",
                      "caxis": {
                        "gridcolor": "white",
                        "linecolor": "white",
                        "ticks": ""
                      }
                    },
                    "title": {
                      "x": 0.05
                    },
                    "xaxis": {
                      "automargin": true,
                      "gridcolor": "white",
                      "linecolor": "white",
                      "ticks": "",
                      "title": {
                        "standoff": 15
                      },
                      "zerolinecolor": "white",
                      "zerolinewidth": 2
                    },
                    "yaxis": {
                      "automargin": true,
                      "gridcolor": "white",
                      "linecolor": "white",
                      "ticks": "",
                      "title": {
                        "standoff": 15
                      },
                      "zerolinecolor": "white",
                      "zerolinewidth": 2
                    }
                  }
                },
                "title": {
                  "text": "Exploring highest sales by  date"
                },
                "xaxis": {
                  "anchor": "y",
                  "domain": [
                    0,
                    1
                  ],
                  "title": {
                    "text": "Month-Year"
                  }
                },
                "yaxis": {
                  "anchor": "x",
                  "domain": [
                    0,
                    1
                  ],
                  "title": {
                    "text": "Count"
                  }
                }
              }
            }
          },
          "metadata": {},
          "output_type": "display_data"
        }
      ],
      "source": [
        "#Plotting a bar graph with number of sales in each  month of each year\n",
        "fig1 = px.bar(data[\"Month-Year\"].value_counts(ascending=False),\n",
        "              orientation= \"v\",\n",
        "              color = data[\"Month-Year\"].value_counts(ascending=False),\n",
        "\n",
        "               labels={'value':'Count', 'index':'Date','color':'Meter'})\n",
        "\n",
        "fig1.update_layout(title_text=\"Exploring highest sales by  date\")\n",
        "\n",
        "fig1.show()"
      ]
    },
    {
      "cell_type": "markdown",
      "id": "9c77694a",
      "metadata": {
        "id": "9c77694a",
        "papermill": {
          "duration": 0.032594,
          "end_time": "2022-07-12T07:16:52.808833",
          "exception": false,
          "start_time": "2022-07-12T07:16:52.776239",
          "status": "completed"
        },
        "tags": []
      },
      "source": [
        "We can see that most of the sales is during the months of August and september and the least sales take place in February and March."
      ]
    },
    {
      "cell_type": "markdown",
      "id": "9f607222",
      "metadata": {
        "id": "9f607222",
        "papermill": {
          "duration": 0.033342,
          "end_time": "2022-07-12T07:16:52.876285",
          "exception": false,
          "start_time": "2022-07-12T07:16:52.842943",
          "status": "completed"
        },
        "tags": []
      },
      "source": [
        "Implementation of Apriori Algorithm"
      ]
    },
    {
      "cell_type": "markdown",
      "id": "45429ff0",
      "metadata": {
        "id": "45429ff0",
        "papermill": {
          "duration": 0.032783,
          "end_time": "2022-07-12T07:16:52.942264",
          "exception": false,
          "start_time": "2022-07-12T07:16:52.909481",
          "status": "completed"
        },
        "tags": []
      },
      "source": [
        "Creating a list of names of unique products present in the itemDescription column"
      ]
    },
    {
      "cell_type": "code",
      "execution_count": 14,
      "id": "532ca6d3",
      "metadata": {
        "execution": {
          "iopub.execute_input": "2022-07-12T07:16:53.013116Z",
          "iopub.status.busy": "2022-07-12T07:16:53.012103Z",
          "iopub.status.idle": "2022-07-12T07:16:53.019513Z",
          "shell.execute_reply": "2022-07-12T07:16:53.020077Z"
        },
        "id": "532ca6d3",
        "papermill": {
          "duration": 0.044065,
          "end_time": "2022-07-12T07:16:53.020260",
          "exception": false,
          "start_time": "2022-07-12T07:16:52.976195",
          "status": "completed"
        },
        "tags": []
      },
      "outputs": [],
      "source": [
        "products = data['itemDescription'].unique()"
      ]
    },
    {
      "cell_type": "code",
      "execution_count": 15,
      "id": "zy5549EG-Vx9",
      "metadata": {
        "colab": {
          "base_uri": "https://localhost:8080/"
        },
        "id": "zy5549EG-Vx9",
        "outputId": "2ff13ce5-d181-4feb-b7b7-d1f632bb9b84"
      },
      "outputs": [
        {
          "data": {
            "text/plain": [
              "167"
            ]
          },
          "execution_count": 15,
          "metadata": {},
          "output_type": "execute_result"
        }
      ],
      "source": [
        "len(products)"
      ]
    },
    {
      "cell_type": "code",
      "execution_count": 16,
      "id": "8eb77092",
      "metadata": {
        "colab": {
          "base_uri": "https://localhost:8080/"
        },
        "execution": {
          "iopub.execute_input": "2022-07-12T07:16:53.091823Z",
          "iopub.status.busy": "2022-07-12T07:16:53.090859Z",
          "iopub.status.idle": "2022-07-12T07:16:53.096477Z",
          "shell.execute_reply": "2022-07-12T07:16:53.097005Z"
        },
        "id": "8eb77092",
        "outputId": "3e96d20c-ed21-4975-fa85-34f1cda597cd",
        "papermill": {
          "duration": 0.042234,
          "end_time": "2022-07-12T07:16:53.097181",
          "exception": false,
          "start_time": "2022-07-12T07:16:53.054947",
          "status": "completed"
        },
        "scrolled": true,
        "tags": []
      },
      "outputs": [
        {
          "data": {
            "text/plain": [
              "array(['tropical fruit', 'whole milk', 'pip fruit', 'other vegetables',\n",
              "       'rolls/buns', 'pot plants', 'citrus fruit', 'beef', 'frankfurter',\n",
              "       'chicken'], dtype=object)"
            ]
          },
          "execution_count": 16,
          "metadata": {},
          "output_type": "execute_result"
        }
      ],
      "source": [
        "products[:10]"
      ]
    },
    {
      "cell_type": "markdown",
      "id": "747074a3",
      "metadata": {
        "id": "747074a3",
        "papermill": {
          "duration": 0.033981,
          "end_time": "2022-07-12T07:16:53.166307",
          "exception": false,
          "start_time": "2022-07-12T07:16:53.132326",
          "status": "completed"
        },
        "tags": []
      },
      "source": [
        "### One hot encoding"
      ]
    },
    {
      "cell_type": "code",
      "execution_count": 17,
      "id": "ad80a5d1",
      "metadata": {
        "colab": {
          "base_uri": "https://localhost:8080/",
          "height": 464
        },
        "execution": {
          "iopub.execute_input": "2022-07-12T07:16:53.237598Z",
          "iopub.status.busy": "2022-07-12T07:16:53.236695Z",
          "iopub.status.idle": "2022-07-12T07:16:53.320287Z",
          "shell.execute_reply": "2022-07-12T07:16:53.320755Z"
        },
        "id": "ad80a5d1",
        "outputId": "74a37758-26a6-4803-c58b-2df499ca3f6e",
        "papermill": {
          "duration": 0.121253,
          "end_time": "2022-07-12T07:16:53.320922",
          "exception": false,
          "start_time": "2022-07-12T07:16:53.199669",
          "status": "completed"
        },
        "tags": []
      },
      "outputs": [
        {
          "data": {
            "text/html": [
              "<div>\n",
              "<style scoped>\n",
              "    .dataframe tbody tr th:only-of-type {\n",
              "        vertical-align: middle;\n",
              "    }\n",
              "\n",
              "    .dataframe tbody tr th {\n",
              "        vertical-align: top;\n",
              "    }\n",
              "\n",
              "    .dataframe thead th {\n",
              "        text-align: right;\n",
              "    }\n",
              "</style>\n",
              "<table border=\"1\" class=\"dataframe\">\n",
              "  <thead>\n",
              "    <tr style=\"text-align: right;\">\n",
              "      <th></th>\n",
              "      <th>Member_number</th>\n",
              "      <th>Date</th>\n",
              "      <th>Year</th>\n",
              "      <th>Month-Year</th>\n",
              "      <th>Instant food products</th>\n",
              "      <th>UHT-milk</th>\n",
              "      <th>abrasive cleaner</th>\n",
              "      <th>artif. sweetener</th>\n",
              "      <th>baby cosmetics</th>\n",
              "      <th>bags</th>\n",
              "      <th>...</th>\n",
              "      <th>turkey</th>\n",
              "      <th>vinegar</th>\n",
              "      <th>waffles</th>\n",
              "      <th>whipped/sour cream</th>\n",
              "      <th>whisky</th>\n",
              "      <th>white bread</th>\n",
              "      <th>white wine</th>\n",
              "      <th>whole milk</th>\n",
              "      <th>yogurt</th>\n",
              "      <th>zwieback</th>\n",
              "    </tr>\n",
              "  </thead>\n",
              "  <tbody>\n",
              "    <tr>\n",
              "      <th>0</th>\n",
              "      <td>1808</td>\n",
              "      <td>21-07-2015</td>\n",
              "      <td>2015</td>\n",
              "      <td>07-2015</td>\n",
              "      <td>False</td>\n",
              "      <td>False</td>\n",
              "      <td>False</td>\n",
              "      <td>False</td>\n",
              "      <td>False</td>\n",
              "      <td>False</td>\n",
              "      <td>...</td>\n",
              "      <td>False</td>\n",
              "      <td>False</td>\n",
              "      <td>False</td>\n",
              "      <td>False</td>\n",
              "      <td>False</td>\n",
              "      <td>False</td>\n",
              "      <td>False</td>\n",
              "      <td>False</td>\n",
              "      <td>False</td>\n",
              "      <td>False</td>\n",
              "    </tr>\n",
              "    <tr>\n",
              "      <th>1</th>\n",
              "      <td>2552</td>\n",
              "      <td>05-01-2015</td>\n",
              "      <td>2015</td>\n",
              "      <td>01-2015</td>\n",
              "      <td>False</td>\n",
              "      <td>False</td>\n",
              "      <td>False</td>\n",
              "      <td>False</td>\n",
              "      <td>False</td>\n",
              "      <td>False</td>\n",
              "      <td>...</td>\n",
              "      <td>False</td>\n",
              "      <td>False</td>\n",
              "      <td>False</td>\n",
              "      <td>False</td>\n",
              "      <td>False</td>\n",
              "      <td>False</td>\n",
              "      <td>False</td>\n",
              "      <td>True</td>\n",
              "      <td>False</td>\n",
              "      <td>False</td>\n",
              "    </tr>\n",
              "    <tr>\n",
              "      <th>2</th>\n",
              "      <td>2300</td>\n",
              "      <td>19-09-2015</td>\n",
              "      <td>2015</td>\n",
              "      <td>09-2015</td>\n",
              "      <td>False</td>\n",
              "      <td>False</td>\n",
              "      <td>False</td>\n",
              "      <td>False</td>\n",
              "      <td>False</td>\n",
              "      <td>False</td>\n",
              "      <td>...</td>\n",
              "      <td>False</td>\n",
              "      <td>False</td>\n",
              "      <td>False</td>\n",
              "      <td>False</td>\n",
              "      <td>False</td>\n",
              "      <td>False</td>\n",
              "      <td>False</td>\n",
              "      <td>False</td>\n",
              "      <td>False</td>\n",
              "      <td>False</td>\n",
              "    </tr>\n",
              "    <tr>\n",
              "      <th>3</th>\n",
              "      <td>1187</td>\n",
              "      <td>12-12-2015</td>\n",
              "      <td>2015</td>\n",
              "      <td>12-2015</td>\n",
              "      <td>False</td>\n",
              "      <td>False</td>\n",
              "      <td>False</td>\n",
              "      <td>False</td>\n",
              "      <td>False</td>\n",
              "      <td>False</td>\n",
              "      <td>...</td>\n",
              "      <td>False</td>\n",
              "      <td>False</td>\n",
              "      <td>False</td>\n",
              "      <td>False</td>\n",
              "      <td>False</td>\n",
              "      <td>False</td>\n",
              "      <td>False</td>\n",
              "      <td>False</td>\n",
              "      <td>False</td>\n",
              "      <td>False</td>\n",
              "    </tr>\n",
              "    <tr>\n",
              "      <th>4</th>\n",
              "      <td>3037</td>\n",
              "      <td>01-02-2015</td>\n",
              "      <td>2015</td>\n",
              "      <td>02-2015</td>\n",
              "      <td>False</td>\n",
              "      <td>False</td>\n",
              "      <td>False</td>\n",
              "      <td>False</td>\n",
              "      <td>False</td>\n",
              "      <td>False</td>\n",
              "      <td>...</td>\n",
              "      <td>False</td>\n",
              "      <td>False</td>\n",
              "      <td>False</td>\n",
              "      <td>False</td>\n",
              "      <td>False</td>\n",
              "      <td>False</td>\n",
              "      <td>False</td>\n",
              "      <td>True</td>\n",
              "      <td>False</td>\n",
              "      <td>False</td>\n",
              "    </tr>\n",
              "  </tbody>\n",
              "</table>\n",
              "<p>5 rows × 171 columns</p>\n",
              "</div>"
            ],
            "text/plain": [
              "   Member_number        Date  Year Month-Year  Instant food products  \\\n",
              "0           1808  21-07-2015  2015    07-2015                  False   \n",
              "1           2552  05-01-2015  2015    01-2015                  False   \n",
              "2           2300  19-09-2015  2015    09-2015                  False   \n",
              "3           1187  12-12-2015  2015    12-2015                  False   \n",
              "4           3037  01-02-2015  2015    02-2015                  False   \n",
              "\n",
              "   UHT-milk  abrasive cleaner  artif. sweetener  baby cosmetics   bags  ...  \\\n",
              "0     False             False             False           False  False  ...   \n",
              "1     False             False             False           False  False  ...   \n",
              "2     False             False             False           False  False  ...   \n",
              "3     False             False             False           False  False  ...   \n",
              "4     False             False             False           False  False  ...   \n",
              "\n",
              "   turkey  vinegar  waffles  whipped/sour cream  whisky  white bread  \\\n",
              "0   False    False    False               False   False        False   \n",
              "1   False    False    False               False   False        False   \n",
              "2   False    False    False               False   False        False   \n",
              "3   False    False    False               False   False        False   \n",
              "4   False    False    False               False   False        False   \n",
              "\n",
              "   white wine  whole milk  yogurt  zwieback  \n",
              "0       False       False   False     False  \n",
              "1       False        True   False     False  \n",
              "2       False       False   False     False  \n",
              "3       False       False   False     False  \n",
              "4       False        True   False     False  \n",
              "\n",
              "[5 rows x 171 columns]"
            ]
          },
          "execution_count": 17,
          "metadata": {},
          "output_type": "execute_result"
        }
      ],
      "source": [
        "#For modelling and finding the relationship between products we need to be working with numerical values, so let's one hot encode the products\n",
        "data1=data.copy()\n",
        "one_hot = pd.get_dummies(data1['itemDescription'])\n",
        "data1.drop(['itemDescription'], inplace =True, axis=1)\n",
        "\n",
        "data1 = data1.join(one_hot)\n",
        "\n",
        "data1.head()"
      ]
    },
    {
      "cell_type": "markdown",
      "id": "-raX4Gd9-hQf",
      "metadata": {
        "id": "-raX4Gd9-hQf"
      },
      "source": [
        "#Group the data based on Member_number and then by date and computing the sum by products using the products in the earlier created project list."
      ]
    },
    {
      "cell_type": "code",
      "execution_count": 18,
      "id": "c0c87ee1",
      "metadata": {
        "colab": {
          "base_uri": "https://localhost:8080/",
          "height": 346
        },
        "execution": {
          "iopub.execute_input": "2022-07-12T07:16:53.468495Z",
          "iopub.status.busy": "2022-07-12T07:16:53.467573Z",
          "iopub.status.idle": "2022-07-12T07:16:53.762354Z",
          "shell.execute_reply": "2022-07-12T07:16:53.762816Z"
        },
        "id": "c0c87ee1",
        "outputId": "db7b8305-c656-4622-ed2a-4d04b62ce0b1",
        "papermill": {
          "duration": 0.332491,
          "end_time": "2022-07-12T07:16:53.762982",
          "exception": false,
          "start_time": "2022-07-12T07:16:53.430491",
          "status": "completed"
        },
        "tags": []
      },
      "outputs": [
        {
          "data": {
            "text/html": [
              "<div>\n",
              "<style scoped>\n",
              "    .dataframe tbody tr th:only-of-type {\n",
              "        vertical-align: middle;\n",
              "    }\n",
              "\n",
              "    .dataframe tbody tr th {\n",
              "        vertical-align: top;\n",
              "    }\n",
              "\n",
              "    .dataframe thead th {\n",
              "        text-align: right;\n",
              "    }\n",
              "</style>\n",
              "<table border=\"1\" class=\"dataframe\">\n",
              "  <thead>\n",
              "    <tr style=\"text-align: right;\">\n",
              "      <th></th>\n",
              "      <th></th>\n",
              "      <th>tropical fruit</th>\n",
              "      <th>whole milk</th>\n",
              "      <th>pip fruit</th>\n",
              "      <th>other vegetables</th>\n",
              "      <th>rolls/buns</th>\n",
              "      <th>pot plants</th>\n",
              "      <th>citrus fruit</th>\n",
              "      <th>beef</th>\n",
              "      <th>frankfurter</th>\n",
              "      <th>chicken</th>\n",
              "      <th>...</th>\n",
              "      <th>flower (seeds)</th>\n",
              "      <th>rice</th>\n",
              "      <th>tea</th>\n",
              "      <th>salad dressing</th>\n",
              "      <th>specialty vegetables</th>\n",
              "      <th>pudding powder</th>\n",
              "      <th>ready soups</th>\n",
              "      <th>make up remover</th>\n",
              "      <th>toilet cleaner</th>\n",
              "      <th>preservation products</th>\n",
              "    </tr>\n",
              "    <tr>\n",
              "      <th>Member_number</th>\n",
              "      <th>Date</th>\n",
              "      <th></th>\n",
              "      <th></th>\n",
              "      <th></th>\n",
              "      <th></th>\n",
              "      <th></th>\n",
              "      <th></th>\n",
              "      <th></th>\n",
              "      <th></th>\n",
              "      <th></th>\n",
              "      <th></th>\n",
              "      <th></th>\n",
              "      <th></th>\n",
              "      <th></th>\n",
              "      <th></th>\n",
              "      <th></th>\n",
              "      <th></th>\n",
              "      <th></th>\n",
              "      <th></th>\n",
              "      <th></th>\n",
              "      <th></th>\n",
              "      <th></th>\n",
              "    </tr>\n",
              "  </thead>\n",
              "  <tbody>\n",
              "    <tr>\n",
              "      <th rowspan=\"3\" valign=\"top\">1000</th>\n",
              "      <th>15-03-2015</th>\n",
              "      <td>0</td>\n",
              "      <td>1</td>\n",
              "      <td>0</td>\n",
              "      <td>0</td>\n",
              "      <td>0</td>\n",
              "      <td>0</td>\n",
              "      <td>0</td>\n",
              "      <td>0</td>\n",
              "      <td>0</td>\n",
              "      <td>0</td>\n",
              "      <td>...</td>\n",
              "      <td>0</td>\n",
              "      <td>0</td>\n",
              "      <td>0</td>\n",
              "      <td>0</td>\n",
              "      <td>0</td>\n",
              "      <td>0</td>\n",
              "      <td>0</td>\n",
              "      <td>0</td>\n",
              "      <td>0</td>\n",
              "      <td>0</td>\n",
              "    </tr>\n",
              "    <tr>\n",
              "      <th>24-06-2014</th>\n",
              "      <td>0</td>\n",
              "      <td>1</td>\n",
              "      <td>0</td>\n",
              "      <td>0</td>\n",
              "      <td>0</td>\n",
              "      <td>0</td>\n",
              "      <td>0</td>\n",
              "      <td>0</td>\n",
              "      <td>0</td>\n",
              "      <td>0</td>\n",
              "      <td>...</td>\n",
              "      <td>0</td>\n",
              "      <td>0</td>\n",
              "      <td>0</td>\n",
              "      <td>0</td>\n",
              "      <td>0</td>\n",
              "      <td>0</td>\n",
              "      <td>0</td>\n",
              "      <td>0</td>\n",
              "      <td>0</td>\n",
              "      <td>0</td>\n",
              "    </tr>\n",
              "    <tr>\n",
              "      <th>24-07-2015</th>\n",
              "      <td>0</td>\n",
              "      <td>0</td>\n",
              "      <td>0</td>\n",
              "      <td>0</td>\n",
              "      <td>0</td>\n",
              "      <td>0</td>\n",
              "      <td>0</td>\n",
              "      <td>0</td>\n",
              "      <td>0</td>\n",
              "      <td>0</td>\n",
              "      <td>...</td>\n",
              "      <td>0</td>\n",
              "      <td>0</td>\n",
              "      <td>0</td>\n",
              "      <td>0</td>\n",
              "      <td>0</td>\n",
              "      <td>0</td>\n",
              "      <td>0</td>\n",
              "      <td>0</td>\n",
              "      <td>0</td>\n",
              "      <td>0</td>\n",
              "    </tr>\n",
              "  </tbody>\n",
              "</table>\n",
              "<p>3 rows × 167 columns</p>\n",
              "</div>"
            ],
            "text/plain": [
              "                          tropical fruit  whole milk  pip fruit  \\\n",
              "Member_number Date                                                \n",
              "1000          15-03-2015               0           1          0   \n",
              "              24-06-2014               0           1          0   \n",
              "              24-07-2015               0           0          0   \n",
              "\n",
              "                          other vegetables  rolls/buns  pot plants  \\\n",
              "Member_number Date                                                   \n",
              "1000          15-03-2015                 0           0           0   \n",
              "              24-06-2014                 0           0           0   \n",
              "              24-07-2015                 0           0           0   \n",
              "\n",
              "                          citrus fruit  beef  frankfurter  chicken  ...  \\\n",
              "Member_number Date                                                  ...   \n",
              "1000          15-03-2015             0     0            0        0  ...   \n",
              "              24-06-2014             0     0            0        0  ...   \n",
              "              24-07-2015             0     0            0        0  ...   \n",
              "\n",
              "                          flower (seeds)  rice  tea  salad dressing  \\\n",
              "Member_number Date                                                    \n",
              "1000          15-03-2015               0     0    0               0   \n",
              "              24-06-2014               0     0    0               0   \n",
              "              24-07-2015               0     0    0               0   \n",
              "\n",
              "                          specialty vegetables  pudding powder  ready soups  \\\n",
              "Member_number Date                                                            \n",
              "1000          15-03-2015                     0               0            0   \n",
              "              24-06-2014                     0               0            0   \n",
              "              24-07-2015                     0               0            0   \n",
              "\n",
              "                          make up remover  toilet cleaner  \\\n",
              "Member_number Date                                          \n",
              "1000          15-03-2015                0               0   \n",
              "              24-06-2014                0               0   \n",
              "              24-07-2015                0               0   \n",
              "\n",
              "                          preservation products  \n",
              "Member_number Date                               \n",
              "1000          15-03-2015                      0  \n",
              "              24-06-2014                      0  \n",
              "              24-07-2015                      0  \n",
              "\n",
              "[3 rows x 167 columns]"
            ]
          },
          "execution_count": 18,
          "metadata": {},
          "output_type": "execute_result"
        }
      ],
      "source": [
        "data2 = data1.groupby(['Member_number', 'Date'])[products[:]].sum()\n",
        "\n",
        "data2.head(3)"
      ]
    },
    {
      "cell_type": "code",
      "execution_count": 19,
      "id": "6021ed26",
      "metadata": {
        "colab": {
          "base_uri": "https://localhost:8080/",
          "height": 273
        },
        "execution": {
          "iopub.execute_input": "2022-07-12T07:16:53.837301Z",
          "iopub.status.busy": "2022-07-12T07:16:53.836384Z",
          "iopub.status.idle": "2022-07-12T07:16:53.856239Z",
          "shell.execute_reply": "2022-07-12T07:16:53.855556Z"
        },
        "id": "6021ed26",
        "outputId": "7175a6f6-ed8b-407b-9bf5-99585bcf76e8",
        "papermill": {
          "duration": 0.057967,
          "end_time": "2022-07-12T07:16:53.856382",
          "exception": false,
          "start_time": "2022-07-12T07:16:53.798415",
          "status": "completed"
        },
        "scrolled": true,
        "tags": []
      },
      "outputs": [
        {
          "data": {
            "text/html": [
              "<div>\n",
              "<style scoped>\n",
              "    .dataframe tbody tr th:only-of-type {\n",
              "        vertical-align: middle;\n",
              "    }\n",
              "\n",
              "    .dataframe tbody tr th {\n",
              "        vertical-align: top;\n",
              "    }\n",
              "\n",
              "    .dataframe thead th {\n",
              "        text-align: right;\n",
              "    }\n",
              "</style>\n",
              "<table border=\"1\" class=\"dataframe\">\n",
              "  <thead>\n",
              "    <tr style=\"text-align: right;\">\n",
              "      <th></th>\n",
              "      <th>tropical fruit</th>\n",
              "      <th>whole milk</th>\n",
              "      <th>pip fruit</th>\n",
              "      <th>other vegetables</th>\n",
              "      <th>rolls/buns</th>\n",
              "      <th>pot plants</th>\n",
              "      <th>citrus fruit</th>\n",
              "      <th>beef</th>\n",
              "      <th>frankfurter</th>\n",
              "      <th>chicken</th>\n",
              "      <th>...</th>\n",
              "      <th>flower (seeds)</th>\n",
              "      <th>rice</th>\n",
              "      <th>tea</th>\n",
              "      <th>salad dressing</th>\n",
              "      <th>specialty vegetables</th>\n",
              "      <th>pudding powder</th>\n",
              "      <th>ready soups</th>\n",
              "      <th>make up remover</th>\n",
              "      <th>toilet cleaner</th>\n",
              "      <th>preservation products</th>\n",
              "    </tr>\n",
              "  </thead>\n",
              "  <tbody>\n",
              "    <tr>\n",
              "      <th>0</th>\n",
              "      <td>0</td>\n",
              "      <td>1</td>\n",
              "      <td>0</td>\n",
              "      <td>0</td>\n",
              "      <td>0</td>\n",
              "      <td>0</td>\n",
              "      <td>0</td>\n",
              "      <td>0</td>\n",
              "      <td>0</td>\n",
              "      <td>0</td>\n",
              "      <td>...</td>\n",
              "      <td>0</td>\n",
              "      <td>0</td>\n",
              "      <td>0</td>\n",
              "      <td>0</td>\n",
              "      <td>0</td>\n",
              "      <td>0</td>\n",
              "      <td>0</td>\n",
              "      <td>0</td>\n",
              "      <td>0</td>\n",
              "      <td>0</td>\n",
              "    </tr>\n",
              "    <tr>\n",
              "      <th>1</th>\n",
              "      <td>0</td>\n",
              "      <td>1</td>\n",
              "      <td>0</td>\n",
              "      <td>0</td>\n",
              "      <td>0</td>\n",
              "      <td>0</td>\n",
              "      <td>0</td>\n",
              "      <td>0</td>\n",
              "      <td>0</td>\n",
              "      <td>0</td>\n",
              "      <td>...</td>\n",
              "      <td>0</td>\n",
              "      <td>0</td>\n",
              "      <td>0</td>\n",
              "      <td>0</td>\n",
              "      <td>0</td>\n",
              "      <td>0</td>\n",
              "      <td>0</td>\n",
              "      <td>0</td>\n",
              "      <td>0</td>\n",
              "      <td>0</td>\n",
              "    </tr>\n",
              "    <tr>\n",
              "      <th>2</th>\n",
              "      <td>0</td>\n",
              "      <td>0</td>\n",
              "      <td>0</td>\n",
              "      <td>0</td>\n",
              "      <td>0</td>\n",
              "      <td>0</td>\n",
              "      <td>0</td>\n",
              "      <td>0</td>\n",
              "      <td>0</td>\n",
              "      <td>0</td>\n",
              "      <td>...</td>\n",
              "      <td>0</td>\n",
              "      <td>0</td>\n",
              "      <td>0</td>\n",
              "      <td>0</td>\n",
              "      <td>0</td>\n",
              "      <td>0</td>\n",
              "      <td>0</td>\n",
              "      <td>0</td>\n",
              "      <td>0</td>\n",
              "      <td>0</td>\n",
              "    </tr>\n",
              "    <tr>\n",
              "      <th>3</th>\n",
              "      <td>0</td>\n",
              "      <td>0</td>\n",
              "      <td>0</td>\n",
              "      <td>0</td>\n",
              "      <td>0</td>\n",
              "      <td>0</td>\n",
              "      <td>0</td>\n",
              "      <td>0</td>\n",
              "      <td>0</td>\n",
              "      <td>0</td>\n",
              "      <td>...</td>\n",
              "      <td>0</td>\n",
              "      <td>0</td>\n",
              "      <td>0</td>\n",
              "      <td>0</td>\n",
              "      <td>0</td>\n",
              "      <td>0</td>\n",
              "      <td>0</td>\n",
              "      <td>0</td>\n",
              "      <td>0</td>\n",
              "      <td>0</td>\n",
              "    </tr>\n",
              "    <tr>\n",
              "      <th>4</th>\n",
              "      <td>0</td>\n",
              "      <td>0</td>\n",
              "      <td>0</td>\n",
              "      <td>0</td>\n",
              "      <td>0</td>\n",
              "      <td>0</td>\n",
              "      <td>0</td>\n",
              "      <td>0</td>\n",
              "      <td>0</td>\n",
              "      <td>0</td>\n",
              "      <td>...</td>\n",
              "      <td>0</td>\n",
              "      <td>0</td>\n",
              "      <td>0</td>\n",
              "      <td>0</td>\n",
              "      <td>0</td>\n",
              "      <td>0</td>\n",
              "      <td>0</td>\n",
              "      <td>0</td>\n",
              "      <td>0</td>\n",
              "      <td>0</td>\n",
              "    </tr>\n",
              "  </tbody>\n",
              "</table>\n",
              "<p>5 rows × 167 columns</p>\n",
              "</div>"
            ],
            "text/plain": [
              "   tropical fruit  whole milk  pip fruit  other vegetables  rolls/buns  \\\n",
              "0               0           1          0                 0           0   \n",
              "1               0           1          0                 0           0   \n",
              "2               0           0          0                 0           0   \n",
              "3               0           0          0                 0           0   \n",
              "4               0           0          0                 0           0   \n",
              "\n",
              "   pot plants  citrus fruit  beef  frankfurter  chicken  ...  flower (seeds)  \\\n",
              "0           0             0     0            0        0  ...               0   \n",
              "1           0             0     0            0        0  ...               0   \n",
              "2           0             0     0            0        0  ...               0   \n",
              "3           0             0     0            0        0  ...               0   \n",
              "4           0             0     0            0        0  ...               0   \n",
              "\n",
              "   rice  tea  salad dressing  specialty vegetables  pudding powder  \\\n",
              "0     0    0               0                     0               0   \n",
              "1     0    0               0                     0               0   \n",
              "2     0    0               0                     0               0   \n",
              "3     0    0               0                     0               0   \n",
              "4     0    0               0                     0               0   \n",
              "\n",
              "   ready soups  make up remover  toilet cleaner  preservation products  \n",
              "0            0                0               0                      0  \n",
              "1            0                0               0                      0  \n",
              "2            0                0               0                      0  \n",
              "3            0                0               0                      0  \n",
              "4            0                0               0                      0  \n",
              "\n",
              "[5 rows x 167 columns]"
            ]
          },
          "execution_count": 19,
          "metadata": {},
          "output_type": "execute_result"
        }
      ],
      "source": [
        "#Reset the index of the newly formed dataset.\n",
        "data2 = data2.reset_index()[products]\n",
        "data2.head()"
      ]
    },
    {
      "cell_type": "markdown",
      "id": "4PMrxPRu-r0F",
      "metadata": {
        "id": "4PMrxPRu-r0F"
      },
      "source": [
        "### Create a function product_names which takes some data and for each product in the data, if the value of that product in the data is more than zero, then replace the value with the product name from the product list."
      ]
    },
    {
      "cell_type": "code",
      "execution_count": 20,
      "id": "e3f36305",
      "metadata": {
        "colab": {
          "base_uri": "https://localhost:8080/",
          "height": 285
        },
        "execution": {
          "iopub.execute_input": "2022-07-12T07:16:54.019182Z",
          "iopub.status.busy": "2022-07-12T07:16:54.018531Z",
          "iopub.status.idle": "2022-07-12T07:17:07.770086Z",
          "shell.execute_reply": "2022-07-12T07:17:07.769471Z"
        },
        "id": "e3f36305",
        "outputId": "7c4fd2b6-e6e0-469d-a141-e31c81f8ee2b",
        "papermill": {
          "duration": 13.791394,
          "end_time": "2022-07-12T07:17:07.770225",
          "exception": false,
          "start_time": "2022-07-12T07:16:53.978831",
          "status": "completed"
        },
        "tags": []
      },
      "outputs": [
        {
          "name": "stderr",
          "output_type": "stream",
          "text": [
            "C:\\Users\\ZERO Legion\\AppData\\Local\\Temp\\ipykernel_18848\\3090583398.py:4: FutureWarning:\n",
            "\n",
            "Setting an item of incompatible dtype is deprecated and will raise in a future error of pandas. Value 'whole milk' has dtype incompatible with int64, please explicitly cast to a compatible dtype first.\n",
            "\n",
            "C:\\Users\\ZERO Legion\\AppData\\Local\\Temp\\ipykernel_18848\\3090583398.py:4: FutureWarning:\n",
            "\n",
            "Setting an item of incompatible dtype is deprecated and will raise in a future error of pandas. Value 'canned beer' has dtype incompatible with int64, please explicitly cast to a compatible dtype first.\n",
            "\n",
            "C:\\Users\\ZERO Legion\\AppData\\Local\\Temp\\ipykernel_18848\\3090583398.py:4: FutureWarning:\n",
            "\n",
            "Setting an item of incompatible dtype is deprecated and will raise in a future error of pandas. Value 'sausage' has dtype incompatible with int64, please explicitly cast to a compatible dtype first.\n",
            "\n",
            "C:\\Users\\ZERO Legion\\AppData\\Local\\Temp\\ipykernel_18848\\3090583398.py:4: FutureWarning:\n",
            "\n",
            "Setting an item of incompatible dtype is deprecated and will raise in a future error of pandas. Value 'soda' has dtype incompatible with int64, please explicitly cast to a compatible dtype first.\n",
            "\n",
            "C:\\Users\\ZERO Legion\\AppData\\Local\\Temp\\ipykernel_18848\\3090583398.py:4: FutureWarning:\n",
            "\n",
            "Setting an item of incompatible dtype is deprecated and will raise in a future error of pandas. Value 'frankfurter' has dtype incompatible with int64, please explicitly cast to a compatible dtype first.\n",
            "\n",
            "C:\\Users\\ZERO Legion\\AppData\\Local\\Temp\\ipykernel_18848\\3090583398.py:4: FutureWarning:\n",
            "\n",
            "Setting an item of incompatible dtype is deprecated and will raise in a future error of pandas. Value 'beef' has dtype incompatible with int64, please explicitly cast to a compatible dtype first.\n",
            "\n",
            "C:\\Users\\ZERO Legion\\AppData\\Local\\Temp\\ipykernel_18848\\3090583398.py:4: FutureWarning:\n",
            "\n",
            "Setting an item of incompatible dtype is deprecated and will raise in a future error of pandas. Value 'other vegetables' has dtype incompatible with int64, please explicitly cast to a compatible dtype first.\n",
            "\n",
            "C:\\Users\\ZERO Legion\\AppData\\Local\\Temp\\ipykernel_18848\\3090583398.py:4: FutureWarning:\n",
            "\n",
            "Setting an item of incompatible dtype is deprecated and will raise in a future error of pandas. Value 'tropical fruit' has dtype incompatible with int64, please explicitly cast to a compatible dtype first.\n",
            "\n",
            "C:\\Users\\ZERO Legion\\AppData\\Local\\Temp\\ipykernel_18848\\3090583398.py:4: FutureWarning:\n",
            "\n",
            "Setting an item of incompatible dtype is deprecated and will raise in a future error of pandas. Value 'butter milk' has dtype incompatible with int64, please explicitly cast to a compatible dtype first.\n",
            "\n",
            "C:\\Users\\ZERO Legion\\AppData\\Local\\Temp\\ipykernel_18848\\3090583398.py:4: FutureWarning:\n",
            "\n",
            "Setting an item of incompatible dtype is deprecated and will raise in a future error of pandas. Value 'rolls/buns' has dtype incompatible with int64, please explicitly cast to a compatible dtype first.\n",
            "\n",
            "C:\\Users\\ZERO Legion\\AppData\\Local\\Temp\\ipykernel_18848\\3090583398.py:4: FutureWarning:\n",
            "\n",
            "Setting an item of incompatible dtype is deprecated and will raise in a future error of pandas. Value 'root vegetables' has dtype incompatible with int64, please explicitly cast to a compatible dtype first.\n",
            "\n",
            "C:\\Users\\ZERO Legion\\AppData\\Local\\Temp\\ipykernel_18848\\3090583398.py:4: FutureWarning:\n",
            "\n",
            "Setting an item of incompatible dtype is deprecated and will raise in a future error of pandas. Value 'frozen meals' has dtype incompatible with int64, please explicitly cast to a compatible dtype first.\n",
            "\n",
            "C:\\Users\\ZERO Legion\\AppData\\Local\\Temp\\ipykernel_18848\\3090583398.py:4: FutureWarning:\n",
            "\n",
            "Setting an item of incompatible dtype is deprecated and will raise in a future error of pandas. Value 'dish cleaner' has dtype incompatible with int64, please explicitly cast to a compatible dtype first.\n",
            "\n",
            "C:\\Users\\ZERO Legion\\AppData\\Local\\Temp\\ipykernel_18848\\3090583398.py:4: FutureWarning:\n",
            "\n",
            "Setting an item of incompatible dtype is deprecated and will raise in a future error of pandas. Value 'margarine' has dtype incompatible with int64, please explicitly cast to a compatible dtype first.\n",
            "\n",
            "C:\\Users\\ZERO Legion\\AppData\\Local\\Temp\\ipykernel_18848\\3090583398.py:4: FutureWarning:\n",
            "\n",
            "Setting an item of incompatible dtype is deprecated and will raise in a future error of pandas. Value 'shopping bags' has dtype incompatible with int64, please explicitly cast to a compatible dtype first.\n",
            "\n",
            "C:\\Users\\ZERO Legion\\AppData\\Local\\Temp\\ipykernel_18848\\3090583398.py:4: FutureWarning:\n",
            "\n",
            "Setting an item of incompatible dtype is deprecated and will raise in a future error of pandas. Value 'hamburger meat' has dtype incompatible with int64, please explicitly cast to a compatible dtype first.\n",
            "\n",
            "C:\\Users\\ZERO Legion\\AppData\\Local\\Temp\\ipykernel_18848\\3090583398.py:4: FutureWarning:\n",
            "\n",
            "Setting an item of incompatible dtype is deprecated and will raise in a future error of pandas. Value 'yogurt' has dtype incompatible with int64, please explicitly cast to a compatible dtype first.\n",
            "\n",
            "C:\\Users\\ZERO Legion\\AppData\\Local\\Temp\\ipykernel_18848\\3090583398.py:4: FutureWarning:\n",
            "\n",
            "Setting an item of incompatible dtype is deprecated and will raise in a future error of pandas. Value 'pastry' has dtype incompatible with int64, please explicitly cast to a compatible dtype first.\n",
            "\n",
            "C:\\Users\\ZERO Legion\\AppData\\Local\\Temp\\ipykernel_18848\\3090583398.py:4: FutureWarning:\n",
            "\n",
            "Setting an item of incompatible dtype is deprecated and will raise in a future error of pandas. Value 'canned fish' has dtype incompatible with int64, please explicitly cast to a compatible dtype first.\n",
            "\n",
            "C:\\Users\\ZERO Legion\\AppData\\Local\\Temp\\ipykernel_18848\\3090583398.py:4: FutureWarning:\n",
            "\n",
            "Setting an item of incompatible dtype is deprecated and will raise in a future error of pandas. Value 'pip fruit' has dtype incompatible with int64, please explicitly cast to a compatible dtype first.\n",
            "\n",
            "C:\\Users\\ZERO Legion\\AppData\\Local\\Temp\\ipykernel_18848\\3090583398.py:4: FutureWarning:\n",
            "\n",
            "Setting an item of incompatible dtype is deprecated and will raise in a future error of pandas. Value 'sliced cheese' has dtype incompatible with int64, please explicitly cast to a compatible dtype first.\n",
            "\n",
            "C:\\Users\\ZERO Legion\\AppData\\Local\\Temp\\ipykernel_18848\\3090583398.py:4: FutureWarning:\n",
            "\n",
            "Setting an item of incompatible dtype is deprecated and will raise in a future error of pandas. Value 'specialty bar' has dtype incompatible with int64, please explicitly cast to a compatible dtype first.\n",
            "\n",
            "C:\\Users\\ZERO Legion\\AppData\\Local\\Temp\\ipykernel_18848\\3090583398.py:4: FutureWarning:\n",
            "\n",
            "Setting an item of incompatible dtype is deprecated and will raise in a future error of pandas. Value 'brown bread' has dtype incompatible with int64, please explicitly cast to a compatible dtype first.\n",
            "\n",
            "C:\\Users\\ZERO Legion\\AppData\\Local\\Temp\\ipykernel_18848\\3090583398.py:4: FutureWarning:\n",
            "\n",
            "Setting an item of incompatible dtype is deprecated and will raise in a future error of pandas. Value 'meat' has dtype incompatible with int64, please explicitly cast to a compatible dtype first.\n",
            "\n",
            "C:\\Users\\ZERO Legion\\AppData\\Local\\Temp\\ipykernel_18848\\3090583398.py:4: FutureWarning:\n",
            "\n",
            "Setting an item of incompatible dtype is deprecated and will raise in a future error of pandas. Value 'bottled water' has dtype incompatible with int64, please explicitly cast to a compatible dtype first.\n",
            "\n",
            "C:\\Users\\ZERO Legion\\AppData\\Local\\Temp\\ipykernel_18848\\3090583398.py:4: FutureWarning:\n",
            "\n",
            "Setting an item of incompatible dtype is deprecated and will raise in a future error of pandas. Value 'whipped/sour cream' has dtype incompatible with int64, please explicitly cast to a compatible dtype first.\n",
            "\n",
            "C:\\Users\\ZERO Legion\\AppData\\Local\\Temp\\ipykernel_18848\\3090583398.py:4: FutureWarning:\n",
            "\n",
            "Setting an item of incompatible dtype is deprecated and will raise in a future error of pandas. Value 'bottled beer' has dtype incompatible with int64, please explicitly cast to a compatible dtype first.\n",
            "\n",
            "C:\\Users\\ZERO Legion\\AppData\\Local\\Temp\\ipykernel_18848\\3090583398.py:4: FutureWarning:\n",
            "\n",
            "Setting an item of incompatible dtype is deprecated and will raise in a future error of pandas. Value 'chicken' has dtype incompatible with int64, please explicitly cast to a compatible dtype first.\n",
            "\n",
            "C:\\Users\\ZERO Legion\\AppData\\Local\\Temp\\ipykernel_18848\\3090583398.py:4: FutureWarning:\n",
            "\n",
            "Setting an item of incompatible dtype is deprecated and will raise in a future error of pandas. Value 'curd' has dtype incompatible with int64, please explicitly cast to a compatible dtype first.\n",
            "\n",
            "C:\\Users\\ZERO Legion\\AppData\\Local\\Temp\\ipykernel_18848\\3090583398.py:4: FutureWarning:\n",
            "\n",
            "Setting an item of incompatible dtype is deprecated and will raise in a future error of pandas. Value 'beverages' has dtype incompatible with int64, please explicitly cast to a compatible dtype first.\n",
            "\n",
            "C:\\Users\\ZERO Legion\\AppData\\Local\\Temp\\ipykernel_18848\\3090583398.py:4: FutureWarning:\n",
            "\n",
            "Setting an item of incompatible dtype is deprecated and will raise in a future error of pandas. Value 'berries' has dtype incompatible with int64, please explicitly cast to a compatible dtype first.\n",
            "\n",
            "C:\\Users\\ZERO Legion\\AppData\\Local\\Temp\\ipykernel_18848\\3090583398.py:4: FutureWarning:\n",
            "\n",
            "Setting an item of incompatible dtype is deprecated and will raise in a future error of pandas. Value 'butter' has dtype incompatible with int64, please explicitly cast to a compatible dtype first.\n",
            "\n",
            "C:\\Users\\ZERO Legion\\AppData\\Local\\Temp\\ipykernel_18848\\3090583398.py:4: FutureWarning:\n",
            "\n",
            "Setting an item of incompatible dtype is deprecated and will raise in a future error of pandas. Value 'fruit/vegetable juice' has dtype incompatible with int64, please explicitly cast to a compatible dtype first.\n",
            "\n",
            "C:\\Users\\ZERO Legion\\AppData\\Local\\Temp\\ipykernel_18848\\3090583398.py:4: FutureWarning:\n",
            "\n",
            "Setting an item of incompatible dtype is deprecated and will raise in a future error of pandas. Value 'coffee' has dtype incompatible with int64, please explicitly cast to a compatible dtype first.\n",
            "\n",
            "C:\\Users\\ZERO Legion\\AppData\\Local\\Temp\\ipykernel_18848\\3090583398.py:4: FutureWarning:\n",
            "\n",
            "Setting an item of incompatible dtype is deprecated and will raise in a future error of pandas. Value 'ham' has dtype incompatible with int64, please explicitly cast to a compatible dtype first.\n",
            "\n",
            "C:\\Users\\ZERO Legion\\AppData\\Local\\Temp\\ipykernel_18848\\3090583398.py:4: FutureWarning:\n",
            "\n",
            "Setting an item of incompatible dtype is deprecated and will raise in a future error of pandas. Value 'citrus fruit' has dtype incompatible with int64, please explicitly cast to a compatible dtype first.\n",
            "\n",
            "C:\\Users\\ZERO Legion\\AppData\\Local\\Temp\\ipykernel_18848\\3090583398.py:4: FutureWarning:\n",
            "\n",
            "Setting an item of incompatible dtype is deprecated and will raise in a future error of pandas. Value 'pot plants' has dtype incompatible with int64, please explicitly cast to a compatible dtype first.\n",
            "\n",
            "C:\\Users\\ZERO Legion\\AppData\\Local\\Temp\\ipykernel_18848\\3090583398.py:4: FutureWarning:\n",
            "\n",
            "Setting an item of incompatible dtype is deprecated and will raise in a future error of pandas. Value 'ice cream' has dtype incompatible with int64, please explicitly cast to a compatible dtype first.\n",
            "\n",
            "C:\\Users\\ZERO Legion\\AppData\\Local\\Temp\\ipykernel_18848\\3090583398.py:4: FutureWarning:\n",
            "\n",
            "Setting an item of incompatible dtype is deprecated and will raise in a future error of pandas. Value 'newspapers' has dtype incompatible with int64, please explicitly cast to a compatible dtype first.\n",
            "\n",
            "C:\\Users\\ZERO Legion\\AppData\\Local\\Temp\\ipykernel_18848\\3090583398.py:4: FutureWarning:\n",
            "\n",
            "Setting an item of incompatible dtype is deprecated and will raise in a future error of pandas. Value 'dessert' has dtype incompatible with int64, please explicitly cast to a compatible dtype first.\n",
            "\n",
            "C:\\Users\\ZERO Legion\\AppData\\Local\\Temp\\ipykernel_18848\\3090583398.py:4: FutureWarning:\n",
            "\n",
            "Setting an item of incompatible dtype is deprecated and will raise in a future error of pandas. Value 'candy' has dtype incompatible with int64, please explicitly cast to a compatible dtype first.\n",
            "\n",
            "C:\\Users\\ZERO Legion\\AppData\\Local\\Temp\\ipykernel_18848\\3090583398.py:4: FutureWarning:\n",
            "\n",
            "Setting an item of incompatible dtype is deprecated and will raise in a future error of pandas. Value 'pork' has dtype incompatible with int64, please explicitly cast to a compatible dtype first.\n",
            "\n",
            "C:\\Users\\ZERO Legion\\AppData\\Local\\Temp\\ipykernel_18848\\3090583398.py:4: FutureWarning:\n",
            "\n",
            "Setting an item of incompatible dtype is deprecated and will raise in a future error of pandas. Value 'pickled vegetables' has dtype incompatible with int64, please explicitly cast to a compatible dtype first.\n",
            "\n",
            "C:\\Users\\ZERO Legion\\AppData\\Local\\Temp\\ipykernel_18848\\3090583398.py:4: FutureWarning:\n",
            "\n",
            "Setting an item of incompatible dtype is deprecated and will raise in a future error of pandas. Value 'hard cheese' has dtype incompatible with int64, please explicitly cast to a compatible dtype first.\n",
            "\n",
            "C:\\Users\\ZERO Legion\\AppData\\Local\\Temp\\ipykernel_18848\\3090583398.py:4: FutureWarning:\n",
            "\n",
            "Setting an item of incompatible dtype is deprecated and will raise in a future error of pandas. Value 'white bread' has dtype incompatible with int64, please explicitly cast to a compatible dtype first.\n",
            "\n",
            "C:\\Users\\ZERO Legion\\AppData\\Local\\Temp\\ipykernel_18848\\3090583398.py:4: FutureWarning:\n",
            "\n",
            "Setting an item of incompatible dtype is deprecated and will raise in a future error of pandas. Value 'red/blush wine' has dtype incompatible with int64, please explicitly cast to a compatible dtype first.\n",
            "\n",
            "C:\\Users\\ZERO Legion\\AppData\\Local\\Temp\\ipykernel_18848\\3090583398.py:4: FutureWarning:\n",
            "\n",
            "Setting an item of incompatible dtype is deprecated and will raise in a future error of pandas. Value 'domestic eggs' has dtype incompatible with int64, please explicitly cast to a compatible dtype first.\n",
            "\n",
            "C:\\Users\\ZERO Legion\\AppData\\Local\\Temp\\ipykernel_18848\\3090583398.py:4: FutureWarning:\n",
            "\n",
            "Setting an item of incompatible dtype is deprecated and will raise in a future error of pandas. Value 'semi-finished bread' has dtype incompatible with int64, please explicitly cast to a compatible dtype first.\n",
            "\n",
            "C:\\Users\\ZERO Legion\\AppData\\Local\\Temp\\ipykernel_18848\\3090583398.py:4: FutureWarning:\n",
            "\n",
            "Setting an item of incompatible dtype is deprecated and will raise in a future error of pandas. Value 'misc. beverages' has dtype incompatible with int64, please explicitly cast to a compatible dtype first.\n",
            "\n",
            "C:\\Users\\ZERO Legion\\AppData\\Local\\Temp\\ipykernel_18848\\3090583398.py:4: FutureWarning:\n",
            "\n",
            "Setting an item of incompatible dtype is deprecated and will raise in a future error of pandas. Value 'detergent' has dtype incompatible with int64, please explicitly cast to a compatible dtype first.\n",
            "\n",
            "C:\\Users\\ZERO Legion\\AppData\\Local\\Temp\\ipykernel_18848\\3090583398.py:4: FutureWarning:\n",
            "\n",
            "Setting an item of incompatible dtype is deprecated and will raise in a future error of pandas. Value 'UHT-milk' has dtype incompatible with int64, please explicitly cast to a compatible dtype first.\n",
            "\n",
            "C:\\Users\\ZERO Legion\\AppData\\Local\\Temp\\ipykernel_18848\\3090583398.py:4: FutureWarning:\n",
            "\n",
            "Setting an item of incompatible dtype is deprecated and will raise in a future error of pandas. Value 'specialty chocolate' has dtype incompatible with int64, please explicitly cast to a compatible dtype first.\n",
            "\n",
            "C:\\Users\\ZERO Legion\\AppData\\Local\\Temp\\ipykernel_18848\\3090583398.py:4: FutureWarning:\n",
            "\n",
            "Setting an item of incompatible dtype is deprecated and will raise in a future error of pandas. Value 'photo/film' has dtype incompatible with int64, please explicitly cast to a compatible dtype first.\n",
            "\n",
            "C:\\Users\\ZERO Legion\\AppData\\Local\\Temp\\ipykernel_18848\\3090583398.py:4: FutureWarning:\n",
            "\n",
            "Setting an item of incompatible dtype is deprecated and will raise in a future error of pandas. Value 'flour' has dtype incompatible with int64, please explicitly cast to a compatible dtype first.\n",
            "\n",
            "C:\\Users\\ZERO Legion\\AppData\\Local\\Temp\\ipykernel_18848\\3090583398.py:4: FutureWarning:\n",
            "\n",
            "Setting an item of incompatible dtype is deprecated and will raise in a future error of pandas. Value 'packaged fruit/vegetables' has dtype incompatible with int64, please explicitly cast to a compatible dtype first.\n",
            "\n",
            "C:\\Users\\ZERO Legion\\AppData\\Local\\Temp\\ipykernel_18848\\3090583398.py:4: FutureWarning:\n",
            "\n",
            "Setting an item of incompatible dtype is deprecated and will raise in a future error of pandas. Value 'white wine' has dtype incompatible with int64, please explicitly cast to a compatible dtype first.\n",
            "\n",
            "C:\\Users\\ZERO Legion\\AppData\\Local\\Temp\\ipykernel_18848\\3090583398.py:4: FutureWarning:\n",
            "\n",
            "Setting an item of incompatible dtype is deprecated and will raise in a future error of pandas. Value 'herbs' has dtype incompatible with int64, please explicitly cast to a compatible dtype first.\n",
            "\n",
            "C:\\Users\\ZERO Legion\\AppData\\Local\\Temp\\ipykernel_18848\\3090583398.py:4: FutureWarning:\n",
            "\n",
            "Setting an item of incompatible dtype is deprecated and will raise in a future error of pandas. Value 'hygiene articles' has dtype incompatible with int64, please explicitly cast to a compatible dtype first.\n",
            "\n",
            "C:\\Users\\ZERO Legion\\AppData\\Local\\Temp\\ipykernel_18848\\3090583398.py:4: FutureWarning:\n",
            "\n",
            "Setting an item of incompatible dtype is deprecated and will raise in a future error of pandas. Value 'frozen potato products' has dtype incompatible with int64, please explicitly cast to a compatible dtype first.\n",
            "\n",
            "C:\\Users\\ZERO Legion\\AppData\\Local\\Temp\\ipykernel_18848\\3090583398.py:4: FutureWarning:\n",
            "\n",
            "Setting an item of incompatible dtype is deprecated and will raise in a future error of pandas. Value 'sugar' has dtype incompatible with int64, please explicitly cast to a compatible dtype first.\n",
            "\n",
            "C:\\Users\\ZERO Legion\\AppData\\Local\\Temp\\ipykernel_18848\\3090583398.py:4: FutureWarning:\n",
            "\n",
            "Setting an item of incompatible dtype is deprecated and will raise in a future error of pandas. Value 'chocolate' has dtype incompatible with int64, please explicitly cast to a compatible dtype first.\n",
            "\n",
            "C:\\Users\\ZERO Legion\\AppData\\Local\\Temp\\ipykernel_18848\\3090583398.py:4: FutureWarning:\n",
            "\n",
            "Setting an item of incompatible dtype is deprecated and will raise in a future error of pandas. Value 'liquor' has dtype incompatible with int64, please explicitly cast to a compatible dtype first.\n",
            "\n",
            "C:\\Users\\ZERO Legion\\AppData\\Local\\Temp\\ipykernel_18848\\3090583398.py:4: FutureWarning:\n",
            "\n",
            "Setting an item of incompatible dtype is deprecated and will raise in a future error of pandas. Value 'condensed milk' has dtype incompatible with int64, please explicitly cast to a compatible dtype first.\n",
            "\n",
            "C:\\Users\\ZERO Legion\\AppData\\Local\\Temp\\ipykernel_18848\\3090583398.py:4: FutureWarning:\n",
            "\n",
            "Setting an item of incompatible dtype is deprecated and will raise in a future error of pandas. Value 'curd cheese' has dtype incompatible with int64, please explicitly cast to a compatible dtype first.\n",
            "\n",
            "C:\\Users\\ZERO Legion\\AppData\\Local\\Temp\\ipykernel_18848\\3090583398.py:4: FutureWarning:\n",
            "\n",
            "Setting an item of incompatible dtype is deprecated and will raise in a future error of pandas. Value 'frozen vegetables' has dtype incompatible with int64, please explicitly cast to a compatible dtype first.\n",
            "\n",
            "C:\\Users\\ZERO Legion\\AppData\\Local\\Temp\\ipykernel_18848\\3090583398.py:4: FutureWarning:\n",
            "\n",
            "Setting an item of incompatible dtype is deprecated and will raise in a future error of pandas. Value 'cleaner' has dtype incompatible with int64, please explicitly cast to a compatible dtype first.\n",
            "\n",
            "C:\\Users\\ZERO Legion\\AppData\\Local\\Temp\\ipykernel_18848\\3090583398.py:4: FutureWarning:\n",
            "\n",
            "Setting an item of incompatible dtype is deprecated and will raise in a future error of pandas. Value 'napkins' has dtype incompatible with int64, please explicitly cast to a compatible dtype first.\n",
            "\n",
            "C:\\Users\\ZERO Legion\\AppData\\Local\\Temp\\ipykernel_18848\\3090583398.py:4: FutureWarning:\n",
            "\n",
            "Setting an item of incompatible dtype is deprecated and will raise in a future error of pandas. Value 'pasta' has dtype incompatible with int64, please explicitly cast to a compatible dtype first.\n",
            "\n",
            "C:\\Users\\ZERO Legion\\AppData\\Local\\Temp\\ipykernel_18848\\3090583398.py:4: FutureWarning:\n",
            "\n",
            "Setting an item of incompatible dtype is deprecated and will raise in a future error of pandas. Value 'sparkling wine' has dtype incompatible with int64, please explicitly cast to a compatible dtype first.\n",
            "\n",
            "C:\\Users\\ZERO Legion\\AppData\\Local\\Temp\\ipykernel_18848\\3090583398.py:4: FutureWarning:\n",
            "\n",
            "Setting an item of incompatible dtype is deprecated and will raise in a future error of pandas. Value 'finished products' has dtype incompatible with int64, please explicitly cast to a compatible dtype first.\n",
            "\n",
            "C:\\Users\\ZERO Legion\\AppData\\Local\\Temp\\ipykernel_18848\\3090583398.py:4: FutureWarning:\n",
            "\n",
            "Setting an item of incompatible dtype is deprecated and will raise in a future error of pandas. Value 'waffles' has dtype incompatible with int64, please explicitly cast to a compatible dtype first.\n",
            "\n",
            "C:\\Users\\ZERO Legion\\AppData\\Local\\Temp\\ipykernel_18848\\3090583398.py:4: FutureWarning:\n",
            "\n",
            "Setting an item of incompatible dtype is deprecated and will raise in a future error of pandas. Value 'turkey' has dtype incompatible with int64, please explicitly cast to a compatible dtype first.\n",
            "\n",
            "C:\\Users\\ZERO Legion\\AppData\\Local\\Temp\\ipykernel_18848\\3090583398.py:4: FutureWarning:\n",
            "\n",
            "Setting an item of incompatible dtype is deprecated and will raise in a future error of pandas. Value 'processed cheese' has dtype incompatible with int64, please explicitly cast to a compatible dtype first.\n",
            "\n",
            "C:\\Users\\ZERO Legion\\AppData\\Local\\Temp\\ipykernel_18848\\3090583398.py:4: FutureWarning:\n",
            "\n",
            "Setting an item of incompatible dtype is deprecated and will raise in a future error of pandas. Value 'onions' has dtype incompatible with int64, please explicitly cast to a compatible dtype first.\n",
            "\n",
            "C:\\Users\\ZERO Legion\\AppData\\Local\\Temp\\ipykernel_18848\\3090583398.py:4: FutureWarning:\n",
            "\n",
            "Setting an item of incompatible dtype is deprecated and will raise in a future error of pandas. Value 'cream cheese ' has dtype incompatible with int64, please explicitly cast to a compatible dtype first.\n",
            "\n",
            "C:\\Users\\ZERO Legion\\AppData\\Local\\Temp\\ipykernel_18848\\3090583398.py:4: FutureWarning:\n",
            "\n",
            "Setting an item of incompatible dtype is deprecated and will raise in a future error of pandas. Value 'oil' has dtype incompatible with int64, please explicitly cast to a compatible dtype first.\n",
            "\n",
            "C:\\Users\\ZERO Legion\\AppData\\Local\\Temp\\ipykernel_18848\\3090583398.py:4: FutureWarning:\n",
            "\n",
            "Setting an item of incompatible dtype is deprecated and will raise in a future error of pandas. Value 'flower soil/fertilizer' has dtype incompatible with int64, please explicitly cast to a compatible dtype first.\n",
            "\n",
            "C:\\Users\\ZERO Legion\\AppData\\Local\\Temp\\ipykernel_18848\\3090583398.py:4: FutureWarning:\n",
            "\n",
            "Setting an item of incompatible dtype is deprecated and will raise in a future error of pandas. Value 'fish' has dtype incompatible with int64, please explicitly cast to a compatible dtype first.\n",
            "\n",
            "C:\\Users\\ZERO Legion\\AppData\\Local\\Temp\\ipykernel_18848\\3090583398.py:4: FutureWarning:\n",
            "\n",
            "Setting an item of incompatible dtype is deprecated and will raise in a future error of pandas. Value 'salty snack' has dtype incompatible with int64, please explicitly cast to a compatible dtype first.\n",
            "\n",
            "C:\\Users\\ZERO Legion\\AppData\\Local\\Temp\\ipykernel_18848\\3090583398.py:4: FutureWarning:\n",
            "\n",
            "Setting an item of incompatible dtype is deprecated and will raise in a future error of pandas. Value 'soft cheese' has dtype incompatible with int64, please explicitly cast to a compatible dtype first.\n",
            "\n",
            "C:\\Users\\ZERO Legion\\AppData\\Local\\Temp\\ipykernel_18848\\3090583398.py:4: FutureWarning:\n",
            "\n",
            "Setting an item of incompatible dtype is deprecated and will raise in a future error of pandas. Value 'canned vegetables' has dtype incompatible with int64, please explicitly cast to a compatible dtype first.\n",
            "\n",
            "C:\\Users\\ZERO Legion\\AppData\\Local\\Temp\\ipykernel_18848\\3090583398.py:4: FutureWarning:\n",
            "\n",
            "Setting an item of incompatible dtype is deprecated and will raise in a future error of pandas. Value 'cling film/bags' has dtype incompatible with int64, please explicitly cast to a compatible dtype first.\n",
            "\n",
            "C:\\Users\\ZERO Legion\\AppData\\Local\\Temp\\ipykernel_18848\\3090583398.py:4: FutureWarning:\n",
            "\n",
            "Setting an item of incompatible dtype is deprecated and will raise in a future error of pandas. Value 'grapes' has dtype incompatible with int64, please explicitly cast to a compatible dtype first.\n",
            "\n",
            "C:\\Users\\ZERO Legion\\AppData\\Local\\Temp\\ipykernel_18848\\3090583398.py:4: FutureWarning:\n",
            "\n",
            "Setting an item of incompatible dtype is deprecated and will raise in a future error of pandas. Value 'chewing gum' has dtype incompatible with int64, please explicitly cast to a compatible dtype first.\n",
            "\n",
            "C:\\Users\\ZERO Legion\\AppData\\Local\\Temp\\ipykernel_18848\\3090583398.py:4: FutureWarning:\n",
            "\n",
            "Setting an item of incompatible dtype is deprecated and will raise in a future error of pandas. Value 'long life bakery product' has dtype incompatible with int64, please explicitly cast to a compatible dtype first.\n",
            "\n",
            "C:\\Users\\ZERO Legion\\AppData\\Local\\Temp\\ipykernel_18848\\3090583398.py:4: FutureWarning:\n",
            "\n",
            "Setting an item of incompatible dtype is deprecated and will raise in a future error of pandas. Value 'cat food' has dtype incompatible with int64, please explicitly cast to a compatible dtype first.\n",
            "\n",
            "C:\\Users\\ZERO Legion\\AppData\\Local\\Temp\\ipykernel_18848\\3090583398.py:4: FutureWarning:\n",
            "\n",
            "Setting an item of incompatible dtype is deprecated and will raise in a future error of pandas. Value 'soups' has dtype incompatible with int64, please explicitly cast to a compatible dtype first.\n",
            "\n",
            "C:\\Users\\ZERO Legion\\AppData\\Local\\Temp\\ipykernel_18848\\3090583398.py:4: FutureWarning:\n",
            "\n",
            "Setting an item of incompatible dtype is deprecated and will raise in a future error of pandas. Value 'instant coffee' has dtype incompatible with int64, please explicitly cast to a compatible dtype first.\n",
            "\n",
            "C:\\Users\\ZERO Legion\\AppData\\Local\\Temp\\ipykernel_18848\\3090583398.py:4: FutureWarning:\n",
            "\n",
            "Setting an item of incompatible dtype is deprecated and will raise in a future error of pandas. Value 'frozen fish' has dtype incompatible with int64, please explicitly cast to a compatible dtype first.\n",
            "\n",
            "C:\\Users\\ZERO Legion\\AppData\\Local\\Temp\\ipykernel_18848\\3090583398.py:4: FutureWarning:\n",
            "\n",
            "Setting an item of incompatible dtype is deprecated and will raise in a future error of pandas. Value 'vinegar' has dtype incompatible with int64, please explicitly cast to a compatible dtype first.\n",
            "\n",
            "C:\\Users\\ZERO Legion\\AppData\\Local\\Temp\\ipykernel_18848\\3090583398.py:4: FutureWarning:\n",
            "\n",
            "Setting an item of incompatible dtype is deprecated and will raise in a future error of pandas. Value 'specialty cheese' has dtype incompatible with int64, please explicitly cast to a compatible dtype first.\n",
            "\n",
            "C:\\Users\\ZERO Legion\\AppData\\Local\\Temp\\ipykernel_18848\\3090583398.py:4: FutureWarning:\n",
            "\n",
            "Setting an item of incompatible dtype is deprecated and will raise in a future error of pandas. Value 'zwieback' has dtype incompatible with int64, please explicitly cast to a compatible dtype first.\n",
            "\n",
            "C:\\Users\\ZERO Legion\\AppData\\Local\\Temp\\ipykernel_18848\\3090583398.py:4: FutureWarning:\n",
            "\n",
            "Setting an item of incompatible dtype is deprecated and will raise in a future error of pandas. Value 'dog food' has dtype incompatible with int64, please explicitly cast to a compatible dtype first.\n",
            "\n",
            "C:\\Users\\ZERO Legion\\AppData\\Local\\Temp\\ipykernel_18848\\3090583398.py:4: FutureWarning:\n",
            "\n",
            "Setting an item of incompatible dtype is deprecated and will raise in a future error of pandas. Value 'liquor (appetizer)' has dtype incompatible with int64, please explicitly cast to a compatible dtype first.\n",
            "\n",
            "C:\\Users\\ZERO Legion\\AppData\\Local\\Temp\\ipykernel_18848\\3090583398.py:4: FutureWarning:\n",
            "\n",
            "Setting an item of incompatible dtype is deprecated and will raise in a future error of pandas. Value 'spread cheese' has dtype incompatible with int64, please explicitly cast to a compatible dtype first.\n",
            "\n",
            "C:\\Users\\ZERO Legion\\AppData\\Local\\Temp\\ipykernel_18848\\3090583398.py:4: FutureWarning:\n",
            "\n",
            "Setting an item of incompatible dtype is deprecated and will raise in a future error of pandas. Value 'mustard' has dtype incompatible with int64, please explicitly cast to a compatible dtype first.\n",
            "\n",
            "C:\\Users\\ZERO Legion\\AppData\\Local\\Temp\\ipykernel_18848\\3090583398.py:4: FutureWarning:\n",
            "\n",
            "Setting an item of incompatible dtype is deprecated and will raise in a future error of pandas. Value 'popcorn' has dtype incompatible with int64, please explicitly cast to a compatible dtype first.\n",
            "\n",
            "C:\\Users\\ZERO Legion\\AppData\\Local\\Temp\\ipykernel_18848\\3090583398.py:4: FutureWarning:\n",
            "\n",
            "Setting an item of incompatible dtype is deprecated and will raise in a future error of pandas. Value 'cake bar' has dtype incompatible with int64, please explicitly cast to a compatible dtype first.\n",
            "\n",
            "C:\\Users\\ZERO Legion\\AppData\\Local\\Temp\\ipykernel_18848\\3090583398.py:4: FutureWarning:\n",
            "\n",
            "Setting an item of incompatible dtype is deprecated and will raise in a future error of pandas. Value 'roll products ' has dtype incompatible with int64, please explicitly cast to a compatible dtype first.\n",
            "\n",
            "C:\\Users\\ZERO Legion\\AppData\\Local\\Temp\\ipykernel_18848\\3090583398.py:4: FutureWarning:\n",
            "\n",
            "Setting an item of incompatible dtype is deprecated and will raise in a future error of pandas. Value 'salt' has dtype incompatible with int64, please explicitly cast to a compatible dtype first.\n",
            "\n",
            "C:\\Users\\ZERO Legion\\AppData\\Local\\Temp\\ipykernel_18848\\3090583398.py:4: FutureWarning:\n",
            "\n",
            "Setting an item of incompatible dtype is deprecated and will raise in a future error of pandas. Value 'jam' has dtype incompatible with int64, please explicitly cast to a compatible dtype first.\n",
            "\n",
            "C:\\Users\\ZERO Legion\\AppData\\Local\\Temp\\ipykernel_18848\\3090583398.py:4: FutureWarning:\n",
            "\n",
            "Setting an item of incompatible dtype is deprecated and will raise in a future error of pandas. Value 'Instant food products' has dtype incompatible with int64, please explicitly cast to a compatible dtype first.\n",
            "\n",
            "C:\\Users\\ZERO Legion\\AppData\\Local\\Temp\\ipykernel_18848\\3090583398.py:4: FutureWarning:\n",
            "\n",
            "Setting an item of incompatible dtype is deprecated and will raise in a future error of pandas. Value 'pet care' has dtype incompatible with int64, please explicitly cast to a compatible dtype first.\n",
            "\n",
            "C:\\Users\\ZERO Legion\\AppData\\Local\\Temp\\ipykernel_18848\\3090583398.py:4: FutureWarning:\n",
            "\n",
            "Setting an item of incompatible dtype is deprecated and will raise in a future error of pandas. Value 'seasonal products' has dtype incompatible with int64, please explicitly cast to a compatible dtype first.\n",
            "\n",
            "C:\\Users\\ZERO Legion\\AppData\\Local\\Temp\\ipykernel_18848\\3090583398.py:4: FutureWarning:\n",
            "\n",
            "Setting an item of incompatible dtype is deprecated and will raise in a future error of pandas. Value 'female sanitary products' has dtype incompatible with int64, please explicitly cast to a compatible dtype first.\n",
            "\n",
            "C:\\Users\\ZERO Legion\\AppData\\Local\\Temp\\ipykernel_18848\\3090583398.py:4: FutureWarning:\n",
            "\n",
            "Setting an item of incompatible dtype is deprecated and will raise in a future error of pandas. Value 'house keeping products' has dtype incompatible with int64, please explicitly cast to a compatible dtype first.\n",
            "\n",
            "C:\\Users\\ZERO Legion\\AppData\\Local\\Temp\\ipykernel_18848\\3090583398.py:4: FutureWarning:\n",
            "\n",
            "Setting an item of incompatible dtype is deprecated and will raise in a future error of pandas. Value 'cookware' has dtype incompatible with int64, please explicitly cast to a compatible dtype first.\n",
            "\n",
            "C:\\Users\\ZERO Legion\\AppData\\Local\\Temp\\ipykernel_18848\\3090583398.py:4: FutureWarning:\n",
            "\n",
            "Setting an item of incompatible dtype is deprecated and will raise in a future error of pandas. Value 'potato products' has dtype incompatible with int64, please explicitly cast to a compatible dtype first.\n",
            "\n",
            "C:\\Users\\ZERO Legion\\AppData\\Local\\Temp\\ipykernel_18848\\3090583398.py:4: FutureWarning:\n",
            "\n",
            "Setting an item of incompatible dtype is deprecated and will raise in a future error of pandas. Value 'baking powder' has dtype incompatible with int64, please explicitly cast to a compatible dtype first.\n",
            "\n",
            "C:\\Users\\ZERO Legion\\AppData\\Local\\Temp\\ipykernel_18848\\3090583398.py:4: FutureWarning:\n",
            "\n",
            "Setting an item of incompatible dtype is deprecated and will raise in a future error of pandas. Value 'spices' has dtype incompatible with int64, please explicitly cast to a compatible dtype first.\n",
            "\n",
            "C:\\Users\\ZERO Legion\\AppData\\Local\\Temp\\ipykernel_18848\\3090583398.py:4: FutureWarning:\n",
            "\n",
            "Setting an item of incompatible dtype is deprecated and will raise in a future error of pandas. Value 'soap' has dtype incompatible with int64, please explicitly cast to a compatible dtype first.\n",
            "\n",
            "C:\\Users\\ZERO Legion\\AppData\\Local\\Temp\\ipykernel_18848\\3090583398.py:4: FutureWarning:\n",
            "\n",
            "Setting an item of incompatible dtype is deprecated and will raise in a future error of pandas. Value 'liver loaf' has dtype incompatible with int64, please explicitly cast to a compatible dtype first.\n",
            "\n",
            "C:\\Users\\ZERO Legion\\AppData\\Local\\Temp\\ipykernel_18848\\3090583398.py:4: FutureWarning:\n",
            "\n",
            "Setting an item of incompatible dtype is deprecated and will raise in a future error of pandas. Value 'chocolate marshmallow' has dtype incompatible with int64, please explicitly cast to a compatible dtype first.\n",
            "\n",
            "C:\\Users\\ZERO Legion\\AppData\\Local\\Temp\\ipykernel_18848\\3090583398.py:4: FutureWarning:\n",
            "\n",
            "Setting an item of incompatible dtype is deprecated and will raise in a future error of pandas. Value 'light bulbs' has dtype incompatible with int64, please explicitly cast to a compatible dtype first.\n",
            "\n",
            "C:\\Users\\ZERO Legion\\AppData\\Local\\Temp\\ipykernel_18848\\3090583398.py:4: FutureWarning:\n",
            "\n",
            "Setting an item of incompatible dtype is deprecated and will raise in a future error of pandas. Value 'brandy' has dtype incompatible with int64, please explicitly cast to a compatible dtype first.\n",
            "\n",
            "C:\\Users\\ZERO Legion\\AppData\\Local\\Temp\\ipykernel_18848\\3090583398.py:4: FutureWarning:\n",
            "\n",
            "Setting an item of incompatible dtype is deprecated and will raise in a future error of pandas. Value 'meat spreads' has dtype incompatible with int64, please explicitly cast to a compatible dtype first.\n",
            "\n",
            "C:\\Users\\ZERO Legion\\AppData\\Local\\Temp\\ipykernel_18848\\3090583398.py:4: FutureWarning:\n",
            "\n",
            "Setting an item of incompatible dtype is deprecated and will raise in a future error of pandas. Value 'frozen dessert' has dtype incompatible with int64, please explicitly cast to a compatible dtype first.\n",
            "\n",
            "C:\\Users\\ZERO Legion\\AppData\\Local\\Temp\\ipykernel_18848\\3090583398.py:4: FutureWarning:\n",
            "\n",
            "Setting an item of incompatible dtype is deprecated and will raise in a future error of pandas. Value 'sweet spreads' has dtype incompatible with int64, please explicitly cast to a compatible dtype first.\n",
            "\n",
            "C:\\Users\\ZERO Legion\\AppData\\Local\\Temp\\ipykernel_18848\\3090583398.py:4: FutureWarning:\n",
            "\n",
            "Setting an item of incompatible dtype is deprecated and will raise in a future error of pandas. Value 'decalcifier' has dtype incompatible with int64, please explicitly cast to a compatible dtype first.\n",
            "\n",
            "C:\\Users\\ZERO Legion\\AppData\\Local\\Temp\\ipykernel_18848\\3090583398.py:4: FutureWarning:\n",
            "\n",
            "Setting an item of incompatible dtype is deprecated and will raise in a future error of pandas. Value 'flower (seeds)' has dtype incompatible with int64, please explicitly cast to a compatible dtype first.\n",
            "\n",
            "C:\\Users\\ZERO Legion\\AppData\\Local\\Temp\\ipykernel_18848\\3090583398.py:4: FutureWarning:\n",
            "\n",
            "Setting an item of incompatible dtype is deprecated and will raise in a future error of pandas. Value 'hair spray' has dtype incompatible with int64, please explicitly cast to a compatible dtype first.\n",
            "\n",
            "C:\\Users\\ZERO Legion\\AppData\\Local\\Temp\\ipykernel_18848\\3090583398.py:4: FutureWarning:\n",
            "\n",
            "Setting an item of incompatible dtype is deprecated and will raise in a future error of pandas. Value 'mayonnaise' has dtype incompatible with int64, please explicitly cast to a compatible dtype first.\n",
            "\n",
            "C:\\Users\\ZERO Legion\\AppData\\Local\\Temp\\ipykernel_18848\\3090583398.py:4: FutureWarning:\n",
            "\n",
            "Setting an item of incompatible dtype is deprecated and will raise in a future error of pandas. Value 'nuts/prunes' has dtype incompatible with int64, please explicitly cast to a compatible dtype first.\n",
            "\n",
            "C:\\Users\\ZERO Legion\\AppData\\Local\\Temp\\ipykernel_18848\\3090583398.py:4: FutureWarning:\n",
            "\n",
            "Setting an item of incompatible dtype is deprecated and will raise in a future error of pandas. Value 'frozen fruits' has dtype incompatible with int64, please explicitly cast to a compatible dtype first.\n",
            "\n",
            "C:\\Users\\ZERO Legion\\AppData\\Local\\Temp\\ipykernel_18848\\3090583398.py:4: FutureWarning:\n",
            "\n",
            "Setting an item of incompatible dtype is deprecated and will raise in a future error of pandas. Value 'rum' has dtype incompatible with int64, please explicitly cast to a compatible dtype first.\n",
            "\n",
            "C:\\Users\\ZERO Legion\\AppData\\Local\\Temp\\ipykernel_18848\\3090583398.py:4: FutureWarning:\n",
            "\n",
            "Setting an item of incompatible dtype is deprecated and will raise in a future error of pandas. Value 'honey' has dtype incompatible with int64, please explicitly cast to a compatible dtype first.\n",
            "\n"
          ]
        },
        {
          "data": {
            "text/html": [
              "<div>\n",
              "<style scoped>\n",
              "    .dataframe tbody tr th:only-of-type {\n",
              "        vertical-align: middle;\n",
              "    }\n",
              "\n",
              "    .dataframe tbody tr th {\n",
              "        vertical-align: top;\n",
              "    }\n",
              "\n",
              "    .dataframe thead th {\n",
              "        text-align: right;\n",
              "    }\n",
              "</style>\n",
              "<table border=\"1\" class=\"dataframe\">\n",
              "  <thead>\n",
              "    <tr style=\"text-align: right;\">\n",
              "      <th></th>\n",
              "      <th>tropical fruit</th>\n",
              "      <th>whole milk</th>\n",
              "      <th>pip fruit</th>\n",
              "      <th>other vegetables</th>\n",
              "      <th>rolls/buns</th>\n",
              "      <th>pot plants</th>\n",
              "      <th>citrus fruit</th>\n",
              "      <th>beef</th>\n",
              "      <th>frankfurter</th>\n",
              "      <th>chicken</th>\n",
              "      <th>...</th>\n",
              "      <th>flower (seeds)</th>\n",
              "      <th>rice</th>\n",
              "      <th>tea</th>\n",
              "      <th>salad dressing</th>\n",
              "      <th>specialty vegetables</th>\n",
              "      <th>pudding powder</th>\n",
              "      <th>ready soups</th>\n",
              "      <th>make up remover</th>\n",
              "      <th>toilet cleaner</th>\n",
              "      <th>preservation products</th>\n",
              "    </tr>\n",
              "  </thead>\n",
              "  <tbody>\n",
              "    <tr>\n",
              "      <th>0</th>\n",
              "      <td>0</td>\n",
              "      <td>whole milk</td>\n",
              "      <td>0</td>\n",
              "      <td>0</td>\n",
              "      <td>0</td>\n",
              "      <td>0</td>\n",
              "      <td>0</td>\n",
              "      <td>0</td>\n",
              "      <td>0</td>\n",
              "      <td>0</td>\n",
              "      <td>...</td>\n",
              "      <td>0</td>\n",
              "      <td>0</td>\n",
              "      <td>0</td>\n",
              "      <td>0</td>\n",
              "      <td>0</td>\n",
              "      <td>0</td>\n",
              "      <td>0</td>\n",
              "      <td>0</td>\n",
              "      <td>0</td>\n",
              "      <td>0</td>\n",
              "    </tr>\n",
              "    <tr>\n",
              "      <th>1</th>\n",
              "      <td>0</td>\n",
              "      <td>whole milk</td>\n",
              "      <td>0</td>\n",
              "      <td>0</td>\n",
              "      <td>0</td>\n",
              "      <td>0</td>\n",
              "      <td>0</td>\n",
              "      <td>0</td>\n",
              "      <td>0</td>\n",
              "      <td>0</td>\n",
              "      <td>...</td>\n",
              "      <td>0</td>\n",
              "      <td>0</td>\n",
              "      <td>0</td>\n",
              "      <td>0</td>\n",
              "      <td>0</td>\n",
              "      <td>0</td>\n",
              "      <td>0</td>\n",
              "      <td>0</td>\n",
              "      <td>0</td>\n",
              "      <td>0</td>\n",
              "    </tr>\n",
              "    <tr>\n",
              "      <th>2</th>\n",
              "      <td>0</td>\n",
              "      <td>0</td>\n",
              "      <td>0</td>\n",
              "      <td>0</td>\n",
              "      <td>0</td>\n",
              "      <td>0</td>\n",
              "      <td>0</td>\n",
              "      <td>0</td>\n",
              "      <td>0</td>\n",
              "      <td>0</td>\n",
              "      <td>...</td>\n",
              "      <td>0</td>\n",
              "      <td>0</td>\n",
              "      <td>0</td>\n",
              "      <td>0</td>\n",
              "      <td>0</td>\n",
              "      <td>0</td>\n",
              "      <td>0</td>\n",
              "      <td>0</td>\n",
              "      <td>0</td>\n",
              "      <td>0</td>\n",
              "    </tr>\n",
              "    <tr>\n",
              "      <th>3</th>\n",
              "      <td>0</td>\n",
              "      <td>0</td>\n",
              "      <td>0</td>\n",
              "      <td>0</td>\n",
              "      <td>0</td>\n",
              "      <td>0</td>\n",
              "      <td>0</td>\n",
              "      <td>0</td>\n",
              "      <td>0</td>\n",
              "      <td>0</td>\n",
              "      <td>...</td>\n",
              "      <td>0</td>\n",
              "      <td>0</td>\n",
              "      <td>0</td>\n",
              "      <td>0</td>\n",
              "      <td>0</td>\n",
              "      <td>0</td>\n",
              "      <td>0</td>\n",
              "      <td>0</td>\n",
              "      <td>0</td>\n",
              "      <td>0</td>\n",
              "    </tr>\n",
              "    <tr>\n",
              "      <th>4</th>\n",
              "      <td>0</td>\n",
              "      <td>0</td>\n",
              "      <td>0</td>\n",
              "      <td>0</td>\n",
              "      <td>0</td>\n",
              "      <td>0</td>\n",
              "      <td>0</td>\n",
              "      <td>0</td>\n",
              "      <td>0</td>\n",
              "      <td>0</td>\n",
              "      <td>...</td>\n",
              "      <td>0</td>\n",
              "      <td>0</td>\n",
              "      <td>0</td>\n",
              "      <td>0</td>\n",
              "      <td>0</td>\n",
              "      <td>0</td>\n",
              "      <td>0</td>\n",
              "      <td>0</td>\n",
              "      <td>0</td>\n",
              "      <td>0</td>\n",
              "    </tr>\n",
              "  </tbody>\n",
              "</table>\n",
              "<p>5 rows × 167 columns</p>\n",
              "</div>"
            ],
            "text/plain": [
              "  tropical fruit  whole milk pip fruit other vegetables rolls/buns pot plants  \\\n",
              "0              0  whole milk         0                0          0          0   \n",
              "1              0  whole milk         0                0          0          0   \n",
              "2              0           0         0                0          0          0   \n",
              "3              0           0         0                0          0          0   \n",
              "4              0           0         0                0          0          0   \n",
              "\n",
              "  citrus fruit beef frankfurter chicken  ... flower (seeds) rice tea  \\\n",
              "0            0    0           0       0  ...              0    0   0   \n",
              "1            0    0           0       0  ...              0    0   0   \n",
              "2            0    0           0       0  ...              0    0   0   \n",
              "3            0    0           0       0  ...              0    0   0   \n",
              "4            0    0           0       0  ...              0    0   0   \n",
              "\n",
              "  salad dressing specialty vegetables pudding powder ready soups  \\\n",
              "0              0                    0              0           0   \n",
              "1              0                    0              0           0   \n",
              "2              0                    0              0           0   \n",
              "3              0                    0              0           0   \n",
              "4              0                    0              0           0   \n",
              "\n",
              "  make up remover toilet cleaner preservation products  \n",
              "0               0              0                     0  \n",
              "1               0              0                     0  \n",
              "2               0              0                     0  \n",
              "3               0              0                     0  \n",
              "4               0              0                     0  \n",
              "\n",
              "[5 rows x 167 columns]"
            ]
          },
          "execution_count": 20,
          "metadata": {},
          "output_type": "execute_result"
        }
      ],
      "source": [
        "def product_names(x):\n",
        "    for product in products:\n",
        "        if x[product] >0:\n",
        "            x[product] = product\n",
        "    return x\n",
        "#Apply the created function on data2 dataset.\n",
        "data2 = data2.apply(product_names, axis=1)\n",
        "data2.head()"
      ]
    },
    {
      "cell_type": "code",
      "execution_count": 21,
      "id": "hDkC1cBa_Zfu",
      "metadata": {
        "colab": {
          "base_uri": "https://localhost:8080/",
          "height": 908
        },
        "id": "hDkC1cBa_Zfu",
        "outputId": "d3c18827-bffe-45c7-d1c9-aa455ba3229d"
      },
      "outputs": [
        {
          "data": {
            "text/html": [
              "<div>\n",
              "<style scoped>\n",
              "    .dataframe tbody tr th:only-of-type {\n",
              "        vertical-align: middle;\n",
              "    }\n",
              "\n",
              "    .dataframe tbody tr th {\n",
              "        vertical-align: top;\n",
              "    }\n",
              "\n",
              "    .dataframe thead th {\n",
              "        text-align: right;\n",
              "    }\n",
              "</style>\n",
              "<table border=\"1\" class=\"dataframe\">\n",
              "  <thead>\n",
              "    <tr style=\"text-align: right;\">\n",
              "      <th></th>\n",
              "      <th>tropical fruit</th>\n",
              "      <th>whole milk</th>\n",
              "      <th>pip fruit</th>\n",
              "      <th>other vegetables</th>\n",
              "      <th>rolls/buns</th>\n",
              "      <th>pot plants</th>\n",
              "      <th>citrus fruit</th>\n",
              "      <th>beef</th>\n",
              "      <th>frankfurter</th>\n",
              "      <th>chicken</th>\n",
              "      <th>...</th>\n",
              "      <th>flower (seeds)</th>\n",
              "      <th>rice</th>\n",
              "      <th>tea</th>\n",
              "      <th>salad dressing</th>\n",
              "      <th>specialty vegetables</th>\n",
              "      <th>pudding powder</th>\n",
              "      <th>ready soups</th>\n",
              "      <th>make up remover</th>\n",
              "      <th>toilet cleaner</th>\n",
              "      <th>preservation products</th>\n",
              "    </tr>\n",
              "  </thead>\n",
              "  <tbody>\n",
              "    <tr>\n",
              "      <th>0</th>\n",
              "      <td>0</td>\n",
              "      <td>whole milk</td>\n",
              "      <td>0</td>\n",
              "      <td>0</td>\n",
              "      <td>0</td>\n",
              "      <td>0</td>\n",
              "      <td>0</td>\n",
              "      <td>0</td>\n",
              "      <td>0</td>\n",
              "      <td>0</td>\n",
              "      <td>...</td>\n",
              "      <td>0</td>\n",
              "      <td>0</td>\n",
              "      <td>0</td>\n",
              "      <td>0</td>\n",
              "      <td>0</td>\n",
              "      <td>0</td>\n",
              "      <td>0</td>\n",
              "      <td>0</td>\n",
              "      <td>0</td>\n",
              "      <td>0</td>\n",
              "    </tr>\n",
              "    <tr>\n",
              "      <th>1</th>\n",
              "      <td>0</td>\n",
              "      <td>whole milk</td>\n",
              "      <td>0</td>\n",
              "      <td>0</td>\n",
              "      <td>0</td>\n",
              "      <td>0</td>\n",
              "      <td>0</td>\n",
              "      <td>0</td>\n",
              "      <td>0</td>\n",
              "      <td>0</td>\n",
              "      <td>...</td>\n",
              "      <td>0</td>\n",
              "      <td>0</td>\n",
              "      <td>0</td>\n",
              "      <td>0</td>\n",
              "      <td>0</td>\n",
              "      <td>0</td>\n",
              "      <td>0</td>\n",
              "      <td>0</td>\n",
              "      <td>0</td>\n",
              "      <td>0</td>\n",
              "    </tr>\n",
              "    <tr>\n",
              "      <th>2</th>\n",
              "      <td>0</td>\n",
              "      <td>0</td>\n",
              "      <td>0</td>\n",
              "      <td>0</td>\n",
              "      <td>0</td>\n",
              "      <td>0</td>\n",
              "      <td>0</td>\n",
              "      <td>0</td>\n",
              "      <td>0</td>\n",
              "      <td>0</td>\n",
              "      <td>...</td>\n",
              "      <td>0</td>\n",
              "      <td>0</td>\n",
              "      <td>0</td>\n",
              "      <td>0</td>\n",
              "      <td>0</td>\n",
              "      <td>0</td>\n",
              "      <td>0</td>\n",
              "      <td>0</td>\n",
              "      <td>0</td>\n",
              "      <td>0</td>\n",
              "    </tr>\n",
              "    <tr>\n",
              "      <th>3</th>\n",
              "      <td>0</td>\n",
              "      <td>0</td>\n",
              "      <td>0</td>\n",
              "      <td>0</td>\n",
              "      <td>0</td>\n",
              "      <td>0</td>\n",
              "      <td>0</td>\n",
              "      <td>0</td>\n",
              "      <td>0</td>\n",
              "      <td>0</td>\n",
              "      <td>...</td>\n",
              "      <td>0</td>\n",
              "      <td>0</td>\n",
              "      <td>0</td>\n",
              "      <td>0</td>\n",
              "      <td>0</td>\n",
              "      <td>0</td>\n",
              "      <td>0</td>\n",
              "      <td>0</td>\n",
              "      <td>0</td>\n",
              "      <td>0</td>\n",
              "    </tr>\n",
              "    <tr>\n",
              "      <th>4</th>\n",
              "      <td>0</td>\n",
              "      <td>0</td>\n",
              "      <td>0</td>\n",
              "      <td>0</td>\n",
              "      <td>0</td>\n",
              "      <td>0</td>\n",
              "      <td>0</td>\n",
              "      <td>0</td>\n",
              "      <td>0</td>\n",
              "      <td>0</td>\n",
              "      <td>...</td>\n",
              "      <td>0</td>\n",
              "      <td>0</td>\n",
              "      <td>0</td>\n",
              "      <td>0</td>\n",
              "      <td>0</td>\n",
              "      <td>0</td>\n",
              "      <td>0</td>\n",
              "      <td>0</td>\n",
              "      <td>0</td>\n",
              "      <td>0</td>\n",
              "    </tr>\n",
              "    <tr>\n",
              "      <th>...</th>\n",
              "      <td>...</td>\n",
              "      <td>...</td>\n",
              "      <td>...</td>\n",
              "      <td>...</td>\n",
              "      <td>...</td>\n",
              "      <td>...</td>\n",
              "      <td>...</td>\n",
              "      <td>...</td>\n",
              "      <td>...</td>\n",
              "      <td>...</td>\n",
              "      <td>...</td>\n",
              "      <td>...</td>\n",
              "      <td>...</td>\n",
              "      <td>...</td>\n",
              "      <td>...</td>\n",
              "      <td>...</td>\n",
              "      <td>...</td>\n",
              "      <td>...</td>\n",
              "      <td>...</td>\n",
              "      <td>...</td>\n",
              "      <td>...</td>\n",
              "    </tr>\n",
              "    <tr>\n",
              "      <th>14958</th>\n",
              "      <td>tropical fruit</td>\n",
              "      <td>0</td>\n",
              "      <td>0</td>\n",
              "      <td>other vegetables</td>\n",
              "      <td>0</td>\n",
              "      <td>0</td>\n",
              "      <td>0</td>\n",
              "      <td>0</td>\n",
              "      <td>0</td>\n",
              "      <td>0</td>\n",
              "      <td>...</td>\n",
              "      <td>0</td>\n",
              "      <td>0</td>\n",
              "      <td>0</td>\n",
              "      <td>0</td>\n",
              "      <td>0</td>\n",
              "      <td>0</td>\n",
              "      <td>0</td>\n",
              "      <td>0</td>\n",
              "      <td>0</td>\n",
              "      <td>0</td>\n",
              "    </tr>\n",
              "    <tr>\n",
              "      <th>14959</th>\n",
              "      <td>0</td>\n",
              "      <td>0</td>\n",
              "      <td>0</td>\n",
              "      <td>0</td>\n",
              "      <td>0</td>\n",
              "      <td>0</td>\n",
              "      <td>0</td>\n",
              "      <td>0</td>\n",
              "      <td>0</td>\n",
              "      <td>0</td>\n",
              "      <td>...</td>\n",
              "      <td>0</td>\n",
              "      <td>0</td>\n",
              "      <td>0</td>\n",
              "      <td>0</td>\n",
              "      <td>0</td>\n",
              "      <td>0</td>\n",
              "      <td>0</td>\n",
              "      <td>0</td>\n",
              "      <td>0</td>\n",
              "      <td>0</td>\n",
              "    </tr>\n",
              "    <tr>\n",
              "      <th>14960</th>\n",
              "      <td>0</td>\n",
              "      <td>0</td>\n",
              "      <td>0</td>\n",
              "      <td>0</td>\n",
              "      <td>0</td>\n",
              "      <td>0</td>\n",
              "      <td>0</td>\n",
              "      <td>0</td>\n",
              "      <td>0</td>\n",
              "      <td>0</td>\n",
              "      <td>...</td>\n",
              "      <td>0</td>\n",
              "      <td>0</td>\n",
              "      <td>0</td>\n",
              "      <td>0</td>\n",
              "      <td>0</td>\n",
              "      <td>0</td>\n",
              "      <td>0</td>\n",
              "      <td>0</td>\n",
              "      <td>0</td>\n",
              "      <td>0</td>\n",
              "    </tr>\n",
              "    <tr>\n",
              "      <th>14961</th>\n",
              "      <td>0</td>\n",
              "      <td>0</td>\n",
              "      <td>0</td>\n",
              "      <td>0</td>\n",
              "      <td>0</td>\n",
              "      <td>0</td>\n",
              "      <td>0</td>\n",
              "      <td>0</td>\n",
              "      <td>0</td>\n",
              "      <td>0</td>\n",
              "      <td>...</td>\n",
              "      <td>0</td>\n",
              "      <td>0</td>\n",
              "      <td>0</td>\n",
              "      <td>0</td>\n",
              "      <td>0</td>\n",
              "      <td>0</td>\n",
              "      <td>0</td>\n",
              "      <td>0</td>\n",
              "      <td>0</td>\n",
              "      <td>0</td>\n",
              "    </tr>\n",
              "    <tr>\n",
              "      <th>14962</th>\n",
              "      <td>0</td>\n",
              "      <td>0</td>\n",
              "      <td>0</td>\n",
              "      <td>other vegetables</td>\n",
              "      <td>0</td>\n",
              "      <td>0</td>\n",
              "      <td>0</td>\n",
              "      <td>0</td>\n",
              "      <td>0</td>\n",
              "      <td>0</td>\n",
              "      <td>...</td>\n",
              "      <td>0</td>\n",
              "      <td>0</td>\n",
              "      <td>0</td>\n",
              "      <td>0</td>\n",
              "      <td>0</td>\n",
              "      <td>0</td>\n",
              "      <td>0</td>\n",
              "      <td>0</td>\n",
              "      <td>0</td>\n",
              "      <td>0</td>\n",
              "    </tr>\n",
              "  </tbody>\n",
              "</table>\n",
              "<p>14963 rows × 167 columns</p>\n",
              "</div>"
            ],
            "text/plain": [
              "       tropical fruit  whole milk pip fruit  other vegetables rolls/buns  \\\n",
              "0                   0  whole milk         0                 0          0   \n",
              "1                   0  whole milk         0                 0          0   \n",
              "2                   0           0         0                 0          0   \n",
              "3                   0           0         0                 0          0   \n",
              "4                   0           0         0                 0          0   \n",
              "...               ...         ...       ...               ...        ...   \n",
              "14958  tropical fruit           0         0  other vegetables          0   \n",
              "14959               0           0         0                 0          0   \n",
              "14960               0           0         0                 0          0   \n",
              "14961               0           0         0                 0          0   \n",
              "14962               0           0         0  other vegetables          0   \n",
              "\n",
              "      pot plants citrus fruit beef frankfurter chicken  ... flower (seeds)  \\\n",
              "0              0            0    0           0       0  ...              0   \n",
              "1              0            0    0           0       0  ...              0   \n",
              "2              0            0    0           0       0  ...              0   \n",
              "3              0            0    0           0       0  ...              0   \n",
              "4              0            0    0           0       0  ...              0   \n",
              "...          ...          ...  ...         ...     ...  ...            ...   \n",
              "14958          0            0    0           0       0  ...              0   \n",
              "14959          0            0    0           0       0  ...              0   \n",
              "14960          0            0    0           0       0  ...              0   \n",
              "14961          0            0    0           0       0  ...              0   \n",
              "14962          0            0    0           0       0  ...              0   \n",
              "\n",
              "      rice tea salad dressing specialty vegetables pudding powder ready soups  \\\n",
              "0        0   0              0                    0              0           0   \n",
              "1        0   0              0                    0              0           0   \n",
              "2        0   0              0                    0              0           0   \n",
              "3        0   0              0                    0              0           0   \n",
              "4        0   0              0                    0              0           0   \n",
              "...    ...  ..            ...                  ...            ...         ...   \n",
              "14958    0   0              0                    0              0           0   \n",
              "14959    0   0              0                    0              0           0   \n",
              "14960    0   0              0                    0              0           0   \n",
              "14961    0   0              0                    0              0           0   \n",
              "14962    0   0              0                    0              0           0   \n",
              "\n",
              "      make up remover toilet cleaner preservation products  \n",
              "0                   0              0                     0  \n",
              "1                   0              0                     0  \n",
              "2                   0              0                     0  \n",
              "3                   0              0                     0  \n",
              "4                   0              0                     0  \n",
              "...               ...            ...                   ...  \n",
              "14958               0              0                     0  \n",
              "14959               0              0                     0  \n",
              "14960               0              0                     0  \n",
              "14961               0              0                     0  \n",
              "14962               0              0                     0  \n",
              "\n",
              "[14963 rows x 167 columns]"
            ]
          },
          "execution_count": 21,
          "metadata": {},
          "output_type": "execute_result"
        }
      ],
      "source": [
        "data2"
      ]
    },
    {
      "cell_type": "code",
      "execution_count": 22,
      "id": "ef9db12d",
      "metadata": {
        "colab": {
          "base_uri": "https://localhost:8080/"
        },
        "execution": {
          "iopub.execute_input": "2022-07-12T07:17:07.850593Z",
          "iopub.status.busy": "2022-07-12T07:17:07.849862Z",
          "iopub.status.idle": "2022-07-12T07:17:08.077054Z",
          "shell.execute_reply": "2022-07-12T07:17:08.076546Z"
        },
        "id": "ef9db12d",
        "outputId": "c6add21b-7610-4485-f8bc-f04fcb6250f0",
        "papermill": {
          "duration": 0.270294,
          "end_time": "2022-07-12T07:17:08.077241",
          "exception": false,
          "start_time": "2022-07-12T07:17:07.806947",
          "status": "completed"
        },
        "tags": []
      },
      "outputs": [
        {
          "data": {
            "text/plain": [
              "[['whole milk', 'yogurt', 'sausage', 'semi-finished bread'],\n",
              " ['whole milk', 'pastry', 'salty snack'],\n",
              " ['canned beer', 'misc. beverages'],\n",
              " ['sausage', 'hygiene articles'],\n",
              " ['soda', 'pickled vegetables'],\n",
              " ['frankfurter', 'curd'],\n",
              " ['whole milk', 'rolls/buns', 'sausage'],\n",
              " ['whole milk', 'soda'],\n",
              " ['beef', 'white bread'],\n",
              " ['frankfurter', 'soda', 'whipped/sour cream']]"
            ]
          },
          "execution_count": 22,
          "metadata": {},
          "output_type": "execute_result"
        }
      ],
      "source": [
        "\n",
        "#Filter out the values from the data frame data2\n",
        "x = data2.values\n",
        "#Convert into list values in each row if value is not zero\n",
        "x = [sub[~(sub==0)].tolist() for sub in x if sub [sub != 0].tolist()]\n",
        "transactions = x\n",
        "transactions[0:10]"
      ]
    },
    {
      "cell_type": "code",
      "execution_count": 23,
      "id": "Y-TZiW3k_Edm",
      "metadata": {
        "colab": {
          "base_uri": "https://localhost:8080/"
        },
        "id": "Y-TZiW3k_Edm",
        "outputId": "8b95f156-2d8e-421e-fadc-42add777547c"
      },
      "outputs": [
        {
          "data": {
            "text/plain": [
              "[['whole milk', 'yogurt', 'sausage', 'semi-finished bread'],\n",
              " ['whole milk', 'pastry', 'salty snack'],\n",
              " ['canned beer', 'misc. beverages'],\n",
              " ['sausage', 'hygiene articles'],\n",
              " ['soda', 'pickled vegetables'],\n",
              " ['frankfurter', 'curd'],\n",
              " ['whole milk', 'rolls/buns', 'sausage'],\n",
              " ['whole milk', 'soda'],\n",
              " ['beef', 'white bread'],\n",
              " ['frankfurter', 'soda', 'whipped/sour cream'],\n",
              " ['other vegetables', 'frozen vegetables'],\n",
              " ['whole milk', 'butter'],\n",
              " ['tropical fruit', 'sugar'],\n",
              " ['butter milk', 'specialty chocolate'],\n",
              " ['rolls/buns', 'sausage'],\n",
              " ['root vegetables', 'detergent'],\n",
              " ['frozen meals', 'dental care'],\n",
              " ['rolls/buns'],\n",
              " ['dish cleaner', 'cling film/bags'],\n",
              " ['canned beer', 'frozen fish'],\n",
              " ['other vegetables', 'hygiene articles'],\n",
              " ['tropical fruit', 'whole milk', 'pip fruit'],\n",
              " ['rolls/buns', 'chocolate', 'red/blush wine'],\n",
              " ['other vegetables', 'shopping bags'],\n",
              " ['whole milk', 'rolls/buns', 'packaged fruit/vegetables', 'chocolate'],\n",
              " ['whole milk', 'root vegetables', 'pastry'],\n",
              " ['rolls/buns'],\n",
              " ['margarine', 'whipped/sour cream'],\n",
              " ['rolls/buns', 'bottled water', 'softener'],\n",
              " ['whole milk', 'rice'],\n",
              " ['shopping bags', 'skin care'],\n",
              " ['whole milk',\n",
              "  'rolls/buns',\n",
              "  'frankfurter',\n",
              "  'chicken',\n",
              "  'chocolate',\n",
              "  'flour',\n",
              "  'bottled beer'],\n",
              " ['hamburger meat', 'dessert', 'liquor (appetizer)', 'liver loaf'],\n",
              " ['tropical fruit',\n",
              "  'yogurt',\n",
              "  'root vegetables',\n",
              "  'soda',\n",
              "  'white wine',\n",
              "  'photo/film',\n",
              "  'domestic eggs'],\n",
              " ['yogurt', 'herbs', 'newspapers'],\n",
              " ['tropical fruit', 'yogurt'],\n",
              " ['pastry', 'ketchup'],\n",
              " ['canned fish', 'cocoa drinks'],\n",
              " ['pip fruit', 'coffee', 'UHT-milk'],\n",
              " ['sliced cheese', 'kitchen towels'],\n",
              " ['specialty bar', 'bottled water'],\n",
              " ['frankfurter', 'bottled water'],\n",
              " ['pip fruit', 'rolls/buns', 'candles'],\n",
              " ['pastry', 'curd cheese'],\n",
              " ['whole milk',\n",
              "  'other vegetables',\n",
              "  'frankfurter',\n",
              "  'yogurt',\n",
              "  'herbs',\n",
              "  'grapes',\n",
              "  'candles'],\n",
              " ['rolls/buns', 'citrus fruit', 'bottled water', 'candy'],\n",
              " ['frankfurter', 'yogurt'],\n",
              " ['tropical fruit',\n",
              "  'rolls/buns',\n",
              "  'root vegetables',\n",
              "  'onions',\n",
              "  'shopping bags'],\n",
              " ['brown bread', 'frozen vegetables'],\n",
              " ['whole milk', 'processed cheese'],\n",
              " ['whole milk', 'frozen meals'],\n",
              " ['meat', 'domestic eggs', 'white bread', 'roll products '],\n",
              " ['root vegetables', 'mayonnaise'],\n",
              " ['other vegetables', 'mustard'],\n",
              " ['bottled water', 'hard cheese', 'napkins'],\n",
              " ['whole milk', 'candy'],\n",
              " ['tropical fruit', 'frozen vegetables'],\n",
              " ['whipped/sour cream', 'mustard'],\n",
              " ['whole milk', 'yogurt', 'sausage', 'bottled beer'],\n",
              " ['canned beer', 'cookware'],\n",
              " ['butter milk', 'hamburger meat'],\n",
              " ['whole milk', 'rolls/buns'],\n",
              " ['whole milk', 'citrus fruit'],\n",
              " ['beef', 'salty snack'],\n",
              " ['rolls/buns', 'fruit/vegetable juice', 'chocolate'],\n",
              " ['bottled beer', 'UHT-milk'],\n",
              " ['chicken', 'red/blush wine'],\n",
              " ['pip fruit', 'soft cheese'],\n",
              " ['pip fruit', 'rolls/buns', 'frankfurter', 'oil', 'mayonnaise'],\n",
              " ['brown bread', 'pet care'],\n",
              " ['other vegetables', 'rolls/buns'],\n",
              " ['beef', 'yogurt'],\n",
              " ['other vegetables', 'root vegetables'],\n",
              " ['soda', 'dessert', 'shopping bags'],\n",
              " ['curd', 'long life bakery product'],\n",
              " ['beverages', 'domestic eggs'],\n",
              " ['butter milk', 'root vegetables'],\n",
              " ['berries', 'cake bar'],\n",
              " ['hamburger meat', 'red/blush wine'],\n",
              " ['canned beer', 'shopping bags'],\n",
              " ['rolls/buns', 'canned beer', 'frozen fish', 'spices'],\n",
              " ['butter', 'yogurt', 'frozen meals', 'newspapers'],\n",
              " ['rolls/buns', 'baking powder'],\n",
              " ['tropical fruit', 'yogurt', 'curd', 'liquor'],\n",
              " ['butter', 'sliced cheese'],\n",
              " ['fruit/vegetable juice', 'sausage'],\n",
              " ['beef', 'napkins'],\n",
              " ['whole milk', 'whipped/sour cream'],\n",
              " ['rolls/buns',\n",
              "  'packaged fruit/vegetables',\n",
              "  'root vegetables',\n",
              "  'whipped/sour cream'],\n",
              " ['soda', 'domestic eggs'],\n",
              " ['chicken', 'frozen meals'],\n",
              " ['curd', 'male cosmetics'],\n",
              " ['yogurt', 'berries', 'bottled beer', 'white bread'],\n",
              " ['specialty bar', 'sausage', 'whipped/sour cream'],\n",
              " ['tropical fruit', 'other vegetables', 'root vegetables', 'fish'],\n",
              " ['coffee', 'shopping bags'],\n",
              " ['ham', 'cream cheese '],\n",
              " ['canned beer', 'UHT-milk'],\n",
              " ['rolls/buns', 'sausage', 'dessert', 'pickled vegetables'],\n",
              " ['butter', 'fruit/vegetable juice', 'candy', 'salty snack', 'dental care'],\n",
              " ['root vegetables', 'long life bakery product'],\n",
              " ['citrus fruit', 'yogurt'],\n",
              " ['root vegetables', 'canned beer', 'whipped/sour cream'],\n",
              " ['whole milk', 'salt', 'softener'],\n",
              " ['hamburger meat', 'pork'],\n",
              " ['rolls/buns', 'bottled water'],\n",
              " ['rolls/buns', 'red/blush wine'],\n",
              " ['canned beer', 'onions', 'flower (seeds)'],\n",
              " ['rolls/buns', 'sugar'],\n",
              " ['butter', 'soda'],\n",
              " ['root vegetables', 'specialty chocolate'],\n",
              " ['rolls/buns', 'bottled water', 'onions', 'baking powder'],\n",
              " ['ham', 'dessert'],\n",
              " ['pot plants', 'ice cream'],\n",
              " ['other vegetables', 'berries'],\n",
              " ['beverages', 'cream cheese '],\n",
              " ['ice cream', 'whipped/sour cream'],\n",
              " ['other vegetables',\n",
              "  'butter',\n",
              "  'berries',\n",
              "  'soda',\n",
              "  'cream cheese ',\n",
              "  'white bread'],\n",
              " ['yogurt', 'root vegetables'],\n",
              " ['whole milk', 'pastry', 'shopping bags', 'white bread'],\n",
              " ['newspapers', 'whipped/sour cream'],\n",
              " ['frankfurter', 'pastry'],\n",
              " ['chicken', 'waffles'],\n",
              " ['fruit/vegetable juice', 'dessert'],\n",
              " ['rolls/buns', 'sausage', 'snack products'],\n",
              " ['tropical fruit', 'rolls/buns', 'soda'],\n",
              " ['tropical fruit', 'newspapers'],\n",
              " ['pip fruit', 'yogurt', 'cling film/bags', 'cat food'],\n",
              " ['bottled water', 'frozen meals', 'domestic eggs'],\n",
              " ['whole milk', 'newspapers'],\n",
              " ['pip fruit', 'white wine', 'salt', 'white bread'],\n",
              " ['sausage', 'frozen vegetables'],\n",
              " ['whole milk', 'rolls/buns', 'yogurt'],\n",
              " ['whole milk', 'frozen vegetables'],\n",
              " ['fruit/vegetable juice', 'vinegar'],\n",
              " ['citrus fruit', 'shopping bags', 'chewing gum', 'cake bar'],\n",
              " ['frankfurter', 'yogurt', 'canned beer'],\n",
              " ['tropical fruit', 'rolls/buns', 'white bread'],\n",
              " ['whole milk', 'pip fruit', 'whipped/sour cream'],\n",
              " ['other vegetables', 'specialty chocolate'],\n",
              " ['butter', 'whipped/sour cream', 'Instant food products', 'cake bar'],\n",
              " ['whole milk', 'butter', 'fruit/vegetable juice', 'sausage', 'pork'],\n",
              " ['pip fruit', 'frozen meals', 'herbs'],\n",
              " ['margarine', 'napkins'],\n",
              " ['rolls/buns', 'salty snack'],\n",
              " ['whole milk', 'rolls/buns', 'pasta'],\n",
              " ['rolls/buns', 'yogurt'],\n",
              " ['root vegetables', 'white bread'],\n",
              " ['tropical fruit', 'chicken', 'packaged fruit/vegetables', 'onions'],\n",
              " ['yogurt', 'hamburger meat'],\n",
              " ['dessert', 'prosecco'],\n",
              " ['chicken', 'candy', 'frozen vegetables'],\n",
              " ['tropical fruit', 'whole milk', 'brown bread'],\n",
              " ['beef', 'dessert'],\n",
              " ['whole milk', 'other vegetables'],\n",
              " ['citrus fruit', 'bottled water'],\n",
              " ['whole milk', 'rolls/buns', 'citrus fruit'],\n",
              " ['tropical fruit', 'sliced cheese'],\n",
              " ['whole milk', 'napkins', 'chocolate marshmallow'],\n",
              " ['tropical fruit', 'other vegetables'],\n",
              " ['root vegetables', 'curd'],\n",
              " ['fruit/vegetable juice', 'specialty chocolate', 'Instant food products'],\n",
              " ['butter', 'yogurt', 'root vegetables'],\n",
              " ['chicken', 'onions'],\n",
              " ['whole milk', 'pastry'],\n",
              " ['bottled water', 'pork'],\n",
              " ['soda', 'curd'],\n",
              " ['butter', 'sweet spreads'],\n",
              " ['pip fruit', 'soda'],\n",
              " ['whole milk', 'rolls/buns', 'soda', 'condensed milk'],\n",
              " ['tropical fruit', 'rolls/buns'],\n",
              " ['whole milk', 'butter'],\n",
              " ['candy', 'white bread'],\n",
              " ['frankfurter', 'herbs'],\n",
              " ['specialty bar', 'margarine'],\n",
              " ['whole milk', 'meat'],\n",
              " ['yogurt', 'house keeping products'],\n",
              " ['whipped/sour cream', 'hygiene articles'],\n",
              " ['other vegetables', 'UHT-milk', 'dishes'],\n",
              " ['beverages', 'waffles'],\n",
              " ['yogurt', 'pasta', 'cat food'],\n",
              " ['tropical fruit', 'red/blush wine', 'fish', 'cream cheese '],\n",
              " ['other vegetables', 'rolls/buns', 'soda', 'dishes'],\n",
              " ['tropical fruit',\n",
              "  'other vegetables',\n",
              "  'hamburger meat',\n",
              "  'popcorn',\n",
              "  'female sanitary products'],\n",
              " ['hamburger meat', 'bottled beer'],\n",
              " ['pork', 'coffee', 'frozen vegetables'],\n",
              " ['shopping bags'],\n",
              " ['beef', 'shopping bags'],\n",
              " ['hamburger meat', 'soda'],\n",
              " ['butter milk', 'yogurt', 'margarine'],\n",
              " ['whole milk', 'soda'],\n",
              " ['root vegetables', 'grapes'],\n",
              " ['frankfurter', 'whipped/sour cream'],\n",
              " ['bottled water', 'chewing gum'],\n",
              " ['chicken', 'coffee', 'beverages'],\n",
              " ['other vegetables',\n",
              "  'yogurt',\n",
              "  'pork',\n",
              "  'detergent',\n",
              "  'shopping bags',\n",
              "  'soft cheese'],\n",
              " ['butter', 'dog food'],\n",
              " ['chicken', 'frozen vegetables'],\n",
              " ['hamburger meat', 'pastry'],\n",
              " ['whole milk', 'other vegetables'],\n",
              " ['rolls/buns', 'waffles'],\n",
              " ['whole milk', 'sugar'],\n",
              " ['soda'],\n",
              " ['bottled beer', 'oil'],\n",
              " ['citrus fruit', 'frankfurter', 'margarine'],\n",
              " ['fruit/vegetable juice', 'soda'],\n",
              " ['other vegetables', 'photo/film'],\n",
              " ['pork', 'white wine'],\n",
              " ['bottled water', 'yogurt', 'soda', 'newspapers'],\n",
              " ['whipped/sour cream', 'meat spreads'],\n",
              " ['pip fruit', 'other vegetables'],\n",
              " ['whole milk', 'ham'],\n",
              " ['pickled vegetables', 'salty snack'],\n",
              " ['soda', 'domestic eggs', 'sliced cheese'],\n",
              " ['tropical fruit', 'UHT-milk'],\n",
              " ['bottled water', 'sausage'],\n",
              " ['yogurt', 'root vegetables'],\n",
              " ['other vegetables', 'root vegetables'],\n",
              " ['other vegetables', 'chicken'],\n",
              " ['dessert', 'spread cheese'],\n",
              " ['sausage', 'salty snack', 'cling film/bags'],\n",
              " ['tropical fruit',\n",
              "  'whole milk',\n",
              "  'root vegetables',\n",
              "  'margarine',\n",
              "  'Instant food products'],\n",
              " ['fruit/vegetable juice', 'soda', 'bottled beer'],\n",
              " ['beef', 'chocolate'],\n",
              " ['beverages', 'dessert'],\n",
              " ['hard cheese', 'whipped/sour cream'],\n",
              " ['ham', 'whipped/sour cream', 'ketchup'],\n",
              " ['white bread', 'frozen fruits'],\n",
              " ['tropical fruit',\n",
              "  'whole milk',\n",
              "  'other vegetables',\n",
              "  'long life bakery product'],\n",
              " ['whole milk', 'other vegetables', 'butter', 'yogurt', 'shopping bags'],\n",
              " ['whole milk', 'sauces'],\n",
              " ['whole milk', 'citrus fruit'],\n",
              " ['rolls/buns', 'candy'],\n",
              " ['whole milk', 'root vegetables'],\n",
              " ['rolls/buns', 'cream cheese '],\n",
              " ['other vegetables', 'root vegetables', 'long life bakery product'],\n",
              " ['tropical fruit', 'rolls/buns'],\n",
              " ['tropical fruit', 'frankfurter'],\n",
              " ['tropical fruit', 'whole milk', 'rum', 'long life bakery product'],\n",
              " ['hamburger meat', 'soda'],\n",
              " ['red/blush wine', 'frozen fish'],\n",
              " ['beef', 'dessert'],\n",
              " ['root vegetables', 'bottled beer'],\n",
              " ['shopping bags', 'oil'],\n",
              " ['whole milk', 'other vegetables'],\n",
              " ['tropical fruit', 'whole milk'],\n",
              " ['hamburger meat', 'pork'],\n",
              " ['tropical fruit', 'rolls/buns', 'chocolate', 'coffee'],\n",
              " ['pork', 'spread cheese'],\n",
              " ['yogurt', 'soda'],\n",
              " ['domestic eggs', 'salt'],\n",
              " ['rolls/buns', 'pork'],\n",
              " ['fruit/vegetable juice', 'brown bread'],\n",
              " ['tropical fruit', 'bottled beer', 'sliced cheese', 'dishes'],\n",
              " ['newspapers', 'cream cheese '],\n",
              " ['citrus fruit', 'red/blush wine'],\n",
              " ['fruit/vegetable juice', 'yogurt', 'roll products '],\n",
              " ['other vegetables', 'ham'],\n",
              " ['frankfurter', 'canned beer'],\n",
              " ['brown bread', 'finished products', 'dishes'],\n",
              " ['bottled water', 'yogurt', 'domestic eggs'],\n",
              " ['pip fruit', 'curd', 'prosecco'],\n",
              " ['brown bread', 'salt'],\n",
              " ['semi-finished bread', 'ketchup'],\n",
              " ['shopping bags', 'oil'],\n",
              " ['fruit/vegetable juice', 'flower (seeds)'],\n",
              " ['misc. beverages', 'instant coffee'],\n",
              " ['detergent', 'candy'],\n",
              " ['UHT-milk', 'canned fish'],\n",
              " ['citrus fruit', 'frankfurter', 'fruit/vegetable juice', 'bottled water'],\n",
              " ['frankfurter', 'frozen meals', 'dishes'],\n",
              " ['pip fruit', 'rolls/buns'],\n",
              " ['butter', 'bottled water', 'sausage'],\n",
              " ['frankfurter', 'chicken', 'butter', 'bottled water'],\n",
              " ['whole milk', 'coffee', 'ham'],\n",
              " ['sausage', 'brown bread'],\n",
              " ['other vegetables', 'butter'],\n",
              " ['tropical fruit', 'soda'],\n",
              " ['pastry', 'pasta'],\n",
              " ['brown bread', 'white bread'],\n",
              " ['rolls/buns', 'canned beer', 'soda', 'artif. sweetener'],\n",
              " ['rolls/buns', 'root vegetables'],\n",
              " ['chicken', 'soda'],\n",
              " ['rolls/buns', 'frankfurter', 'coffee', 'curd', 'white bread'],\n",
              " ['bottled water', 'red/blush wine', 'sweet spreads'],\n",
              " ['rolls/buns', 'onions', 'napkins'],\n",
              " ['canned beer', 'soda'],\n",
              " ['root vegetables', 'frozen vegetables', 'pet care'],\n",
              " ['tropical fruit',\n",
              "  'specialty bar',\n",
              "  'yogurt',\n",
              "  'bottled beer',\n",
              "  'baking powder'],\n",
              " ['whole milk', 'other vegetables', 'frankfurter', 'pastry', 'newspapers'],\n",
              " ['yogurt', 'beverages'],\n",
              " ['tropical fruit', 'whole milk'],\n",
              " ['butter milk', 'coffee'],\n",
              " ['other vegetables', 'beef', 'margarine'],\n",
              " ['bottled water', 'hygiene articles'],\n",
              " ['pork', 'sliced cheese'],\n",
              " ['soda', 'specialty chocolate', 'bathroom cleaner'],\n",
              " ['whole milk', 'hamburger meat'],\n",
              " ['pip fruit', 'other vegetables'],\n",
              " ['citrus fruit', 'root vegetables'],\n",
              " ['other vegetables', 'soda', 'shopping bags'],\n",
              " ['yogurt', 'newspapers'],\n",
              " ['ice cream', 'whipped/sour cream'],\n",
              " ['other vegetables', 'beef', 'butter', 'soda', 'curd'],\n",
              " ['canned beer', 'herbs', 'margarine'],\n",
              " ['rolls/buns', 'soda'],\n",
              " ['rolls/buns', 'citrus fruit'],\n",
              " ['berries', 'coffee'],\n",
              " ['ham', 'white bread'],\n",
              " ['pot plants', 'herbs', 'cake bar'],\n",
              " ['soda', 'jam', 'flower (seeds)'],\n",
              " ['pip fruit', 'chocolate', 'sausage'],\n",
              " ['specialty chocolate', 'white bread'],\n",
              " ['whole milk'],\n",
              " ['whole milk', 'other vegetables'],\n",
              " ['sausage', 'beverages'],\n",
              " ['whole milk', 'hard cheese'],\n",
              " ['yogurt', 'berries'],\n",
              " ['tropical fruit',\n",
              "  'other vegetables',\n",
              "  'meat',\n",
              "  'domestic eggs',\n",
              "  'baking powder'],\n",
              " ['yogurt', 'sauces'],\n",
              " ['beef', 'yogurt'],\n",
              " ['whole milk', 'ice cream'],\n",
              " ['yogurt',\n",
              "  'sausage',\n",
              "  'pastry',\n",
              "  'detergent',\n",
              "  'specialty chocolate',\n",
              "  'napkins',\n",
              "  'dishes',\n",
              "  'whisky'],\n",
              " ['photo/film', 'shopping bags'],\n",
              " ['other vegetables', 'frankfurter', 'bottled beer'],\n",
              " ['yogurt', 'newspapers'],\n",
              " ['other vegetables',\n",
              "  'specialty bar',\n",
              "  'root vegetables',\n",
              "  'soda',\n",
              "  'frozen vegetables'],\n",
              " ['rolls/buns',\n",
              "  'bottled water',\n",
              "  'sausage',\n",
              "  'grapes',\n",
              "  'bottled beer',\n",
              "  'domestic eggs',\n",
              "  'salty snack',\n",
              "  'Instant food products'],\n",
              " ['dessert', 'domestic eggs'],\n",
              " ['tropical fruit', 'sausage', 'root vegetables', 'misc. beverages'],\n",
              " ['whole milk', 'sausage'],\n",
              " ['whole milk', 'brown bread'],\n",
              " ['hamburger meat', 'flour', 'detergent'],\n",
              " ['tropical fruit', 'soda'],\n",
              " ['newspapers', 'salty snack'],\n",
              " ['whole milk', 'pasta', 'waffles'],\n",
              " ['other vegetables', 'chocolate marshmallow'],\n",
              " ['flour', 'pickled vegetables'],\n",
              " ['yogurt', 'shopping bags'],\n",
              " ['packaged fruit/vegetables', 'bottled water', 'pork', 'domestic eggs'],\n",
              " ['pip fruit', 'fruit/vegetable juice'],\n",
              " ['tropical fruit', 'whole milk', 'soda', 'curd'],\n",
              " ['root vegetables', 'shopping bags'],\n",
              " ['curd', 'shopping bags', 'whipped/sour cream'],\n",
              " ['whole milk', 'sausage', 'cake bar'],\n",
              " ['frankfurter', 'bottled water', 'whipped/sour cream'],\n",
              " ['whole milk', 'hard cheese'],\n",
              " ['tropical fruit',\n",
              "  'whole milk',\n",
              "  'citrus fruit',\n",
              "  'frankfurter',\n",
              "  'yogurt',\n",
              "  'canned beer',\n",
              "  'specialty chocolate',\n",
              "  'hard cheese'],\n",
              " ['rolls/buns', 'canned beer', 'napkins'],\n",
              " ['other vegetables', 'grapes'],\n",
              " ['rolls/buns', 'shopping bags', 'cat food'],\n",
              " ['tropical fruit', 'candy'],\n",
              " ['citrus fruit', 'dessert'],\n",
              " ['bottled water', 'root vegetables', 'frozen vegetables', 'cat food'],\n",
              " ['pork', 'spread cheese'],\n",
              " ['pip fruit', 'brown bread'],\n",
              " ['root vegetables', 'instant coffee'],\n",
              " ['butter',\n",
              "  'butter milk',\n",
              "  'soda',\n",
              "  'grapes',\n",
              "  'hygiene articles',\n",
              "  'pudding powder'],\n",
              " ['whole milk', 'yogurt'],\n",
              " ['hamburger meat', 'pasta'],\n",
              " ['whole milk', 'processed cheese'],\n",
              " ['brown bread', 'sparkling wine'],\n",
              " ['other vegetables', 'rolls/buns', 'whipped/sour cream'],\n",
              " ['white wine', 'candy'],\n",
              " ['root vegetables', 'frozen vegetables'],\n",
              " ['other vegetables', 'detergent', 'white bread'],\n",
              " ['yogurt', 'brown bread', 'beverages'],\n",
              " ['herbs', 'ice cream'],\n",
              " ['yogurt', 'cream'],\n",
              " ['chicken', 'pastry', 'candles'],\n",
              " ['hygiene articles', 'waffles', 'tea'],\n",
              " ['other vegetables', 'rolls/buns', 'yogurt', 'herbs'],\n",
              " ['yogurt', 'root vegetables'],\n",
              " ['yogurt', 'domestic eggs'],\n",
              " ['whole milk', 'pork'],\n",
              " ['other vegetables', 'white bread'],\n",
              " ['tropical fruit', 'whole milk', 'bottled water', 'yogurt'],\n",
              " ['citrus fruit', 'misc. beverages'],\n",
              " ['rolls/buns', 'chicken', 'shopping bags', 'spread cheese', 'liver loaf'],\n",
              " ['citrus fruit', 'misc. beverages'],\n",
              " ['whole milk', 'pastry'],\n",
              " ['newspapers', 'onions'],\n",
              " ['beef', 'newspapers', 'specialty fat'],\n",
              " ['rolls/buns', 'semi-finished bread'],\n",
              " ['rolls/buns', 'shopping bags'],\n",
              " ['pastry', 'canned beer', 'grapes', 'whipped/sour cream'],\n",
              " ['pastry', 'oil', 'salty snack'],\n",
              " ['frozen potato products', 'specialty cheese'],\n",
              " ['whole milk', 'brown bread', 'shopping bags'],\n",
              " ['citrus fruit', 'margarine', 'frozen vegetables'],\n",
              " ['sugar', 'curd'],\n",
              " ['whole milk', 'chocolate'],\n",
              " ['pip fruit', 'pastry', 'salty snack'],\n",
              " ['pip fruit', 'margarine'],\n",
              " ['yogurt', 'ham'],\n",
              " ['soda', 'salty snack'],\n",
              " ['chocolate', 'bottled water'],\n",
              " ['butter', 'pastry', 'curd', 'margarine', 'baking powder', 'dishes'],\n",
              " ['whole milk', 'soda'],\n",
              " ['liquor', 'pickled vegetables'],\n",
              " ['yogurt', 'margarine'],\n",
              " ['whole milk', 'soda', 'UHT-milk', 'frozen vegetables'],\n",
              " ['other vegetables', 'whipped/sour cream'],\n",
              " ['beef', 'semi-finished bread'],\n",
              " ['bottled water', 'flour', 'sugar'],\n",
              " ['newspapers', 'ice cream', 'dish cleaner', 'jam'],\n",
              " ['canned beer', 'curd'],\n",
              " ['specialty bar', 'bottled beer', 'baking powder'],\n",
              " ['whole milk', 'yogurt', 'newspapers'],\n",
              " ['pork', 'domestic eggs', 'pudding powder'],\n",
              " ['root vegetables', 'shopping bags'],\n",
              " ['misc. beverages', 'UHT-milk', 'white bread'],\n",
              " ['sausage', 'dessert', 'dog food', 'shopping bags'],\n",
              " ['citrus fruit', 'root vegetables'],\n",
              " ['chocolate', 'brown bread', 'salty snack'],\n",
              " ['chicken', 'shopping bags'],\n",
              " ['other vegetables', 'butter'],\n",
              " ['yogurt', 'whipped/sour cream'],\n",
              " ['other vegetables', 'yogurt'],\n",
              " ['root vegetables', 'turkey'],\n",
              " ['other vegetables', 'napkins'],\n",
              " ['rolls/buns', 'newspapers', 'beverages', 'white bread'],\n",
              " ['other vegetables', 'zwieback'],\n",
              " ['butter milk', 'brown bread', 'soda', 'canned vegetables'],\n",
              " ['chicken', 'bottled water'],\n",
              " ['brown bread', 'soda'],\n",
              " ['other vegetables',\n",
              "  'root vegetables',\n",
              "  'newspapers',\n",
              "  'hard cheese',\n",
              "  'cream cheese ',\n",
              "  'liquor'],\n",
              " ['rolls/buns', 'frankfurter'],\n",
              " ['whole milk', 'meat', 'whipped/sour cream'],\n",
              " ['bottled beer', 'frozen vegetables', 'sliced cheese'],\n",
              " ['pip fruit', 'canned beer', 'processed cheese'],\n",
              " ['berries', 'condensed milk'],\n",
              " ['rolls/buns', 'curd', 'pickled vegetables', 'house keeping products'],\n",
              " ['whole milk', 'butter', 'pastry', 'hair spray'],\n",
              " ['yogurt', 'ham'],\n",
              " ['whole milk', 'grapes'],\n",
              " ['other vegetables', 'meat'],\n",
              " ['other vegetables', 'specialty bar'],\n",
              " ['soda', 'newspapers', 'UHT-milk', 'white bread'],\n",
              " ['citrus fruit', 'brown bread'],\n",
              " ['tropical fruit', 'sugar'],\n",
              " ['tropical fruit',\n",
              "  'pastry',\n",
              "  'condensed milk',\n",
              "  'chocolate marshmallow',\n",
              "  'rice'],\n",
              " ['coffee', 'shopping bags'],\n",
              " ['citrus fruit', 'bottled water'],\n",
              " ['root vegetables', 'frozen vegetables'],\n",
              " ['chicken', 'dishes'],\n",
              " ['rolls/buns', 'yogurt', 'oil'],\n",
              " ['pork', 'soda', 'canned vegetables'],\n",
              " ['whole milk', 'pip fruit'],\n",
              " ['rolls/buns', 'frozen vegetables', 'cling film/bags'],\n",
              " ['bottled beer', 'hygiene articles'],\n",
              " ['yogurt', 'soda'],\n",
              " ['rolls/buns', 'margarine'],\n",
              " ['condensed milk', 'shopping bags'],\n",
              " ['citrus fruit', 'popcorn'],\n",
              " ['sausage', 'pastry'],\n",
              " ['rolls/buns', 'root vegetables', 'margarine'],\n",
              " ['rolls/buns', 'whipped/sour cream'],\n",
              " ['root vegetables', 'pork', 'newspapers', 'napkins'],\n",
              " ['whole milk', 'misc. beverages', 'long life bakery product'],\n",
              " ['citrus fruit', 'soda'],\n",
              " ['soda', 'roll products '],\n",
              " ['rolls/buns', 'frankfurter', 'margarine', 'shopping bags'],\n",
              " ['other vegetables', 'butter', 'pastry', 'UHT-milk'],\n",
              " ['coffee', 'meat'],\n",
              " ['frankfurter', 'white bread'],\n",
              " ['liquor', 'domestic eggs'],\n",
              " ['specialty bar', 'soda', 'frozen vegetables'],\n",
              " ['frozen meals', 'grapes', 'flower (seeds)'],\n",
              " ['yogurt', 'brown bread', 'shopping bags', 'tea'],\n",
              " ['white wine', 'flower (seeds)'],\n",
              " ['specialty chocolate', 'cream cheese '],\n",
              " ['whole milk', 'baking powder'],\n",
              " ['soda', 'margarine'],\n",
              " ['tropical fruit', 'cream cheese '],\n",
              " ['yogurt', 'softener'],\n",
              " ['frankfurter', 'bottled water', 'root vegetables', 'dessert'],\n",
              " ['other vegetables',\n",
              "  'rolls/buns',\n",
              "  'shopping bags',\n",
              "  'salty snack',\n",
              "  'semi-finished bread'],\n",
              " ['whole milk', 'soda'],\n",
              " ['whole milk', 'bottled beer'],\n",
              " ['yogurt', 'pastry'],\n",
              " ['curd', 'domestic eggs'],\n",
              " ['coffee', 'shopping bags'],\n",
              " ['rolls/buns', 'sausage', 'rice'],\n",
              " ['whole milk', 'pork', 'napkins'],\n",
              " ['other vegetables', 'oil'],\n",
              " ['yogurt', 'brown bread', 'pastry'],\n",
              " ['newspapers', 'cream cheese '],\n",
              " ['butter', 'sausage', 'soda', 'dessert', 'shopping bags'],\n",
              " ['butter', 'hard cheese'],\n",
              " ['whole milk', 'other vegetables'],\n",
              " ['citrus fruit', 'flower (seeds)'],\n",
              " ['tropical fruit', 'butter milk', 'brown bread'],\n",
              " ['tropical fruit', 'whole milk'],\n",
              " ['rolls/buns', 'fruit/vegetable juice'],\n",
              " ['citrus fruit', 'herbs'],\n",
              " ['butter milk', 'root vegetables'],\n",
              " ['shopping bags', 'instant coffee'],\n",
              " ['tropical fruit', 'other vegetables'],\n",
              " ['other vegetables', 'beef'],\n",
              " ['canned beer', 'nut snack'],\n",
              " ['whole milk', 'other vegetables', 'sugar'],\n",
              " ['whole milk', 'root vegetables'],\n",
              " ['citrus fruit', 'napkins'],\n",
              " ['rolls/buns', 'butter milk'],\n",
              " ['rolls/buns', 'brown bread', 'canned beer'],\n",
              " ['tropical fruit', 'soft cheese'],\n",
              " ['tropical fruit', 'misc. beverages'],\n",
              " ['pork', 'pickled vegetables'],\n",
              " ['other vegetables', 'frankfurter', 'curd', 'photo/film', 'waffles'],\n",
              " ['pip fruit', 'other vegetables', 'cling film/bags'],\n",
              " ['whole milk', 'rolls/buns', 'soda'],\n",
              " ['tropical fruit', 'yogurt'],\n",
              " ['rolls/buns', 'cat food'],\n",
              " ['berries', 'white bread'],\n",
              " ['rolls/buns', 'soda'],\n",
              " ['chicken', 'brown bread'],\n",
              " ['other vegetables', 'napkins'],\n",
              " ['newspapers', 'soups'],\n",
              " ['soda', 'UHT-milk'],\n",
              " ['pork', 'soda'],\n",
              " ['pickled vegetables', 'oil'],\n",
              " ['whole milk', 'sugar', 'soda'],\n",
              " ['misc. beverages', 'spread cheese'],\n",
              " ['whole milk', 'meat'],\n",
              " ['pork', 'domestic eggs'],\n",
              " ['root vegetables', 'coffee'],\n",
              " ['canned beer', 'fish'],\n",
              " ['root vegetables', 'hard cheese', 'white bread'],\n",
              " ['chicken', 'domestic eggs', 'white bread'],\n",
              " ['soda', 'whipped/sour cream'],\n",
              " ['other vegetables', 'brown bread'],\n",
              " ['tropical fruit', 'root vegetables'],\n",
              " ['soda', 'bottled beer'],\n",
              " ['whole milk', 'bottled beer'],\n",
              " ['bottled water', 'shopping bags', 'waffles'],\n",
              " ['pork', 'margarine'],\n",
              " ['pip fruit', 'root vegetables', 'frozen vegetables', 'cereals'],\n",
              " ['yogurt', 'soda'],\n",
              " ['other vegetables', 'berries', 'candy', 'sliced cheese'],\n",
              " ['curd', 'soft cheese'],\n",
              " ['whole milk', 'soda'],\n",
              " ['frozen meals', 'detergent'],\n",
              " ['specialty chocolate', 'canned fish'],\n",
              " ['other vegetables', 'soda'],\n",
              " ['tropical fruit', 'pork'],\n",
              " ['yogurt', 'pork'],\n",
              " ['whole milk',\n",
              "  'yogurt',\n",
              "  'sausage',\n",
              "  'dog food',\n",
              "  'shopping bags',\n",
              "  'sliced cheese',\n",
              "  'baking powder',\n",
              "  'white bread'],\n",
              " ['other vegetables', 'soda'],\n",
              " ['root vegetables', 'soda', 'long life bakery product'],\n",
              " ['chicken', 'yogurt', 'soda', 'bottled beer'],\n",
              " ['yogurt', 'frozen vegetables', 'seasonal products'],\n",
              " ['other vegetables', 'fruit/vegetable juice'],\n",
              " ['rolls/buns', 'bottled water', 'UHT-milk', 'long life bakery product'],\n",
              " ['canned beer', 'sugar'],\n",
              " ['pip fruit', 'berries'],\n",
              " ['curd', 'soft cheese'],\n",
              " ['pip fruit', 'pastry', 'berries'],\n",
              " ['whole milk', 'rolls/buns'],\n",
              " ['pork', 'domestic eggs'],\n",
              " ['frozen meals', 'soda'],\n",
              " ['curd cheese', 'soda'],\n",
              " ['whole milk', 'grapes'],\n",
              " ['whole milk', 'bottled beer', 'chewing gum', 'ready soups'],\n",
              " ['butter', 'ice cream'],\n",
              " ['chicken', 'cake bar'],\n",
              " ['frankfurter', 'mustard', 'soft cheese'],\n",
              " ['tropical fruit', 'rolls/buns', 'canned beer', 'dish cleaner'],\n",
              " ['other vegetables', 'root vegetables', 'frozen vegetables'],\n",
              " ['rolls/buns', 'female sanitary products'],\n",
              " ['whole milk', 'citrus fruit', 'sausage', 'canned beer'],\n",
              " ['whole milk', 'yogurt', 'sausage', 'pet care'],\n",
              " ['whole milk', 'house keeping products'],\n",
              " ['frankfurter', 'brandy'],\n",
              " ['other vegetables', 'berries'],\n",
              " ['tropical fruit', 'whole milk', 'UHT-milk', 'napkins'],\n",
              " ['beef', 'frozen meals', 'curd'],\n",
              " ['other vegetables', 'rolls/buns', 'butter', 'root vegetables'],\n",
              " ['whole milk', 'bottled water'],\n",
              " ['citrus fruit', 'yogurt'],\n",
              " ['whole milk', 'cream cheese '],\n",
              " ['domestic eggs', 'frozen vegetables'],\n",
              " ['citrus fruit', 'soda'],\n",
              " ['citrus fruit', 'light bulbs'],\n",
              " ['whole milk', 'yogurt'],\n",
              " ['butter', 'chewing gum'],\n",
              " ['whole milk', 'root vegetables'],\n",
              " ['tropical fruit', 'pip fruit', 'mustard'],\n",
              " ['beef', 'coffee', 'bottled beer', 'domestic eggs'],\n",
              " ['frozen meals', 'shopping bags'],\n",
              " ['whole milk', 'other vegetables', 'yogurt', 'spread cheese'],\n",
              " ['beef', 'newspapers', 'bottled beer'],\n",
              " ['coffee', 'misc. beverages'],\n",
              " ['citrus fruit', 'canned beer'],\n",
              " ['yogurt', 'white bread'],\n",
              " ['red/blush wine', 'salty snack'],\n",
              " ['fruit/vegetable juice', 'canned beer', 'berries', 'male cosmetics'],\n",
              " ['bottled water', 'sausage'],\n",
              " ['whole milk', 'citrus fruit', 'beef', 'bottled water', 'newspapers'],\n",
              " ['frozen vegetables', 'white bread'],\n",
              " ['other vegetables', 'sliced cheese'],\n",
              " ['whole milk', 'root vegetables', 'canned vegetables'],\n",
              " ['beef', 'house keeping products'],\n",
              " ['whole milk', 'frozen vegetables'],\n",
              " ['packaged fruit/vegetables', 'chocolate', 'pork'],\n",
              " ['curd', 'spices'],\n",
              " ['tropical fruit', 'bottled water'],\n",
              " ['brown bread', 'root vegetables'],\n",
              " ['other vegetables', 'rolls/buns'],\n",
              " ['coffee', 'domestic eggs'],\n",
              " ['frankfurter', 'frozen vegetables'],\n",
              " ['whole milk', 'chocolate', 'bottled beer', 'UHT-milk'],\n",
              " ['herbs', 'long life bakery product', 'sweet spreads'],\n",
              " ['soda', 'detergent'],\n",
              " ['soda', 'margarine'],\n",
              " ['bottled water', 'liquor'],\n",
              " ['cleaner', 'napkins'],\n",
              " ['other vegetables', 'rolls/buns'],\n",
              " ['napkins'],\n",
              " ['bottled beer', 'cake bar'],\n",
              " ['whole milk', 'other vegetables', 'white bread', 'waffles'],\n",
              " ['newspapers', 'finished products', 'whipped/sour cream'],\n",
              " ['pip fruit', 'chicken'],\n",
              " ['chocolate', 'shopping bags'],\n",
              " ['citrus fruit', 'whipped/sour cream'],\n",
              " ['whole milk',\n",
              "  'rolls/buns',\n",
              "  'bottled water',\n",
              "  'pork',\n",
              "  'turkey',\n",
              "  'soda',\n",
              "  'dog food'],\n",
              " ['pip fruit', 'whipped/sour cream'],\n",
              " ['whole milk', 'sparkling wine'],\n",
              " ['whole milk', 'canned beer'],\n",
              " ['soda', 'whipped/sour cream'],\n",
              " ['other vegetables', 'soda'],\n",
              " ['brown bread', 'pasta'],\n",
              " ['bottled water', 'onions'],\n",
              " ['beverages', 'specialty chocolate'],\n",
              " ['rolls/buns', 'fruit/vegetable juice', 'bottled beer'],\n",
              " ['specialty bar', 'newspapers'],\n",
              " ['rolls/buns', 'margarine'],\n",
              " ['rolls/buns', 'hard cheese'],\n",
              " ['rolls/buns', 'fruit/vegetable juice', 'soft cheese'],\n",
              " ['pickled vegetables', 'baking powder'],\n",
              " ['pip fruit', 'whipped/sour cream'],\n",
              " ['citrus fruit', 'syrup'],\n",
              " ['root vegetables', 'cling film/bags'],\n",
              " ['other vegetables', 'hamburger meat'],\n",
              " ['whole milk',\n",
              "  'citrus fruit',\n",
              "  'yogurt',\n",
              "  'soda',\n",
              "  'white wine',\n",
              "  'shopping bags'],\n",
              " ['pasta', 'oil'],\n",
              " ['citrus fruit', 'brown bread', 'specialty chocolate'],\n",
              " ['beef', 'butter', 'chocolate', 'bottled water', 'yogurt', 'berries'],\n",
              " ['bottled water', 'sugar', 'hard cheese'],\n",
              " ['whole milk', 'soda'],\n",
              " ['tropical fruit', 'other vegetables'],\n",
              " ['other vegetables', 'pastry'],\n",
              " ['curd cheese', 'frozen potato products', 'domestic eggs'],\n",
              " ['tropical fruit', 'whole milk'],\n",
              " ['rolls/buns', 'brown bread', 'canned beer', 'dessert'],\n",
              " ['tropical fruit', 'shopping bags'],\n",
              " ['chocolate', 'bottled water', 'jam'],\n",
              " ['other vegetables', 'pork', 'ice cream', 'salt'],\n",
              " ['coffee', 'oil'],\n",
              " ['soda', 'cereals'],\n",
              " ['chicken', 'frozen meals', 'napkins'],\n",
              " ['whole milk', 'frozen potato products'],\n",
              " ['citrus fruit', 'white bread'],\n",
              " ['whole milk', 'bottled beer', 'oil', 'dishes'],\n",
              " ['sausage', 'root vegetables'],\n",
              " ['white bread', 'mayonnaise'],\n",
              " ['whole milk', 'hamburger meat', 'ice cream', 'shopping bags', 'soft cheese'],\n",
              " ['candy', 'baking powder', 'canned fish'],\n",
              " ['butter', 'mustard'],\n",
              " ['beef', 'butter milk'],\n",
              " ['pip fruit', 'hamburger meat'],\n",
              " ['rolls/buns', 'red/blush wine'],\n",
              " ['sausage', 'domestic eggs'],\n",
              " ['other vegetables',\n",
              "  'butter',\n",
              "  'sausage',\n",
              "  'brown bread',\n",
              "  'canned beer',\n",
              "  'bottled beer',\n",
              "  'dessert',\n",
              "  'cream cheese '],\n",
              " ['butter',\n",
              "  'brown bread',\n",
              "  'root vegetables',\n",
              "  'pastry',\n",
              "  'ham',\n",
              "  'spread cheese'],\n",
              " ['root vegetables', 'sweet spreads'],\n",
              " ['whole milk', 'beef', 'newspapers'],\n",
              " ['whole milk', 'beef', 'frozen meals'],\n",
              " ['pip fruit', 'chocolate', 'specialty bar'],\n",
              " ['frankfurter', 'canned beer'],\n",
              " ['ice cream', 'chewing gum'],\n",
              " ['butter', 'soda'],\n",
              " ['soda', 'detergent'],\n",
              " ['domestic eggs', 'white bread'],\n",
              " ['whole milk', 'other vegetables', 'canned fruit'],\n",
              " ['soda'],\n",
              " ['citrus fruit', 'domestic eggs'],\n",
              " ['other vegetables', 'onions', 'shopping bags'],\n",
              " ['butter milk', 'bottled water', 'cleaner'],\n",
              " ['whole milk', 'rolls/buns', 'soda'],\n",
              " ['other vegetables', 'bottled beer'],\n",
              " ['bottled beer', 'sliced cheese'],\n",
              " ['tropical fruit', 'dessert'],\n",
              " ['specialty chocolate', 'whipped/sour cream'],\n",
              " ['root vegetables'],\n",
              " ['pip fruit', 'rolls/buns', 'soda'],\n",
              " ['bottled water', 'soda'],\n",
              " ['hamburger meat', 'bottled beer'],\n",
              " ['other vegetables', 'meat spreads'],\n",
              " ['root vegetables', 'canned beer'],\n",
              " ['sparkling wine', 'waffles'],\n",
              " ['other vegetables', 'citrus fruit', 'hamburger meat', 'specialty chocolate'],\n",
              " ['berries', 'white bread'],\n",
              " ['butter', 'fruit/vegetable juice', 'seasonal products'],\n",
              " ['brown bread', 'pastry'],\n",
              " ['citrus fruit', 'root vegetables'],\n",
              " ['soda', 'shopping bags'],\n",
              " ['butter', 'pastry', 'coffee', 'soda'],\n",
              " ['whole milk', 'bottled water', 'honey'],\n",
              " ['pip fruit', 'napkins'],\n",
              " ['finished products', 'liquor'],\n",
              " ['butter', 'shopping bags'],\n",
              " ['whole milk', 'soft cheese'],\n",
              " ['newspapers', 'domestic eggs'],\n",
              " ['pip fruit', 'shopping bags'],\n",
              " ['rolls/buns', 'bottled beer', 'candy', 'mayonnaise'],\n",
              " ['whole milk', 'brown bread'],\n",
              " ['beef', 'whipped/sour cream'],\n",
              " ['chocolate', 'sausage'],\n",
              " ['pip fruit', 'waffles'],\n",
              " ['citrus fruit',\n",
              "  'packaged fruit/vegetables',\n",
              "  'yogurt',\n",
              "  'root vegetables',\n",
              "  'misc. beverages',\n",
              "  'whipped/sour cream',\n",
              "  'sliced cheese'],\n",
              " ['citrus fruit', 'yogurt'],\n",
              " ['citrus fruit', 'napkins'],\n",
              " ['specialty chocolate', 'frozen fish'],\n",
              " ['other vegetables', 'newspapers', 'specialty chocolate'],\n",
              " ['sausage', 'beverages'],\n",
              " ['bottled water', 'flour', 'sugar', 'salty snack', 'canned vegetables'],\n",
              " ['whole milk', 'rolls/buns', 'popcorn', 'white bread'],\n",
              " ['rolls/buns', 'grapes'],\n",
              " ['citrus fruit', 'root vegetables'],\n",
              " ['rolls/buns', 'dessert', 'candy', 'canned fish'],\n",
              " ['brown bread', 'detergent'],\n",
              " ['whole milk', 'candles'],\n",
              " ['coffee', 'misc. beverages'],\n",
              " ['coffee', 'oil'],\n",
              " ['rolls/buns', 'yogurt'],\n",
              " ['root vegetables', 'curd cheese', 'soda', 'semi-finished bread'],\n",
              " ['yogurt', 'roll products '],\n",
              " ['chicken', 'root vegetables', 'grapes', 'bottled beer'],\n",
              " ['chocolate', 'softener'],\n",
              " ['soda', 'beverages'],\n",
              " ['yogurt', 'root vegetables'],\n",
              " ['rolls/buns', 'pastry'],\n",
              " ['pip fruit', 'sliced cheese'],\n",
              " ['whole milk', 'waffles'],\n",
              " ['bottled water', 'curd', 'white bread', 'ready soups'],\n",
              " ['whole milk', 'yogurt', 'chewing gum'],\n",
              " ['whole milk', 'oil'],\n",
              " ['sausage', 'cat food'],\n",
              " ['tropical fruit', 'hygiene articles', 'candles'],\n",
              " ['whole milk',\n",
              "  'other vegetables',\n",
              "  'rolls/buns',\n",
              "  'sausage',\n",
              "  'pastry',\n",
              "  'sugar',\n",
              "  'soda',\n",
              "  'softener'],\n",
              " ['whole milk', 'yogurt', 'semi-finished bread'],\n",
              " ['whole milk', 'frankfurter'],\n",
              " ['ham', 'pickled vegetables', 'shopping bags'],\n",
              " ['bottled water', 'soft cheese'],\n",
              " ['tropical fruit', 'butter milk'],\n",
              " ['rolls/buns', 'frozen meals'],\n",
              " ['misc. beverages', 'shopping bags'],\n",
              " ['beef', 'yogurt', 'pork'],\n",
              " ['sausage', 'dessert'],\n",
              " ['yogurt', 'shopping bags'],\n",
              " ['fruit/vegetable juice', 'specialty cheese', 'long life bakery product'],\n",
              " ['brown bread', 'ham'],\n",
              " ['butter', 'margarine'],\n",
              " ['frankfurter', 'butter', 'specialty bar', 'yogurt'],\n",
              " ['finished products', 'domestic eggs'],\n",
              " ['whole milk', 'specialty bar'],\n",
              " ['other vegetables', 'UHT-milk'],\n",
              " ['tropical fruit', 'rolls/buns', 'specialty bar', 'salty snack'],\n",
              " ['tropical fruit', 'salt'],\n",
              " ['tropical fruit', 'cat food'],\n",
              " ['beef', 'domestic eggs'],\n",
              " ['other vegetables', 'root vegetables'],\n",
              " ['beef',\n",
              "  'chicken',\n",
              "  'brown bread',\n",
              "  'pork',\n",
              "  'newspapers',\n",
              "  'dessert',\n",
              "  'margarine'],\n",
              " ['fruit/vegetable juice', 'domestic eggs'],\n",
              " ['citrus fruit', 'bottled beer'],\n",
              " ['waffles', 'syrup'],\n",
              " ['pip fruit', 'chicken', 'yogurt', 'meat'],\n",
              " ['pip fruit', 'other vegetables', 'sliced cheese', 'semi-finished bread'],\n",
              " ['yogurt', 'sauces'],\n",
              " ['root vegetables', 'grapes', 'shopping bags'],\n",
              " ['turkey', 'onions'],\n",
              " ['citrus fruit', 'long life bakery product'],\n",
              " ['brown bread', 'canned beer'],\n",
              " ['tropical fruit',\n",
              "  'whole milk',\n",
              "  'bottled water',\n",
              "  'root vegetables',\n",
              "  'pastry',\n",
              "  'soda',\n",
              "  'napkins',\n",
              "  'specialty fat'],\n",
              " ['citrus fruit', 'bottled water', 'grapes'],\n",
              " ['whole milk', 'pastry', 'dog food'],\n",
              " ['whole milk', 'sugar'],\n",
              " ['whole milk', 'butter', 'yogurt', 'sausage'],\n",
              " ['pork', 'frozen meals'],\n",
              " ['citrus fruit'],\n",
              " ['other vegetables', 'fruit/vegetable juice'],\n",
              " ['tropical fruit', 'rolls/buns', 'frozen fish'],\n",
              " ['curd', 'meat', 'cling film/bags'],\n",
              " ['tropical fruit', 'whole milk', 'meat', 'candles'],\n",
              " ['brown bread', 'canned beer'],\n",
              " ['red/blush wine', 'instant coffee'],\n",
              " ['chocolate', 'canned beer', 'margarine'],\n",
              " ['pastry', 'waffles'],\n",
              " ['rolls/buns',\n",
              "  'butter milk',\n",
              "  'specialty chocolate',\n",
              "  'onions',\n",
              "  'napkins',\n",
              "  'dental care',\n",
              "  'rice'],\n",
              " ['sausage', 'pasta'],\n",
              " ['frankfurter', 'ice cream'],\n",
              " ['bottled water', 'sugar'],\n",
              " ['canned beer', 'coffee'],\n",
              " ['condensed milk', 'onions'],\n",
              " ['citrus fruit', 'butter', 'UHT-milk'],\n",
              " ['citrus fruit', 'yogurt', 'semi-finished bread'],\n",
              " ['packaged fruit/vegetables', 'flour'],\n",
              " ['ham', 'rum'],\n",
              " ['sausage', 'specialty chocolate'],\n",
              " ['UHT-milk', 'cooking chocolate'],\n",
              " ['rolls/buns', 'pastry'],\n",
              " ['whole milk', 'curd'],\n",
              " ['white bread', 'jam'],\n",
              " ['brown bread', 'photo/film'],\n",
              " ['whole milk', 'flour', 'detergent', 'shopping bags'],\n",
              " ['other vegetables', 'bottled beer', 'dessert', 'sliced cheese'],\n",
              " ['butter milk', 'soda', 'seasonal products'],\n",
              " ['citrus fruit',\n",
              "  'beef',\n",
              "  'specialty bar',\n",
              "  'soda',\n",
              "  'domestic eggs',\n",
              "  'white bread',\n",
              "  'vinegar',\n",
              "  'long life bakery product'],\n",
              " ['pastry', 'hard cheese'],\n",
              " ['yogurt', 'whipped/sour cream'],\n",
              " ['beverages', 'bottled beer', 'photo/film'],\n",
              " ['beef', 'frozen potato products', 'white bread'],\n",
              " ['ham', 'newspapers', 'whipped/sour cream'],\n",
              " ['brown bread', 'mustard'],\n",
              " ['whole milk', 'other vegetables'],\n",
              " ['canned beer', 'sliced cheese'],\n",
              " ['canned beer', 'soda'],\n",
              " ['ham', 'domestic eggs'],\n",
              " ['frankfurter', 'pastry', 'misc. beverages'],\n",
              " ['butter milk', 'soda'],\n",
              " ['sausage', 'root vegetables'],\n",
              " ['white wine', 'photo/film', 'whipped/sour cream'],\n",
              " ['soda', 'hard cheese'],\n",
              " ['ice cream', 'onions'],\n",
              " ['pork', 'flour', 'sliced cheese'],\n",
              " ['detergent', 'grapes'],\n",
              " ['yogurt', 'margarine'],\n",
              " ['butter', 'bottled water', 'grapes'],\n",
              " ['canned beer', 'pasta'],\n",
              " ['rolls/buns', 'bottled beer'],\n",
              " ['curd', 'UHT-milk'],\n",
              " ['shopping bags', 'whipped/sour cream'],\n",
              " ['other vegetables', 'butter milk'],\n",
              " ['rolls/buns',\n",
              "  'canned beer',\n",
              "  'soda',\n",
              "  'margarine',\n",
              "  'whipped/sour cream',\n",
              "  'salty snack',\n",
              "  'waffles'],\n",
              " ['other vegetables', 'rolls/buns'],\n",
              " ['whole milk', 'chicken'],\n",
              " ['pastry', 'curd'],\n",
              " ['yogurt', 'coffee', 'shopping bags'],\n",
              " ['bottled water', 'root vegetables', 'margarine'],\n",
              " ['root vegetables', 'salty snack'],\n",
              " ['sausage', 'bottled beer', 'spread cheese'],\n",
              " ['bottled water', 'soda'],\n",
              " ['other vegetables', 'condensed milk'],\n",
              " ['processed cheese', 'dog food'],\n",
              " ['canned beer', 'bottled beer'],\n",
              " ['other vegetables', 'curd', 'abrasive cleaner'],\n",
              " ['butter', 'roll products '],\n",
              " ['shopping bags', 'waffles'],\n",
              " ['whole milk', 'cling film/bags'],\n",
              " ['pip fruit', 'newspapers', 'dishes'],\n",
              " ['rolls/buns', 'hard cheese'],\n",
              " ['tropical fruit',\n",
              "  'whole milk',\n",
              "  'other vegetables',\n",
              "  'ham',\n",
              "  'sugar',\n",
              "  'soda',\n",
              "  'white bread'],\n",
              " ['other vegetables', 'citrus fruit'],\n",
              " ['sugar', 'beverages'],\n",
              " ['misc. beverages', 'cleaner'],\n",
              " ['other vegetables', 'pork', 'cream cheese '],\n",
              " ['butter milk', 'hard cheese'],\n",
              " ['frankfurter', 'margarine'],\n",
              " ['yogurt', 'whipped/sour cream'],\n",
              " ['waffles', 'roll products '],\n",
              " ['soda', 'meat'],\n",
              " ['sausage', 'processed cheese'],\n",
              " ['whole milk', 'condensed milk'],\n",
              " ['bottled water', 'yogurt', 'finished products', 'bottled beer'],\n",
              " ['tropical fruit', 'brown bread'],\n",
              " ['whole milk',\n",
              "  'other vegetables',\n",
              "  'rolls/buns',\n",
              "  'sausage',\n",
              "  'oil',\n",
              "  'frozen vegetables',\n",
              "  'baking powder',\n",
              "  'frozen fish'],\n",
              " ['hard cheese', 'onions'],\n",
              " ['soda', 'shopping bags'],\n",
              " ['margarine', 'oil'],\n",
              " ['whole milk', 'specialty cheese'],\n",
              " ['soda', 'pasta', 'specialty chocolate', 'long life bakery product'],\n",
              " ['other vegetables', 'pasta', 'meat'],\n",
              " ['other vegetables', 'citrus fruit'],\n",
              " ['bottled water', 'sausage', 'bottled beer', 'dog food'],\n",
              " ['sugar', 'pasta', 'beverages', 'domestic eggs'],\n",
              " ['tropical fruit', 'shopping bags'],\n",
              " ['butter', 'chocolate'],\n",
              " ['sausage', 'frozen meals'],\n",
              " ['soda', 'cling film/bags'],\n",
              " ['UHT-milk', 'soft cheese'],\n",
              " ['soda', 'candy'],\n",
              " ['rolls/buns', 'bottled water', 'shopping bags', 'salty snack'],\n",
              " ['rolls/buns', 'dessert', 'condensed milk', 'shopping bags'],\n",
              " ['turkey', 'shopping bags'],\n",
              " ['tropical fruit', 'rolls/buns'],\n",
              " ['onions', 'soft cheese'],\n",
              " ['other vegetables', 'grapes'],\n",
              " ['soda', 'processed cheese', 'shopping bags', 'canned fruit'],\n",
              " ['coffee', 'white bread'],\n",
              " ['yogurt', 'canned beer'],\n",
              " ['yogurt', 'whipped/sour cream'],\n",
              " ['tropical fruit', 'berries'],\n",
              " ['other vegetables', 'UHT-milk'],\n",
              " ['other vegetables', 'frozen vegetables'],\n",
              " ['butter', 'candy'],\n",
              " ['chicken', 'butter'],\n",
              " ['citrus fruit', 'skin care'],\n",
              " ['root vegetables', 'frozen vegetables'],\n",
              " ['tropical fruit', 'pip fruit'],\n",
              " ['whole milk', 'frankfurter'],\n",
              " ['packaged fruit/vegetables', 'dessert'],\n",
              " ['margarine'],\n",
              " ['beef', 'curd'],\n",
              " ['citrus fruit', 'coffee'],\n",
              " ['frozen meals', 'soda', 'bottled beer'],\n",
              " ['other vegetables', 'chewing gum'],\n",
              " ['fruit/vegetable juice', 'canned beer', 'dessert'],\n",
              " ['chicken', 'pastry'],\n",
              " ['whole milk', 'pot plants', 'pork', 'turkey', 'soda', 'dishes'],\n",
              " ['other vegetables', 'grapes'],\n",
              " ['pastry', 'liqueur'],\n",
              " ['sausage', 'processed cheese', 'baking powder', 'specialty cheese'],\n",
              " ['ham', 'napkins'],\n",
              " ['specialty bar', 'specialty chocolate', 'white wine'],\n",
              " ['red/blush wine', 'soda'],\n",
              " ['sausage', 'coffee'],\n",
              " ['berries', 'domestic eggs'],\n",
              " ['other vegetables', 'sugar'],\n",
              " ['coffee', 'tea'],\n",
              " ['butter', 'herbs', 'UHT-milk', 'oil'],\n",
              " ['rolls/buns', 'yogurt'],\n",
              " ['cream cheese ', 'frozen dessert'],\n",
              " ['yogurt', 'coffee'],\n",
              " ['rolls/buns',\n",
              "  'fruit/vegetable juice',\n",
              "  'whipped/sour cream',\n",
              "  'frozen vegetables'],\n",
              " ['hamburger meat', 'coffee'],\n",
              " ['whole milk', 'shopping bags'],\n",
              " ['whole milk', 'ice cream'],\n",
              " ['sausage', 'grapes', 'sliced cheese', 'napkins'],\n",
              " ['fruit/vegetable juice', 'berries'],\n",
              " ['root vegetables', 'pork'],\n",
              " ['pip fruit', 'shopping bags'],\n",
              " ['sausage', 'curd'],\n",
              " ['whole milk', 'domestic eggs', 'canned vegetables', 'flower (seeds)'],\n",
              " ['rolls/buns', 'flour', 'hard cheese'],\n",
              " ['sugar', 'frozen meals', 'organic sausage'],\n",
              " ['whole milk', 'pickled vegetables', 'onions'],\n",
              " ['other vegetables', 'citrus fruit'],\n",
              " ['frozen meals', 'bottled beer'],\n",
              " ['tropical fruit', 'yogurt', 'soda', 'semi-finished bread'],\n",
              " ['tropical fruit', 'butter', 'white bread'],\n",
              " ['tropical fruit', 'specialty bar'],\n",
              " ['bottled water', 'pastry'],\n",
              " ['sugar', 'curd'],\n",
              " ['tropical fruit', 'other vegetables', 'sausage', 'mayonnaise'],\n",
              " ['whole milk', 'other vegetables', 'soda'],\n",
              " ['brown bread', 'pork'],\n",
              " ['root vegetables', 'UHT-milk', 'canned fish', 'waffles'],\n",
              " ['pip fruit',\n",
              "  'other vegetables',\n",
              "  'citrus fruit',\n",
              "  'chicken',\n",
              "  'pastry',\n",
              "  'curd',\n",
              "  'specialty chocolate',\n",
              "  'cream cheese '],\n",
              " ['yogurt', 'pork'],\n",
              " ['other vegetables', 'hamburger meat', 'domestic eggs'],\n",
              " ['tropical fruit', 'red/blush wine', 'shopping bags'],\n",
              " ['other vegetables', 'sliced cheese'],\n",
              " ['whole milk', 'butter'],\n",
              " ['oil', 'canned fish'],\n",
              " ['whole milk', 'misc. beverages'],\n",
              " ['white wine', 'sauces'],\n",
              " ['other vegetables', 'brown bread', 'margarine'],\n",
              " ['red/blush wine', 'frozen meals', 'canned fruit'],\n",
              " ['whole milk', 'other vegetables', 'butter milk', 'liquor'],\n",
              " ['rolls/buns', 'seasonal products'],\n",
              " ['tropical fruit', 'root vegetables'],\n",
              " ['whole milk', 'other vegetables', 'softener'],\n",
              " ['citrus fruit', 'cereals'],\n",
              " ['flower soil/fertilizer', 'cake bar'],\n",
              " ['pork', 'napkins'],\n",
              " ['specialty bar', 'cleaner'],\n",
              " ['whole milk', 'artif. sweetener'],\n",
              " ['pork', 'pastry'],\n",
              " ['other vegetables', 'coffee', 'specialty cheese'],\n",
              " ['rolls/buns', 'dessert'],\n",
              " ['cream cheese ', 'tidbits'],\n",
              " ['curd', 'hygiene articles'],\n",
              " ['rolls/buns', 'dental care'],\n",
              " ['butter', 'root vegetables', 'dessert'],\n",
              " ['citrus fruit', 'pastry'],\n",
              " ['citrus fruit', 'salt'],\n",
              " ['whole milk', 'other vegetables'],\n",
              " ['sausage', 'onions', 'mustard'],\n",
              " ['butter milk', 'frozen potato products', 'domestic eggs', 'shopping bags'],\n",
              " ['specialty chocolate', 'white bread'],\n",
              " ['butter', 'ice cream'],\n",
              " ['dessert', 'house keeping products'],\n",
              " ['condensed milk', 'hard cheese'],\n",
              " ['yogurt', 'hard cheese'],\n",
              " ['whole milk', 'rolls/buns', 'sausage', 'bottled beer'],\n",
              " ['whole milk', 'cream cheese ', 'semi-finished bread'],\n",
              " ['rolls/buns', 'sausage'],\n",
              " ['frankfurter', 'shopping bags'],\n",
              " ['whole milk',\n",
              "  'pot plants',\n",
              "  'yogurt',\n",
              "  'dessert',\n",
              "  'photo/film',\n",
              "  'white bread'],\n",
              " ...]"
            ]
          },
          "execution_count": 23,
          "metadata": {},
          "output_type": "execute_result"
        }
      ],
      "source": [
        "transactions"
      ]
    },
    {
      "cell_type": "markdown",
      "id": "cf8a2fbc",
      "metadata": {
        "id": "cf8a2fbc",
        "papermill": {
          "duration": 0.038783,
          "end_time": "2022-07-12T07:17:08.158599",
          "exception": false,
          "start_time": "2022-07-12T07:17:08.119816",
          "status": "completed"
        },
        "tags": []
      },
      "source": [
        "The apriori instance takes data as list that is why the above process is required."
      ]
    },
    {
      "cell_type": "code",
      "execution_count": 24,
      "id": "9988e77c",
      "metadata": {
        "colab": {
          "base_uri": "https://localhost:8080/"
        },
        "execution": {
          "iopub.execute_input": "2022-07-12T07:17:08.239149Z",
          "iopub.status.busy": "2022-07-12T07:17:08.238437Z",
          "iopub.status.idle": "2022-07-12T07:17:08.362467Z",
          "shell.execute_reply": "2022-07-12T07:17:08.362930Z"
        },
        "id": "9988e77c",
        "outputId": "2fb53c57-0661-47d1-f824-640474facde6",
        "papermill": {
          "duration": 0.165664,
          "end_time": "2022-07-12T07:17:08.363134",
          "exception": false,
          "start_time": "2022-07-12T07:17:08.197470",
          "status": "completed"
        },
        "tags": []
      },
      "outputs": [
        {
          "name": "stdout",
          "output_type": "stream",
          "text": [
            "RelationRecord(items=frozenset({'liver loaf', 'fruit/vegetable juice'}), support=0.00040098910646260775, ordered_statistics=[OrderedStatistic(items_base=frozenset({'liver loaf'}), items_add=frozenset({'fruit/vegetable juice'}), confidence=0.12, lift=3.5276227897838903)])\n"
          ]
        }
      ],
      "source": [
        "#Now we have to figure out various assosiations between items in the dataset\n",
        "#Create an apriori instance\n",
        "#Make a list out of the associations\n",
        "\n",
        "associations = apriori(transactions, min_support = 0.00030, min_confidence = 0.05, min_lift = 3, max_length = 2, target = \"associations\")\n",
        "association_results = list(associations)\n",
        "print(association_results[0])"
      ]
    },
    {
      "cell_type": "markdown",
      "id": "d2171f36",
      "metadata": {
        "id": "d2171f36",
        "papermill": {
          "duration": 0.04074,
          "end_time": "2022-07-12T07:17:08.445941",
          "exception": false,
          "start_time": "2022-07-12T07:17:08.405201",
          "status": "completed"
        },
        "tags": []
      },
      "source": [
        "Parameters\n",
        "\n",
        "=>=>=>=>=>=>=>=>=>\n",
        "\n",
        "min_support: The minimum support of relations (float)\n",
        "\n",
        "min_confidence: The minimum confidence of relations (float\n",
        "\n",
        "min_lift: The minimum lift of relations (float)\n",
        "\n",
        "min_length: The minimum number of items in a rule\n",
        "\n",
        "max_length: The maximum number of items in a rule"
      ]
    },
    {
      "cell_type": "markdown",
      "id": "0c1b8fd5",
      "metadata": {
        "id": "0c1b8fd5",
        "papermill": {
          "duration": 0.038382,
          "end_time": "2022-07-12T07:17:08.522539",
          "exception": false,
          "start_time": "2022-07-12T07:17:08.484157",
          "status": "completed"
        },
        "tags": []
      },
      "source": [
        "Now let us observe each itemset, and separately print the support, confidence and list values of each itemset."
      ]
    },
    {
      "cell_type": "code",
      "execution_count": 25,
      "id": "42a4ae85",
      "metadata": {
        "colab": {
          "base_uri": "https://localhost:8080/"
        },
        "execution": {
          "iopub.execute_input": "2022-07-12T07:17:08.605883Z",
          "iopub.status.busy": "2022-07-12T07:17:08.605161Z",
          "iopub.status.idle": "2022-07-12T07:17:08.620882Z",
          "shell.execute_reply": "2022-07-12T07:17:08.620135Z"
        },
        "id": "42a4ae85",
        "outputId": "65597ab2-25c1-458c-d3de-e46831f83891",
        "papermill": {
          "duration": 0.05867,
          "end_time": "2022-07-12T07:17:08.621029",
          "exception": false,
          "start_time": "2022-07-12T07:17:08.562359",
          "status": "completed"
        },
        "tags": []
      },
      "outputs": [
        {
          "name": "stdout",
          "output_type": "stream",
          "text": [
            "Rule :  liver loaf  -> fruit/vegetable juice\n",
            "Support :  0.00040098910646260775\n",
            "Confidence :  0.12\n",
            "Lift :  3.5276227897838903\n",
            "=>=>=>=>=>=>=>=>=>=>=>=>=>=>=>=>=>=>=>=>\n",
            "Rule :  pickled vegetables  -> ham\n",
            "Support :  0.0005346521419501437\n",
            "Confidence :  0.05970149253731344\n",
            "Lift :  3.4895055970149254\n",
            "=>=>=>=>=>=>=>=>=>=>=>=>=>=>=>=>=>=>=>=>\n",
            "Rule :  meat  -> roll products \n",
            "Support :  0.0003341575887188398\n",
            "Confidence :  0.06097560975609757\n",
            "Lift :  3.620547812620984\n",
            "=>=>=>=>=>=>=>=>=>=>=>=>=>=>=>=>=>=>=>=>\n",
            "Rule :  misc. beverages  -> salt\n",
            "Support :  0.0003341575887188398\n",
            "Confidence :  0.05617977528089888\n",
            "Lift :  3.5619405827461437\n",
            "=>=>=>=>=>=>=>=>=>=>=>=>=>=>=>=>=>=>=>=>\n",
            "Rule :  misc. beverages  -> spread cheese\n",
            "Support :  0.0003341575887188398\n",
            "Confidence :  0.05\n",
            "Lift :  3.170127118644068\n",
            "=>=>=>=>=>=>=>=>=>=>=>=>=>=>=>=>=>=>=>=>\n",
            "Rule :  soups  -> seasonal products\n",
            "Support :  0.0003341575887188398\n",
            "Confidence :  0.10416666666666667\n",
            "Lift :  14.704205974842768\n",
            "=>=>=>=>=>=>=>=>=>=>=>=>=>=>=>=>=>=>=>=>\n",
            "Rule :  sugar  -> spread cheese\n",
            "Support :  0.00040098910646260775\n",
            "Confidence :  0.06\n",
            "Lift :  3.3878490566037733\n",
            "=>=>=>=>=>=>=>=>=>=>=>=>=>=>=>=>=>=>=>=>\n"
          ]
        }
      ],
      "source": [
        "#iterate through the list of associations and for each item\n",
        "for item in association_results:\n",
        "\n",
        "    #for each item filter out the item pair and create item list containing individual items in the itemset\n",
        "    itemset = item[0]\n",
        "    items = [x for x in itemset]\n",
        "\n",
        "    #Print the relationship( First value in items to second value in items)\n",
        "    print(\"Rule : \", items[0], \" -> \" + items[1])\n",
        "\n",
        "    #Print support,confidence and lift value of each itemset\n",
        "    print(\"Support : \", str(item[1]))\n",
        "    print(\"Confidence : \",str(item[2][0][2]))\n",
        "    print(\"Lift : \", str(item[2][0][3]))\n",
        "\n",
        "    print(\"=>=>=>=>=>=>=>=>=>=>=>=>=>=>=>=>=>=>=>=>\")"
      ]
    },
    {
      "cell_type": "markdown",
      "id": "KTJPjLTNAnyA",
      "metadata": {
        "id": "KTJPjLTNAnyA"
      },
      "source": [
        "### Business Application\n",
        "\n",
        "Let’s say the grocery has bought up too much meat and is now worrying that the stocks will expire if they cannot be sold out in time. To make matters worse, the profit margin of meat is so low that they cannot afford to have a promotional discount without killing too much of their profits."
      ]
    },
    {
      "cell_type": "markdown",
      "id": "zUNFwYNbAvM1",
      "metadata": {
        "id": "zUNFwYNbAvM1"
      },
      "source": [
        "One approach that can be proposed is to find out which products drive the sales of meat and offer discounts on those products instead."
      ]
    },
    {
      "cell_type": "code",
      "execution_count": 26,
      "id": "94uLZWSQDsIY",
      "metadata": {
        "colab": {
          "base_uri": "https://localhost:8080/"
        },
        "id": "94uLZWSQDsIY",
        "outputId": "0430fab3-0b60-4019-d766-c8e54a89877e"
      },
      "outputs": [
        {
          "name": "stdout",
          "output_type": "stream",
          "text": [
            "['liver loaf', 'fruit/vegetable juice']\n",
            "['pickled vegetables', 'ham']\n",
            "['meat', 'roll products ']\n",
            "=>=>=>=>=>=>=>=>=>=>=>=>=>=>=>=>=>=>=>=>\n",
            "meat is frequently purchased with: roll products \n",
            "Support:  0.0003341575887188398\n",
            "Confidence:  0.06097560975609757\n",
            "Lift:  3.620547812620984\n",
            "=>=>=>=>=>=>=>=>=>=>=>=>=>=>=>=>=>=>=>=>\n",
            "['misc. beverages', 'salt']\n",
            "['misc. beverages', 'spread cheese']\n",
            "['soups', 'seasonal products']\n",
            "['sugar', 'spread cheese']\n"
          ]
        }
      ],
      "source": [
        "\n",
        "# Iterate through the list of associations and for each item\n",
        "for item in association_results:\n",
        "    # For each item, filter out the item pair and create an item list containing individual items in the itemset\n",
        "    itemset = item[0]\n",
        "    items = [x for x in itemset]\n",
        "    print(items)\n",
        "    # Check if \"Whole Milk\" is in the items list\n",
        "    if \"meat\" in items:\n",
        "        other_product = items[0] if items[0] != \"meat\" else items[1]\n",
        "        print(\"=>=>=>=>=>=>=>=>=>=>=>=>=>=>=>=>=>=>=>=>\")\n",
        "        # Print the relationship (First value in items to the second value in items)\n",
        "        print(\"meat is frequently purchased with:\", other_product)\n",
        "\n",
        "        # Print support, confidence, and lift value of each itemset\n",
        "        print(\"Support: \", str(item[1]))\n",
        "        print(\"Confidence: \", str(item[2][0][2]))\n",
        "        print(\"Lift: \", str(item[2][0][3]))\n",
        "\n",
        "        print(\"=>=>=>=>=>=>=>=>=>=>=>=>=>=>=>=>=>=>=>=>\")"
      ]
    }
  ],
  "metadata": {
    "colab": {
      "provenance": []
    },
    "kernelspec": {
      "display_name": "Python 3",
      "language": "python",
      "name": "python3"
    },
    "language_info": {
      "codemirror_mode": {
        "name": "ipython",
        "version": 3
      },
      "file_extension": ".py",
      "mimetype": "text/x-python",
      "name": "python",
      "nbconvert_exporter": "python",
      "pygments_lexer": "ipython3",
      "version": "3.12.0"
    },
    "papermill": {
      "default_parameters": {},
      "duration": 42.996879,
      "end_time": "2022-07-12T07:17:09.473881",
      "environment_variables": {},
      "exception": null,
      "input_path": "__notebook__.ipynb",
      "output_path": "__notebook__.ipynb",
      "parameters": {},
      "start_time": "2022-07-12T07:16:26.477002",
      "version": "2.3.3"
    }
  },
  "nbformat": 4,
  "nbformat_minor": 5
}
