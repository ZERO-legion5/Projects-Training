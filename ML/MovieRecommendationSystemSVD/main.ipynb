{
  "cells": [
    {
      "cell_type": "markdown",
      "metadata": {
        "id": "JTP-9b_CzNxn"
      },
      "source": [
        "# Simple Movie Recommender Using SVD"
      ]
    },
    {
      "cell_type": "markdown",
      "metadata": {
        "id": "W3Nwd-JLzWQy"
      },
      "source": [
        "Given a movie title, we’ll use Singular Value Decomposition (SVD) to recommend other movies based on user ratings.\n",
        "\n",
        "Filtering and recommending based on information given by other users is known as collaborative filtering. The assumption is that people with similar movie tastes are most likely to give similar movie ratings. So, if I’m looking for a new movie and I’ve watched The Matrix, this method will recommend movies that have a similar rating pattern to The Matrix across a set of users."
      ]
    },
    {
      "cell_type": "code",
      "execution_count": 1,
      "metadata": {
        "id": "BaGoVNkoxmPb"
      },
      "outputs": [],
      "source": [
        "import numpy as np\n",
        "import pandas as pd"
      ]
    },
    {
      "cell_type": "markdown",
      "metadata": {
        "id": "1FZq2Afyzj95"
      },
      "source": [
        "Read the files with pandas"
      ]
    },
    {
      "cell_type": "code",
      "execution_count": 3,
      "metadata": {
        "id": "hdJYxjctyDYy"
      },
      "outputs": [],
      "source": [
        "data = pd.io.parsers.read_csv('ratings.dat',\n",
        "    names=['user_id', 'movie_id', 'rating', 'time'],\n",
        "    engine='python', delimiter='::')\n",
        "movie_data = pd.read_csv('movies.dat', names=['movie_id', 'title', 'genre'], engine='python', delimiter='::', encoding='ISO-8859-1')"
      ]
    },
    {
      "cell_type": "code",
      "execution_count": 4,
      "metadata": {
        "colab": {
          "base_uri": "https://localhost:8080/",
          "height": 206
        },
        "id": "N7sZVfsAygtH",
        "outputId": "e1f362e9-d334-4aef-ea05-1201187863e8"
      },
      "outputs": [
        {
          "data": {
            "text/html": [
              "<div>\n",
              "<style scoped>\n",
              "    .dataframe tbody tr th:only-of-type {\n",
              "        vertical-align: middle;\n",
              "    }\n",
              "\n",
              "    .dataframe tbody tr th {\n",
              "        vertical-align: top;\n",
              "    }\n",
              "\n",
              "    .dataframe thead th {\n",
              "        text-align: right;\n",
              "    }\n",
              "</style>\n",
              "<table border=\"1\" class=\"dataframe\">\n",
              "  <thead>\n",
              "    <tr style=\"text-align: right;\">\n",
              "      <th></th>\n",
              "      <th>user_id</th>\n",
              "      <th>movie_id</th>\n",
              "      <th>rating</th>\n",
              "      <th>time</th>\n",
              "    </tr>\n",
              "  </thead>\n",
              "  <tbody>\n",
              "    <tr>\n",
              "      <th>0</th>\n",
              "      <td>1</td>\n",
              "      <td>1193</td>\n",
              "      <td>5</td>\n",
              "      <td>978300760</td>\n",
              "    </tr>\n",
              "    <tr>\n",
              "      <th>1</th>\n",
              "      <td>1</td>\n",
              "      <td>661</td>\n",
              "      <td>3</td>\n",
              "      <td>978302109</td>\n",
              "    </tr>\n",
              "    <tr>\n",
              "      <th>2</th>\n",
              "      <td>1</td>\n",
              "      <td>914</td>\n",
              "      <td>3</td>\n",
              "      <td>978301968</td>\n",
              "    </tr>\n",
              "    <tr>\n",
              "      <th>3</th>\n",
              "      <td>1</td>\n",
              "      <td>3408</td>\n",
              "      <td>4</td>\n",
              "      <td>978300275</td>\n",
              "    </tr>\n",
              "    <tr>\n",
              "      <th>4</th>\n",
              "      <td>1</td>\n",
              "      <td>2355</td>\n",
              "      <td>5</td>\n",
              "      <td>978824291</td>\n",
              "    </tr>\n",
              "  </tbody>\n",
              "</table>\n",
              "</div>"
            ],
            "text/plain": [
              "   user_id  movie_id  rating       time\n",
              "0        1      1193       5  978300760\n",
              "1        1       661       3  978302109\n",
              "2        1       914       3  978301968\n",
              "3        1      3408       4  978300275\n",
              "4        1      2355       5  978824291"
            ]
          },
          "execution_count": 4,
          "metadata": {},
          "output_type": "execute_result"
        }
      ],
      "source": [
        "data.head()"
      ]
    },
    {
      "cell_type": "code",
      "execution_count": 5,
      "metadata": {
        "colab": {
          "base_uri": "https://localhost:8080/",
          "height": 206
        },
        "id": "-3IBevrAzEjC",
        "outputId": "7e3c0c44-2f3c-4db2-ea66-3d9ffd681686"
      },
      "outputs": [
        {
          "data": {
            "text/html": [
              "<div>\n",
              "<style scoped>\n",
              "    .dataframe tbody tr th:only-of-type {\n",
              "        vertical-align: middle;\n",
              "    }\n",
              "\n",
              "    .dataframe tbody tr th {\n",
              "        vertical-align: top;\n",
              "    }\n",
              "\n",
              "    .dataframe thead th {\n",
              "        text-align: right;\n",
              "    }\n",
              "</style>\n",
              "<table border=\"1\" class=\"dataframe\">\n",
              "  <thead>\n",
              "    <tr style=\"text-align: right;\">\n",
              "      <th></th>\n",
              "      <th>movie_id</th>\n",
              "      <th>title</th>\n",
              "      <th>genre</th>\n",
              "    </tr>\n",
              "  </thead>\n",
              "  <tbody>\n",
              "    <tr>\n",
              "      <th>0</th>\n",
              "      <td>1</td>\n",
              "      <td>Toy Story (1995)</td>\n",
              "      <td>Animation|Children's|Comedy</td>\n",
              "    </tr>\n",
              "    <tr>\n",
              "      <th>1</th>\n",
              "      <td>2</td>\n",
              "      <td>Jumanji (1995)</td>\n",
              "      <td>Adventure|Children's|Fantasy</td>\n",
              "    </tr>\n",
              "    <tr>\n",
              "      <th>2</th>\n",
              "      <td>3</td>\n",
              "      <td>Grumpier Old Men (1995)</td>\n",
              "      <td>Comedy|Romance</td>\n",
              "    </tr>\n",
              "    <tr>\n",
              "      <th>3</th>\n",
              "      <td>4</td>\n",
              "      <td>Waiting to Exhale (1995)</td>\n",
              "      <td>Comedy|Drama</td>\n",
              "    </tr>\n",
              "    <tr>\n",
              "      <th>4</th>\n",
              "      <td>5</td>\n",
              "      <td>Father of the Bride Part II (1995)</td>\n",
              "      <td>Comedy</td>\n",
              "    </tr>\n",
              "  </tbody>\n",
              "</table>\n",
              "</div>"
            ],
            "text/plain": [
              "   movie_id                               title                         genre\n",
              "0         1                    Toy Story (1995)   Animation|Children's|Comedy\n",
              "1         2                      Jumanji (1995)  Adventure|Children's|Fantasy\n",
              "2         3             Grumpier Old Men (1995)                Comedy|Romance\n",
              "3         4            Waiting to Exhale (1995)                  Comedy|Drama\n",
              "4         5  Father of the Bride Part II (1995)                        Comedy"
            ]
          },
          "execution_count": 5,
          "metadata": {},
          "output_type": "execute_result"
        }
      ],
      "source": [
        "movie_data.head()"
      ]
    },
    {
      "cell_type": "markdown",
      "metadata": {
        "id": "k15J-2f1zo6u"
      },
      "source": [
        " Create the ratings matrix of shape (m×u\n",
        ") with rows as movies and columns as users"
      ]
    },
    {
      "cell_type": "code",
      "execution_count": 6,
      "metadata": {
        "colab": {
          "base_uri": "https://localhost:8080/"
        },
        "id": "TVf433kw1sVj",
        "outputId": "d89c73e3-d688-44ef-fb7f-f4cbd337b024"
      },
      "outputs": [
        {
          "data": {
            "text/plain": [
              "array([   1,    2,    3, ..., 3950, 3951, 3952], dtype=int64)"
            ]
          },
          "execution_count": 6,
          "metadata": {},
          "output_type": "execute_result"
        }
      ],
      "source": [
        "movie_data['movie_id'].unique()"
      ]
    },
    {
      "cell_type": "code",
      "execution_count": 7,
      "metadata": {
        "colab": {
          "base_uri": "https://localhost:8080/"
        },
        "id": "3tljfh0w2Dzw",
        "outputId": "baef2528-7ba9-4425-cdff-38174db9e665"
      },
      "outputs": [
        {
          "data": {
            "text/plain": [
              "3883"
            ]
          },
          "execution_count": 7,
          "metadata": {},
          "output_type": "execute_result"
        }
      ],
      "source": [
        "movie_data['movie_id'].nunique()\n"
      ]
    },
    {
      "cell_type": "code",
      "execution_count": 8,
      "metadata": {
        "id": "SDvnCgUFzHMP"
      },
      "outputs": [],
      "source": [
        "ratings_mat = np.ndarray(\n",
        "    shape=(np.max(data.movie_id.values), np.max(data.user_id.values)),\n",
        "    dtype=np.uint8)\n",
        "ratings_mat[data.movie_id.values-1, data.user_id.values-1] = data.rating.values"
      ]
    },
    {
      "cell_type": "code",
      "execution_count": 9,
      "metadata": {
        "colab": {
          "base_uri": "https://localhost:8080/"
        },
        "id": "dMeJXUEczujx",
        "outputId": "969216aa-ad44-4e72-83a8-900849317548"
      },
      "outputs": [
        {
          "data": {
            "text/plain": [
              "array([[5, 0, 0, ..., 0, 0, 3],\n",
              "       [0, 0, 0, ..., 0, 0, 0],\n",
              "       [0, 0, 0, ..., 0, 0, 0],\n",
              "       ...,\n",
              "       [0, 0, 0, ..., 0, 0, 0],\n",
              "       [0, 0, 0, ..., 0, 0, 0],\n",
              "       [0, 0, 0, ..., 0, 0, 0]], dtype=uint8)"
            ]
          },
          "execution_count": 9,
          "metadata": {},
          "output_type": "execute_result"
        }
      ],
      "source": [
        "ratings_mat"
      ]
    },
    {
      "cell_type": "markdown",
      "metadata": {
        "id": "SjC1pDPs0blF"
      },
      "source": [
        " Normalise matrix (subtract mean off)"
      ]
    },
    {
      "cell_type": "code",
      "execution_count": 10,
      "metadata": {
        "id": "rp2dP2KCzzSH"
      },
      "outputs": [],
      "source": [
        "normalised_mat = ratings_mat - np.asarray([(np.mean(ratings_mat, 1))]).T\n"
      ]
    },
    {
      "cell_type": "code",
      "execution_count": 11,
      "metadata": {
        "colab": {
          "base_uri": "https://localhost:8080/"
        },
        "id": "KrQcmT5w0eLf",
        "outputId": "9c7f240e-e8cc-4de3-b0ca-87804b805c3a"
      },
      "outputs": [
        {
          "data": {
            "text/plain": [
              "array([[ 3.57400662, -1.42599338, -1.42599338, ..., -1.42599338,\n",
              "        -1.42599338,  1.57400662],\n",
              "       [-0.37152318, -0.37152318, -0.37152318, ..., -0.37152318,\n",
              "        -0.37152318, -0.37152318],\n",
              "       [-0.23874172, -0.23874172, -0.23874172, ..., -0.23874172,\n",
              "        -0.23874172, -0.23874172],\n",
              "       ...,\n",
              "       [-0.03278146, -0.03278146, -0.03278146, ..., -0.03278146,\n",
              "        -0.03278146, -0.03278146],\n",
              "       [-0.02582781, -0.02582781, -0.02582781, ..., -0.02582781,\n",
              "        -0.02582781, -0.02582781],\n",
              "       [-0.24288079, -0.24288079, -0.24288079, ..., -0.24288079,\n",
              "        -0.24288079, -0.24288079]])"
            ]
          },
          "execution_count": 11,
          "metadata": {},
          "output_type": "execute_result"
        }
      ],
      "source": [
        "normalised_mat"
      ]
    },
    {
      "cell_type": "markdown",
      "metadata": {
        "id": "iTwSlFaD0jDC"
      },
      "source": [
        "Compute SVD"
      ]
    },
    {
      "cell_type": "code",
      "execution_count": 12,
      "metadata": {
        "id": "E8zgXcQV0fmw"
      },
      "outputs": [],
      "source": [
        "A = normalised_mat.T / np.sqrt(ratings_mat.shape[0] - 1)\n",
        "U, S, V = np.linalg.svd(A)"
      ]
    },
    {
      "cell_type": "markdown",
      "metadata": {
        "id": "SSNykhhj1JoW"
      },
      "source": [
        "Calculate cosine similarity, sort by most similar and return the top N."
      ]
    },
    {
      "cell_type": "code",
      "execution_count": 13,
      "metadata": {
        "id": "t7HzwXpH0l5C"
      },
      "outputs": [],
      "source": [
        "def top_cosine_similarity(data, movie_id, top_n=10):\n",
        "    index = movie_id - 1 # Movie id starts from 1\n",
        "    movie_row = data[index, :]\n",
        "    magnitude = np.sqrt(np.einsum('ij, ij -> i', data, data))\n",
        "\n",
        "    # Check for zero magnitude before performing division\n",
        "    magnitude_product = magnitude[index] * magnitude\n",
        "    magnitude_product[magnitude_product == 0] = 1.0  # Replace zeros with a non-zero value\n",
        "\n",
        "    similarity = np.dot(movie_row, data.T) / magnitude_product\n",
        "    sort_indexes = np.argsort(-similarity)\n",
        "    return sort_indexes[:top_n]\n",
        "\n",
        "\n",
        "# Helper function to print top N similar movies\n",
        "def print_similar_movies(movie_data, movie_id, top_indexes):\n",
        "    print('Recommendations for {0}: \\n'.format(\n",
        "    movie_data[movie_data.movie_id == movie_id].title.values[0]))\n",
        "    for id in top_indexes + 1:\n",
        "        print(movie_data[movie_data.movie_id == id].title.values[0])"
      ]
    },
    {
      "cell_type": "markdown",
      "metadata": {
        "id": "380ToiUF1R4p"
      },
      "source": [
        "Select k\n",
        " principal components to represent the movies, a movie_id to find recommendations and print the top_n results."
      ]
    },
    {
      "cell_type": "code",
      "execution_count": 14,
      "metadata": {
        "colab": {
          "base_uri": "https://localhost:8080/"
        },
        "id": "TUTHHiVd1O7N",
        "outputId": "ff600b9b-bed8-4ec7-d4fc-588e57402619"
      },
      "outputs": [
        {
          "name": "stdout",
          "output_type": "stream",
          "text": [
            "Recommendations for Toy Story (1995): \n",
            "\n",
            "Toy Story (1995)\n",
            "Toy Story 2 (1999)\n",
            "Babe (1995)\n",
            "Bug's Life, A (1998)\n",
            "Pleasantville (1998)\n",
            "Babe: Pig in the City (1998)\n",
            "Aladdin (1992)\n",
            "Stuart Little (1999)\n",
            "Secret Garden, The (1993)\n",
            "Tarzan (1999)\n"
          ]
        }
      ],
      "source": [
        "k = 50\n",
        "movie_id = 1 # Grab an id from movies.dat\n",
        "top_n = 10\n",
        "\n",
        "sliced = V.T[:, :k] # representative data\n",
        "indexes = top_cosine_similarity(sliced, movie_id, top_n)\n",
        "print_similar_movies(movie_data, movie_id, indexes)"
      ]
    },
    {
      "cell_type": "markdown",
      "metadata": {
        "id": "y7w1WFoe1bET"
      },
      "source": [
        "We can change k and use different number of principal components to represent our dataset. This is essentially performing dimensionality reduction."
      ]
    },
    {
      "cell_type": "code",
      "execution_count": 15,
      "metadata": {
        "colab": {
          "base_uri": "https://localhost:8080/"
        },
        "id": "0b_CkNIw1U8N",
        "outputId": "6c97249a-9aa9-4a92-dec8-c34a9914ea7c"
      },
      "outputs": [
        {
          "name": "stdout",
          "output_type": "stream",
          "text": [
            "Recommendations for Tigerland (2000): \n",
            "\n",
            "Tigerland (2000)\n",
            "Requiem for a Dream (2000)\n",
            "Yards, The (1999)\n",
            "Two Family House (2000)\n",
            "Dancer in the Dark (2000)\n",
            "Steal This Movie! (2000)\n",
            "Black and White (1999)\n",
            "Girlfight (2000)\n",
            "Tao of Steve, The (2000)\n",
            "Me Myself I (2000)\n"
          ]
        }
      ],
      "source": [
        "k = 50\n",
        "movie_id = 3950 # Grab an id from movies.dat\n",
        "top_n = 10\n",
        "\n",
        "sliced = V.T[:, :k] # representative data\n",
        "indexes = top_cosine_similarity(sliced, movie_id, top_n)\n",
        "print_similar_movies(movie_data, movie_id, indexes)"
      ]
    }
  ],
  "metadata": {
    "colab": {
      "provenance": []
    },
    "kernelspec": {
      "display_name": "Python 3",
      "name": "python3"
    },
    "language_info": {
      "codemirror_mode": {
        "name": "ipython",
        "version": 3
      },
      "file_extension": ".py",
      "mimetype": "text/x-python",
      "name": "python",
      "nbconvert_exporter": "python",
      "pygments_lexer": "ipython3",
      "version": "3.12.0"
    }
  },
  "nbformat": 4,
  "nbformat_minor": 0
}
