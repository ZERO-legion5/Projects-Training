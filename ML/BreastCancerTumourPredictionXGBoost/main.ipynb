{
  "cells": [
    {
      "cell_type": "markdown",
      "metadata": {},
      "source": [
        "# Import Libraries"
      ]
    },
    {
      "cell_type": "code",
      "execution_count": 1,
      "metadata": {
        "id": "ymzYUVtpzALv"
      },
      "outputs": [],
      "source": [
        "import numpy as np\n",
        "import pandas as pd\n",
        "\n",
        "import matplotlib.pyplot as plt\n",
        "import seaborn as sns\n",
        "%matplotlib inline"
      ]
    },
    {
      "cell_type": "markdown",
      "metadata": {
        "id": "t4_mLf6p0QRw"
      },
      "source": [
        "# Importing Data"
      ]
    },
    {
      "cell_type": "code",
      "execution_count": 2,
      "metadata": {
        "id": "7THv31ryzwkE"
      },
      "outputs": [],
      "source": [
        "df=pd.read_csv('BreastCancerWisconsinDataSet.csv')"
      ]
    },
    {
      "cell_type": "code",
      "execution_count": 3,
      "metadata": {
        "colab": {
          "base_uri": "https://localhost:8080/",
          "height": 272
        },
        "id": "D_meRlHOz-Xn",
        "outputId": "a58ccd24-2195-47ff-a75e-72806da58c09"
      },
      "outputs": [
        {
          "data": {
            "text/html": [
              "<div>\n",
              "<style scoped>\n",
              "    .dataframe tbody tr th:only-of-type {\n",
              "        vertical-align: middle;\n",
              "    }\n",
              "\n",
              "    .dataframe tbody tr th {\n",
              "        vertical-align: top;\n",
              "    }\n",
              "\n",
              "    .dataframe thead th {\n",
              "        text-align: right;\n",
              "    }\n",
              "</style>\n",
              "<table border=\"1\" class=\"dataframe\">\n",
              "  <thead>\n",
              "    <tr style=\"text-align: right;\">\n",
              "      <th></th>\n",
              "      <th>id</th>\n",
              "      <th>diagnosis</th>\n",
              "      <th>radius_mean</th>\n",
              "      <th>texture_mean</th>\n",
              "      <th>perimeter_mean</th>\n",
              "      <th>area_mean</th>\n",
              "      <th>smoothness_mean</th>\n",
              "      <th>compactness_mean</th>\n",
              "      <th>concavity_mean</th>\n",
              "      <th>concave points_mean</th>\n",
              "      <th>...</th>\n",
              "      <th>radius_worst</th>\n",
              "      <th>texture_worst</th>\n",
              "      <th>perimeter_worst</th>\n",
              "      <th>area_worst</th>\n",
              "      <th>smoothness_worst</th>\n",
              "      <th>compactness_worst</th>\n",
              "      <th>concavity_worst</th>\n",
              "      <th>concave points_worst</th>\n",
              "      <th>symmetry_worst</th>\n",
              "      <th>fractal_dimension_worst</th>\n",
              "    </tr>\n",
              "  </thead>\n",
              "  <tbody>\n",
              "    <tr>\n",
              "      <th>0</th>\n",
              "      <td>842302</td>\n",
              "      <td>M</td>\n",
              "      <td>17.99</td>\n",
              "      <td>10.38</td>\n",
              "      <td>122.80</td>\n",
              "      <td>1001.0</td>\n",
              "      <td>0.11840</td>\n",
              "      <td>0.27760</td>\n",
              "      <td>0.3001</td>\n",
              "      <td>0.14710</td>\n",
              "      <td>...</td>\n",
              "      <td>25.38</td>\n",
              "      <td>17.33</td>\n",
              "      <td>184.60</td>\n",
              "      <td>2019.0</td>\n",
              "      <td>0.1622</td>\n",
              "      <td>0.6656</td>\n",
              "      <td>0.7119</td>\n",
              "      <td>0.2654</td>\n",
              "      <td>0.4601</td>\n",
              "      <td>0.11890</td>\n",
              "    </tr>\n",
              "    <tr>\n",
              "      <th>1</th>\n",
              "      <td>842517</td>\n",
              "      <td>M</td>\n",
              "      <td>20.57</td>\n",
              "      <td>17.77</td>\n",
              "      <td>132.90</td>\n",
              "      <td>1326.0</td>\n",
              "      <td>0.08474</td>\n",
              "      <td>0.07864</td>\n",
              "      <td>0.0869</td>\n",
              "      <td>0.07017</td>\n",
              "      <td>...</td>\n",
              "      <td>24.99</td>\n",
              "      <td>23.41</td>\n",
              "      <td>158.80</td>\n",
              "      <td>1956.0</td>\n",
              "      <td>0.1238</td>\n",
              "      <td>0.1866</td>\n",
              "      <td>0.2416</td>\n",
              "      <td>0.1860</td>\n",
              "      <td>0.2750</td>\n",
              "      <td>0.08902</td>\n",
              "    </tr>\n",
              "    <tr>\n",
              "      <th>2</th>\n",
              "      <td>84300903</td>\n",
              "      <td>M</td>\n",
              "      <td>19.69</td>\n",
              "      <td>21.25</td>\n",
              "      <td>130.00</td>\n",
              "      <td>1203.0</td>\n",
              "      <td>0.10960</td>\n",
              "      <td>0.15990</td>\n",
              "      <td>0.1974</td>\n",
              "      <td>0.12790</td>\n",
              "      <td>...</td>\n",
              "      <td>23.57</td>\n",
              "      <td>25.53</td>\n",
              "      <td>152.50</td>\n",
              "      <td>1709.0</td>\n",
              "      <td>0.1444</td>\n",
              "      <td>0.4245</td>\n",
              "      <td>0.4504</td>\n",
              "      <td>0.2430</td>\n",
              "      <td>0.3613</td>\n",
              "      <td>0.08758</td>\n",
              "    </tr>\n",
              "    <tr>\n",
              "      <th>3</th>\n",
              "      <td>84348301</td>\n",
              "      <td>M</td>\n",
              "      <td>11.42</td>\n",
              "      <td>20.38</td>\n",
              "      <td>77.58</td>\n",
              "      <td>386.1</td>\n",
              "      <td>0.14250</td>\n",
              "      <td>0.28390</td>\n",
              "      <td>0.2414</td>\n",
              "      <td>0.10520</td>\n",
              "      <td>...</td>\n",
              "      <td>14.91</td>\n",
              "      <td>26.50</td>\n",
              "      <td>98.87</td>\n",
              "      <td>567.7</td>\n",
              "      <td>0.2098</td>\n",
              "      <td>0.8663</td>\n",
              "      <td>0.6869</td>\n",
              "      <td>0.2575</td>\n",
              "      <td>0.6638</td>\n",
              "      <td>0.17300</td>\n",
              "    </tr>\n",
              "    <tr>\n",
              "      <th>4</th>\n",
              "      <td>84358402</td>\n",
              "      <td>M</td>\n",
              "      <td>20.29</td>\n",
              "      <td>14.34</td>\n",
              "      <td>135.10</td>\n",
              "      <td>1297.0</td>\n",
              "      <td>0.10030</td>\n",
              "      <td>0.13280</td>\n",
              "      <td>0.1980</td>\n",
              "      <td>0.10430</td>\n",
              "      <td>...</td>\n",
              "      <td>22.54</td>\n",
              "      <td>16.67</td>\n",
              "      <td>152.20</td>\n",
              "      <td>1575.0</td>\n",
              "      <td>0.1374</td>\n",
              "      <td>0.2050</td>\n",
              "      <td>0.4000</td>\n",
              "      <td>0.1625</td>\n",
              "      <td>0.2364</td>\n",
              "      <td>0.07678</td>\n",
              "    </tr>\n",
              "  </tbody>\n",
              "</table>\n",
              "<p>5 rows × 32 columns</p>\n",
              "</div>"
            ],
            "text/plain": [
              "         id diagnosis  radius_mean  texture_mean  perimeter_mean  area_mean  \\\n",
              "0    842302         M        17.99         10.38          122.80     1001.0   \n",
              "1    842517         M        20.57         17.77          132.90     1326.0   \n",
              "2  84300903         M        19.69         21.25          130.00     1203.0   \n",
              "3  84348301         M        11.42         20.38           77.58      386.1   \n",
              "4  84358402         M        20.29         14.34          135.10     1297.0   \n",
              "\n",
              "   smoothness_mean  compactness_mean  concavity_mean  concave points_mean  \\\n",
              "0          0.11840           0.27760          0.3001              0.14710   \n",
              "1          0.08474           0.07864          0.0869              0.07017   \n",
              "2          0.10960           0.15990          0.1974              0.12790   \n",
              "3          0.14250           0.28390          0.2414              0.10520   \n",
              "4          0.10030           0.13280          0.1980              0.10430   \n",
              "\n",
              "   ...  radius_worst  texture_worst  perimeter_worst  area_worst  \\\n",
              "0  ...         25.38          17.33           184.60      2019.0   \n",
              "1  ...         24.99          23.41           158.80      1956.0   \n",
              "2  ...         23.57          25.53           152.50      1709.0   \n",
              "3  ...         14.91          26.50            98.87       567.7   \n",
              "4  ...         22.54          16.67           152.20      1575.0   \n",
              "\n",
              "   smoothness_worst  compactness_worst  concavity_worst  concave points_worst  \\\n",
              "0            0.1622             0.6656           0.7119                0.2654   \n",
              "1            0.1238             0.1866           0.2416                0.1860   \n",
              "2            0.1444             0.4245           0.4504                0.2430   \n",
              "3            0.2098             0.8663           0.6869                0.2575   \n",
              "4            0.1374             0.2050           0.4000                0.1625   \n",
              "\n",
              "   symmetry_worst  fractal_dimension_worst  \n",
              "0          0.4601                  0.11890  \n",
              "1          0.2750                  0.08902  \n",
              "2          0.3613                  0.08758  \n",
              "3          0.6638                  0.17300  \n",
              "4          0.2364                  0.07678  \n",
              "\n",
              "[5 rows x 32 columns]"
            ]
          },
          "execution_count": 3,
          "metadata": {},
          "output_type": "execute_result"
        }
      ],
      "source": [
        "df.head()"
      ]
    },
    {
      "cell_type": "code",
      "execution_count": 4,
      "metadata": {
        "colab": {
          "base_uri": "https://localhost:8080/"
        },
        "id": "Y4xiuclA0O_n",
        "outputId": "0939061c-a4f9-4b11-a97b-3eb114618d84"
      },
      "outputs": [
        {
          "data": {
            "text/plain": [
              "(569, 32)"
            ]
          },
          "execution_count": 4,
          "metadata": {},
          "output_type": "execute_result"
        }
      ],
      "source": [
        "df.shape"
      ]
    },
    {
      "cell_type": "code",
      "execution_count": 5,
      "metadata": {
        "colab": {
          "base_uri": "https://localhost:8080/"
        },
        "id": "-pU-WxQs06Rm",
        "outputId": "7ec40e84-e40b-42af-bf39-d6d51f82eff0"
      },
      "outputs": [
        {
          "data": {
            "text/plain": [
              "diagnosis\n",
              "B    357\n",
              "M    212\n",
              "Name: count, dtype: int64"
            ]
          },
          "execution_count": 5,
          "metadata": {},
          "output_type": "execute_result"
        }
      ],
      "source": [
        "df['diagnosis'].value_counts()"
      ]
    },
    {
      "cell_type": "code",
      "execution_count": 6,
      "metadata": {
        "colab": {
          "base_uri": "https://localhost:8080/"
        },
        "id": "Uc9pPd7C0_q5",
        "outputId": "f22c3d0c-1551-4d1b-8631-447625cc6951"
      },
      "outputs": [
        {
          "data": {
            "text/plain": [
              "id                         0\n",
              "diagnosis                  0\n",
              "radius_mean                0\n",
              "texture_mean               0\n",
              "perimeter_mean             0\n",
              "area_mean                  0\n",
              "smoothness_mean            0\n",
              "compactness_mean           0\n",
              "concavity_mean             0\n",
              "concave points_mean        0\n",
              "symmetry_mean              0\n",
              "fractal_dimension_mean     0\n",
              "radius_se                  0\n",
              "texture_se                 0\n",
              "perimeter_se               0\n",
              "area_se                    0\n",
              "smoothness_se              0\n",
              "compactness_se             0\n",
              "concavity_se               0\n",
              "concave points_se          0\n",
              "symmetry_se                0\n",
              "fractal_dimension_se       0\n",
              "radius_worst               0\n",
              "texture_worst              0\n",
              "perimeter_worst            0\n",
              "area_worst                 0\n",
              "smoothness_worst           0\n",
              "compactness_worst          0\n",
              "concavity_worst            0\n",
              "concave points_worst       0\n",
              "symmetry_worst             0\n",
              "fractal_dimension_worst    0\n",
              "dtype: int64"
            ]
          },
          "execution_count": 6,
          "metadata": {},
          "output_type": "execute_result"
        }
      ],
      "source": [
        "df.isnull().sum()"
      ]
    },
    {
      "cell_type": "code",
      "execution_count": 8,
      "metadata": {
        "colab": {
          "base_uri": "https://localhost:8080/",
          "height": 467
        },
        "id": "0Z9ntHMW2Md5",
        "outputId": "9b8d1bbd-f224-4c39-eb6f-405fd9c053f9"
      },
      "outputs": [
        {
          "data": {
            "text/plain": [
              "<Axes: xlabel='diagnosis', ylabel='count'>"
            ]
          },
          "execution_count": 8,
          "metadata": {},
          "output_type": "execute_result"
        },
        {
          "data": {
            "image/png": "[encoded data removed]",
            "text/plain": [
              "<Figure size 640x480 with 1 Axes>"
            ]
          },
          "metadata": {},
          "output_type": "display_data"
        }
      ],
      "source": [
        "sns.countplot(df,x='diagnosis',hue='diagnosis')"
      ]
    },
    {
      "cell_type": "markdown",
      "metadata": {
        "id": "RAj9DD_Q2k9Z"
      },
      "source": [
        " Breast Tumors is benign(B) (not cancer) or malignant (M)(cancer)"
      ]
    },
    {
      "cell_type": "markdown",
      "metadata": {
        "id": "9Fex0IwP0meS"
      },
      "source": [
        " # Create an XGBoost model"
      ]
    },
    {
      "cell_type": "markdown",
      "metadata": {
        "id": "Raon64hE4kwA"
      },
      "source": [
        "Now, you can prepare your data for model building. You will use the diagnosis column as your target variable so you must remove it from the set of predictors. You must also remove the id variable."
      ]
    },
    {
      "cell_type": "code",
      "execution_count": 9,
      "metadata": {
        "id": "iNvd93We3Z7P"
      },
      "outputs": [],
      "source": [
        "y=df['diagnosis']"
      ]
    },
    {
      "cell_type": "code",
      "execution_count": 10,
      "metadata": {
        "id": "qkhYspTT3wnV"
      },
      "outputs": [],
      "source": [
        "df.drop('diagnosis',axis=1,inplace=True)"
      ]
    },
    {
      "cell_type": "code",
      "execution_count": 11,
      "metadata": {
        "colab": {
          "base_uri": "https://localhost:8080/"
        },
        "id": "eZZ_2rye4LPG",
        "outputId": "b9f04b1d-92ac-4c5a-c9ba-08b3055b57e4"
      },
      "outputs": [
        {
          "data": {
            "text/plain": [
              "(569, 31)"
            ]
          },
          "execution_count": 11,
          "metadata": {},
          "output_type": "execute_result"
        }
      ],
      "source": [
        "df.shape"
      ]
    },
    {
      "cell_type": "code",
      "execution_count": 12,
      "metadata": {
        "id": "yI9jpl114AW7"
      },
      "outputs": [],
      "source": [
        "X=df.iloc[:,1:].values"
      ]
    },
    {
      "cell_type": "code",
      "execution_count": 13,
      "metadata": {
        "colab": {
          "base_uri": "https://localhost:8080/"
        },
        "id": "8nx2aOdF4BgR",
        "outputId": "d68bee9f-0aa7-431b-f0cb-40c6b94b3bb6"
      },
      "outputs": [
        {
          "data": {
            "text/plain": [
              "30"
            ]
          },
          "execution_count": 13,
          "metadata": {},
          "output_type": "execute_result"
        }
      ],
      "source": [
        "len(X[0])\n"
      ]
    },
    {
      "cell_type": "code",
      "execution_count": 14,
      "metadata": {
        "id": "elmoFARR5NOc"
      },
      "outputs": [],
      "source": [
        "from sklearn.preprocessing import LabelEncoder\n",
        "\n",
        "labelencoder_Y = LabelEncoder()\n",
        "y = labelencoder_Y.fit_transform(y)"
      ]
    },
    {
      "cell_type": "markdown",
      "metadata": {
        "id": "8TLqE0-b4fTZ"
      },
      "source": [
        "# Split the data set into:\n",
        "\n",
        "Train data set\n",
        "\n",
        "Test data set"
      ]
    },
    {
      "cell_type": "code",
      "execution_count": 15,
      "metadata": {
        "id": "zU5tOtMo4QMb"
      },
      "outputs": [],
      "source": [
        "from sklearn.model_selection import train_test_split\n",
        "\n",
        "X_train, X_test, y_train, y_test = train_test_split(X, y, test_size=0.25, random_state=143)"
      ]
    },
    {
      "cell_type": "code",
      "execution_count": 16,
      "metadata": {
        "colab": {
          "base_uri": "https://localhost:8080/"
        },
        "id": "jAYMA-js4upr",
        "outputId": "9f7688e6-1ba9-4faf-c66f-66df09858eab"
      },
      "outputs": [
        {
          "name": "stdout",
          "output_type": "stream",
          "text": [
            "Number of training records: 426\n",
            "Number of testing records : 143\n"
          ]
        }
      ],
      "source": [
        "# List the number of records in each data set.\n",
        "print(\"Number of training records: \" + str(X_train.shape[0]))\n",
        "print(\"Number of testing records : \" + str(X_test.shape[0]))"
      ]
    },
    {
      "cell_type": "markdown",
      "metadata": {
        "id": "yt5lABbV43Uk"
      },
      "source": [
        "The data has been successfully split into two data sets:\n",
        "\n",
        "The train data set, which is the largest group, will be used for training\n",
        "The test data set will be used for model evaluation and is used to test the assumptions of the model"
      ]
    },
    {
      "cell_type": "code",
      "execution_count": 17,
      "metadata": {
        "id": "w8wHtvpM4xQr"
      },
      "outputs": [],
      "source": [
        "# Import the libraries you need to create the XGBoost model.\n",
        "from xgboost.sklearn import XGBClassifier\n",
        "import warnings\n",
        "\n",
        "from sklearn.model_selection import GridSearchCV\n",
        "from sklearn.metrics import accuracy_score"
      ]
    },
    {
      "cell_type": "code",
      "execution_count": 18,
      "metadata": {
        "id": "loWQ-imQ45IE"
      },
      "outputs": [],
      "source": [
        "warnings.filterwarnings(\"ignore\", message=\"`use_label_encoder` is deprecated in 1.7.0.\")\n",
        "\n",
        "# Create the XGB classifier, xgb_model.\n",
        "xgb_model = XGBClassifier(use_label_encoder=False, n_jobs=1)"
      ]
    },
    {
      "cell_type": "code",
      "execution_count": 19,
      "metadata": {
        "colab": {
          "base_uri": "https://localhost:8080/"
        },
        "id": "_7l_vB4Y49co",
        "outputId": "f1df979e-a9f5-4d5e-96ab-fe33ef188943"
      },
      "outputs": [
        {
          "name": "stdout",
          "output_type": "stream",
          "text": [
            "{'objective': 'binary:logistic', 'base_score': None, 'booster': None, 'colsample_bylevel': None, 'colsample_bynode': None, 'colsample_bytree': None, 'device': None, 'eval_metric': None, 'gamma': None, 'grow_policy': None, 'interaction_constraints': None, 'learning_rate': None, 'max_bin': None, 'max_cat_threshold': None, 'max_cat_to_onehot': None, 'max_delta_step': None, 'max_depth': None, 'max_leaves': None, 'min_child_weight': None, 'monotone_constraints': None, 'multi_strategy': None, 'n_jobs': 1, 'num_parallel_tree': None, 'random_state': None, 'reg_alpha': None, 'reg_lambda': None, 'sampling_method': None, 'scale_pos_weight': None, 'subsample': None, 'tree_method': None, 'validate_parameters': None, 'verbosity': None}\n"
          ]
        }
      ],
      "source": [
        "# List the default parameters.\n",
        "print(xgb_model.get_xgb_params())"
      ]
    },
    {
      "cell_type": "code",
      "execution_count": 20,
      "metadata": {
        "colab": {
          "base_uri": "https://localhost:8080/",
          "height": 1000
        },
        "id": "FzbxfmQo5APl",
        "outputId": "9b96f149-6f49-44cc-c606-8c2bc8a017b3"
      },
      "outputs": [
        {
          "name": "stdout",
          "output_type": "stream",
          "text": [
            "[0]\tvalidation_0-error:0.04225\tvalidation_1-error:0.04196\n",
            "[1]\tvalidation_0-error:0.01878\tvalidation_1-error:0.03497\n",
            "[2]\tvalidation_0-error:0.01643\tvalidation_1-error:0.04895\n",
            "[3]\tvalidation_0-error:0.00704\tvalidation_1-error:0.04895\n",
            "[4]\tvalidation_0-error:0.00469\tvalidation_1-error:0.04196\n",
            "[5]\tvalidation_0-error:0.00469\tvalidation_1-error:0.04196\n",
            "[6]\tvalidation_0-error:0.00469\tvalidation_1-error:0.04196\n",
            "[7]\tvalidation_0-error:0.00469\tvalidation_1-error:0.04196\n",
            "[8]\tvalidation_0-error:0.00235\tvalidation_1-error:0.04895\n",
            "[9]\tvalidation_0-error:0.00235\tvalidation_1-error:0.03497\n",
            "[10]\tvalidation_0-error:0.00235\tvalidation_1-error:0.03497\n",
            "[11]\tvalidation_0-error:0.00235\tvalidation_1-error:0.03497\n",
            "[12]\tvalidation_0-error:0.00235\tvalidation_1-error:0.03497\n",
            "[13]\tvalidation_0-error:0.00235\tvalidation_1-error:0.03497\n",
            "[14]\tvalidation_0-error:0.00235\tvalidation_1-error:0.03497\n"
          ]
        },
        {
          "name": "stdout",
          "output_type": "stream",
          "text": [
            "[15]\tvalidation_0-error:0.00235\tvalidation_1-error:0.04196\n",
            "[16]\tvalidation_0-error:0.00000\tvalidation_1-error:0.03497\n",
            "[17]\tvalidation_0-error:0.00000\tvalidation_1-error:0.03497\n",
            "[18]\tvalidation_0-error:0.00000\tvalidation_1-error:0.04196\n",
            "[19]\tvalidation_0-error:0.00000\tvalidation_1-error:0.04196\n",
            "[20]\tvalidation_0-error:0.00000\tvalidation_1-error:0.04196\n",
            "[21]\tvalidation_0-error:0.00000\tvalidation_1-error:0.04895\n",
            "[22]\tvalidation_0-error:0.00000\tvalidation_1-error:0.04196\n",
            "[23]\tvalidation_0-error:0.00000\tvalidation_1-error:0.04895\n",
            "[24]\tvalidation_0-error:0.00000\tvalidation_1-error:0.04895\n",
            "[25]\tvalidation_0-error:0.00000\tvalidation_1-error:0.04196\n",
            "[26]\tvalidation_0-error:0.00000\tvalidation_1-error:0.03497\n",
            "[27]\tvalidation_0-error:0.00000\tvalidation_1-error:0.04895\n",
            "[28]\tvalidation_0-error:0.00000\tvalidation_1-error:0.04895\n",
            "[29]\tvalidation_0-error:0.00000\tvalidation_1-error:0.04895\n",
            "[30]\tvalidation_0-error:0.00000\tvalidation_1-error:0.05594\n",
            "[31]\tvalidation_0-error:0.00000\tvalidation_1-error:0.04895\n",
            "[32]\tvalidation_0-error:0.00000\tvalidation_1-error:0.04895\n",
            "[33]\tvalidation_0-error:0.00000\tvalidation_1-error:0.04895\n",
            "[34]\tvalidation_0-error:0.00000\tvalidation_1-error:0.04895\n",
            "[35]\tvalidation_0-error:0.00000\tvalidation_1-error:0.05594\n"
          ]
        },
        {
          "name": "stderr",
          "output_type": "stream",
          "text": [
            "c:\\Python312\\Lib\\site-packages\\xgboost\\sklearn.py:885: UserWarning: `eval_metric` in `fit` method is deprecated for better compatibility with scikit-learn, use `eval_metric` in constructor or`set_params` instead.\n",
            "  warnings.warn(\n"
          ]
        },
        {
          "name": "stdout",
          "output_type": "stream",
          "text": [
            "[36]\tvalidation_0-error:0.00000\tvalidation_1-error:0.05594\n",
            "[37]\tvalidation_0-error:0.00000\tvalidation_1-error:0.04895\n",
            "[38]\tvalidation_0-error:0.00000\tvalidation_1-error:0.04895\n",
            "[39]\tvalidation_0-error:0.00000\tvalidation_1-error:0.04895\n",
            "[40]\tvalidation_0-error:0.00000\tvalidation_1-error:0.04895\n",
            "[41]\tvalidation_0-error:0.00000\tvalidation_1-error:0.04895\n",
            "[42]\tvalidation_0-error:0.00000\tvalidation_1-error:0.04895\n",
            "[43]\tvalidation_0-error:0.00000\tvalidation_1-error:0.04895\n",
            "[44]\tvalidation_0-error:0.00000\tvalidation_1-error:0.04895\n",
            "[45]\tvalidation_0-error:0.00000\tvalidation_1-error:0.05594\n",
            "[46]\tvalidation_0-error:0.00000\tvalidation_1-error:0.04895\n",
            "[47]\tvalidation_0-error:0.00000\tvalidation_1-error:0.04895\n",
            "[48]\tvalidation_0-error:0.00000\tvalidation_1-error:0.04895\n",
            "[49]\tvalidation_0-error:0.00000\tvalidation_1-error:0.04895\n",
            "[50]\tvalidation_0-error:0.00000\tvalidation_1-error:0.04895\n",
            "[51]\tvalidation_0-error:0.00000\tvalidation_1-error:0.04895\n",
            "[52]\tvalidation_0-error:0.00000\tvalidation_1-error:0.04895\n",
            "[53]\tvalidation_0-error:0.00000\tvalidation_1-error:0.04895\n",
            "[54]\tvalidation_0-error:0.00000\tvalidation_1-error:0.04895\n",
            "[55]\tvalidation_0-error:0.00000\tvalidation_1-error:0.05594\n",
            "[56]\tvalidation_0-error:0.00000\tvalidation_1-error:0.05594\n",
            "[57]\tvalidation_0-error:0.00000\tvalidation_1-error:0.05594\n",
            "[58]\tvalidation_0-error:0.00000\tvalidation_1-error:0.05594\n",
            "[59]\tvalidation_0-error:0.00000\tvalidation_1-error:0.06294\n",
            "[60]\tvalidation_0-error:0.00000\tvalidation_1-error:0.05594\n",
            "[61]\tvalidation_0-error:0.00000\tvalidation_1-error:0.06294\n",
            "[62]\tvalidation_0-error:0.00000\tvalidation_1-error:0.05594\n",
            "[63]\tvalidation_0-error:0.00000\tvalidation_1-error:0.05594\n",
            "[64]\tvalidation_0-error:0.00000\tvalidation_1-error:0.05594\n",
            "[65]\tvalidation_0-error:0.00000\tvalidation_1-error:0.06294\n",
            "[66]\tvalidation_0-error:0.00000\tvalidation_1-error:0.05594\n",
            "[67]\tvalidation_0-error:0.00000\tvalidation_1-error:0.06294\n",
            "[68]\tvalidation_0-error:0.00000\tvalidation_1-error:0.05594\n",
            "[69]\tvalidation_0-error:0.00000\tvalidation_1-error:0.06294\n",
            "[70]\tvalidation_0-error:0.00000\tvalidation_1-error:0.05594\n",
            "[71]\tvalidation_0-error:0.00000\tvalidation_1-error:0.05594\n",
            "[72]\tvalidation_0-error:0.00000\tvalidation_1-error:0.05594\n",
            "[73]\tvalidation_0-error:0.00000\tvalidation_1-error:0.05594\n",
            "[74]\tvalidation_0-error:0.00000\tvalidation_1-error:0.05594\n",
            "[75]\tvalidation_0-error:0.00000\tvalidation_1-error:0.05594\n",
            "[76]\tvalidation_0-error:0.00000\tvalidation_1-error:0.05594\n",
            "[77]\tvalidation_0-error:0.00000\tvalidation_1-error:0.05594\n",
            "[78]\tvalidation_0-error:0.00000\tvalidation_1-error:0.05594\n",
            "[79]\tvalidation_0-error:0.00000\tvalidation_1-error:0.05594\n",
            "[80]\tvalidation_0-error:0.00000\tvalidation_1-error:0.05594\n",
            "[81]\tvalidation_0-error:0.00000\tvalidation_1-error:0.05594\n",
            "[82]\tvalidation_0-error:0.00000\tvalidation_1-error:0.05594\n",
            "[83]\tvalidation_0-error:0.00000\tvalidation_1-error:0.05594\n",
            "[84]\tvalidation_0-error:0.00000\tvalidation_1-error:0.05594\n",
            "[85]\tvalidation_0-error:0.00000\tvalidation_1-error:0.06294\n",
            "[86]\tvalidation_0-error:0.00000\tvalidation_1-error:0.05594\n",
            "[87]\tvalidation_0-error:0.00000\tvalidation_1-error:0.06294\n",
            "[88]\tvalidation_0-error:0.00000\tvalidation_1-error:0.06294\n",
            "[89]\tvalidation_0-error:0.00000\tvalidation_1-error:0.05594\n",
            "[90]\tvalidation_0-error:0.00000\tvalidation_1-error:0.05594\n",
            "[91]\tvalidation_0-error:0.00000\tvalidation_1-error:0.06294\n",
            "[92]\tvalidation_0-error:0.00000\tvalidation_1-error:0.05594\n",
            "[93]\tvalidation_0-error:0.00000\tvalidation_1-error:0.06294\n",
            "[94]\tvalidation_0-error:0.00000\tvalidation_1-error:0.06294\n",
            "[95]\tvalidation_0-error:0.00000\tvalidation_1-error:0.06294\n",
            "[96]\tvalidation_0-error:0.00000\tvalidation_1-error:0.06294\n",
            "[97]\tvalidation_0-error:0.00000\tvalidation_1-error:0.06294\n",
            "[98]\tvalidation_0-error:0.00000\tvalidation_1-error:0.06294\n",
            "[99]\tvalidation_0-error:0.00000\tvalidation_1-error:0.06294\n"
          ]
        },
        {
          "data": {
            "text/html": [
              "<style>#sk-container-id-1 {color: black;}#sk-container-id-1 pre{padding: 0;}#sk-container-id-1 div.sk-toggleable {background-color: white;}#sk-container-id-1 label.sk-toggleable__label {cursor: pointer;display: block;width: 100%;margin-bottom: 0;padding: 0.3em;box-sizing: border-box;text-align: center;}#sk-container-id-1 label.sk-toggleable__label-arrow:before {content: \"▸\";float: left;margin-right: 0.25em;color: #696969;}#sk-container-id-1 label.sk-toggleable__label-arrow:hover:before {color: black;}#sk-container-id-1 div.sk-estimator:hover label.sk-toggleable__label-arrow:before {color: black;}#sk-container-id-1 div.sk-toggleable__content {max-height: 0;max-width: 0;overflow: hidden;text-align: left;background-color: #f0f8ff;}#sk-container-id-1 div.sk-toggleable__content pre {margin: 0.2em;color: black;border-radius: 0.25em;background-color: #f0f8ff;}#sk-container-id-1 input.sk-toggleable__control:checked~div.sk-toggleable__content {max-height: 200px;max-width: 100%;overflow: auto;}#sk-container-id-1 input.sk-toggleable__control:checked~label.sk-toggleable__label-arrow:before {content: \"▾\";}#sk-container-id-1 div.sk-estimator input.sk-toggleable__control:checked~label.sk-toggleable__label {background-color: #d4ebff;}#sk-container-id-1 div.sk-label input.sk-toggleable__control:checked~label.sk-toggleable__label {background-color: #d4ebff;}#sk-container-id-1 input.sk-hidden--visually {border: 0;clip: rect(1px 1px 1px 1px);clip: rect(1px, 1px, 1px, 1px);height: 1px;margin: -1px;overflow: hidden;padding: 0;position: absolute;width: 1px;}#sk-container-id-1 div.sk-estimator {font-family: monospace;background-color: #f0f8ff;border: 1px dotted black;border-radius: 0.25em;box-sizing: border-box;margin-bottom: 0.5em;}#sk-container-id-1 div.sk-estimator:hover {background-color: #d4ebff;}#sk-container-id-1 div.sk-parallel-item::after {content: \"\";width: 100%;border-bottom: 1px solid gray;flex-grow: 1;}#sk-container-id-1 div.sk-label:hover label.sk-toggleable__label {background-color: #d4ebff;}#sk-container-id-1 div.sk-serial::before {content: \"\";position: absolute;border-left: 1px solid gray;box-sizing: border-box;top: 0;bottom: 0;left: 50%;z-index: 0;}#sk-container-id-1 div.sk-serial {display: flex;flex-direction: column;align-items: center;background-color: white;padding-right: 0.2em;padding-left: 0.2em;position: relative;}#sk-container-id-1 div.sk-item {position: relative;z-index: 1;}#sk-container-id-1 div.sk-parallel {display: flex;align-items: stretch;justify-content: center;background-color: white;position: relative;}#sk-container-id-1 div.sk-item::before, #sk-container-id-1 div.sk-parallel-item::before {content: \"\";position: absolute;border-left: 1px solid gray;box-sizing: border-box;top: 0;bottom: 0;left: 50%;z-index: -1;}#sk-container-id-1 div.sk-parallel-item {display: flex;flex-direction: column;z-index: 1;position: relative;background-color: white;}#sk-container-id-1 div.sk-parallel-item:first-child::after {align-self: flex-end;width: 50%;}#sk-container-id-1 div.sk-parallel-item:last-child::after {align-self: flex-start;width: 50%;}#sk-container-id-1 div.sk-parallel-item:only-child::after {width: 0;}#sk-container-id-1 div.sk-dashed-wrapped {border: 1px dashed gray;margin: 0 0.4em 0.5em 0.4em;box-sizing: border-box;padding-bottom: 0.4em;background-color: white;}#sk-container-id-1 div.sk-label label {font-family: monospace;font-weight: bold;display: inline-block;line-height: 1.2em;}#sk-container-id-1 div.sk-label-container {text-align: center;}#sk-container-id-1 div.sk-container {/* jupyter's `normalize.less` sets `[hidden] { display: none; }` but bootstrap.min.css set `[hidden] { display: none !important; }` so we also need the `!important` here to be able to override the default hidden behavior on the sphinx rendered scikit-learn.org. See: https://github.com/scikit-learn/scikit-learn/issues/21755 */display: inline-block !important;position: relative;}#sk-container-id-1 div.sk-text-repr-fallback {display: none;}</style><div id=\"sk-container-id-1\" class=\"sk-top-container\"><div class=\"sk-text-repr-fallback\"><pre>XGBClassifier(base_score=None, booster=None, callbacks=None,\n",
              "              colsample_bylevel=None, colsample_bynode=None,\n",
              "              colsample_bytree=None, device=None, early_stopping_rounds=None,\n",
              "              enable_categorical=False, eval_metric=None, feature_types=None,\n",
              "              gamma=None, grow_policy=None, importance_type=None,\n",
              "              interaction_constraints=None, learning_rate=None, max_bin=None,\n",
              "              max_cat_threshold=None, max_cat_to_onehot=None,\n",
              "              max_delta_step=None, max_depth=None, max_leaves=None,\n",
              "              min_child_weight=None, missing=nan, monotone_constraints=None,\n",
              "              multi_strategy=None, n_estimators=None, n_jobs=1,\n",
              "              num_parallel_tree=None, random_state=None, ...)</pre><b>In a Jupyter environment, please rerun this cell to show the HTML representation or trust the notebook. <br />On GitHub, the HTML representation is unable to render, please try loading this page with nbviewer.org.</b></div><div class=\"sk-container\" hidden><div class=\"sk-item\"><div class=\"sk-estimator sk-toggleable\"><input class=\"sk-toggleable__control sk-hidden--visually\" id=\"sk-estimator-id-1\" type=\"checkbox\" checked><label for=\"sk-estimator-id-1\" class=\"sk-toggleable__label sk-toggleable__label-arrow\">XGBClassifier</label><div class=\"sk-toggleable__content\"><pre>XGBClassifier(base_score=None, booster=None, callbacks=None,\n",
              "              colsample_bylevel=None, colsample_bynode=None,\n",
              "              colsample_bytree=None, device=None, early_stopping_rounds=None,\n",
              "              enable_categorical=False, eval_metric=None, feature_types=None,\n",
              "              gamma=None, grow_policy=None, importance_type=None,\n",
              "              interaction_constraints=None, learning_rate=None, max_bin=None,\n",
              "              max_cat_threshold=None, max_cat_to_onehot=None,\n",
              "              max_delta_step=None, max_depth=None, max_leaves=None,\n",
              "              min_child_weight=None, missing=nan, monotone_constraints=None,\n",
              "              multi_strategy=None, n_estimators=None, n_jobs=1,\n",
              "              num_parallel_tree=None, random_state=None, ...)</pre></div></div></div></div></div>"
            ],
            "text/plain": [
              "XGBClassifier(base_score=None, booster=None, callbacks=None,\n",
              "              colsample_bylevel=None, colsample_bynode=None,\n",
              "              colsample_bytree=None, device=None, early_stopping_rounds=None,\n",
              "              enable_categorical=False, eval_metric=None, feature_types=None,\n",
              "              gamma=None, grow_policy=None, importance_type=None,\n",
              "              interaction_constraints=None, learning_rate=None, max_bin=None,\n",
              "              max_cat_threshold=None, max_cat_to_onehot=None,\n",
              "              max_delta_step=None, max_depth=None, max_leaves=None,\n",
              "              min_child_weight=None, missing=nan, monotone_constraints=None,\n",
              "              multi_strategy=None, n_estimators=None, n_jobs=1,\n",
              "              num_parallel_tree=None, random_state=None, ...)"
            ]
          },
          "execution_count": 20,
          "metadata": {},
          "output_type": "execute_result"
        }
      ],
      "source": [
        "# Train and evaluate.\n",
        "xgb_model.fit(X_train, y_train, eval_metric=['error'], eval_set=[((X_train, y_train)),(X_test, y_test)])"
      ]
    },
    {
      "cell_type": "code",
      "execution_count": 21,
      "metadata": {
        "id": "pbG86zMH5CfN"
      },
      "outputs": [],
      "source": [
        "from matplotlib import pyplot\n",
        "\n",
        "%matplotlib inline"
      ]
    },
    {
      "cell_type": "code",
      "execution_count": 22,
      "metadata": {
        "colab": {
          "base_uri": "https://localhost:8080/",
          "height": 564
        },
        "id": "0BpqVPN75Z70",
        "outputId": "ace088fb-8a19-472f-a3f7-4079c44a3b53"
      },
      "outputs": [
        {
          "data": {
            "image/png": "[encoded data removed]",
            "text/plain": [
              "<Figure size 800x600 with 1 Axes>"
            ]
          },
          "metadata": {},
          "output_type": "display_data"
        }
      ],
      "source": [
        "# Plot and display the performance evaluation\n",
        "xgb_eval = xgb_model.evals_result()\n",
        "eval_steps = range(len(xgb_eval['validation_0']['error']))\n",
        "\n",
        "fig, ax = pyplot.subplots(1, 1, sharex=True, figsize=(8, 6))\n",
        "\n",
        "ax.plot(eval_steps, [1-x for x in xgb_eval['validation_0']['error']], label='Train')\n",
        "ax.plot(eval_steps, [1-x for x in xgb_eval['validation_1']['error']], label='Test')\n",
        "ax.legend()\n",
        "ax.set_title('Accuracy')\n",
        "ax.set_xlabel('Number of iterations');"
      ]
    },
    {
      "cell_type": "markdown",
      "metadata": {
        "id": "nXazZB3h5ijR"
      },
      "source": [
        "You can see that there is model overfitting, and there is a decrease in model accuracy after about 15 iterations\n",
        "\n",
        "Select the trained model obtained after 15 iterations"
      ]
    },
    {
      "cell_type": "code",
      "execution_count": 23,
      "metadata": {
        "id": "qK00eyNf5c-6"
      },
      "outputs": [],
      "source": [
        "# Select trained model.\n",
        "n_trees = 15\n",
        "y_pred = xgb_model.predict(X_test, iteration_range=(0, n_trees))"
      ]
    },
    {
      "cell_type": "code",
      "execution_count": 24,
      "metadata": {
        "colab": {
          "base_uri": "https://localhost:8080/"
        },
        "id": "DmuJWIOl5lNK",
        "outputId": "9a255dfe-6364-4acf-dd8e-5d45f752c9d6"
      },
      "outputs": [
        {
          "name": "stdout",
          "output_type": "stream",
          "text": [
            "Accuracy: 96.5%\n"
          ]
        }
      ],
      "source": [
        "# Check the accuracy of the trained model.\n",
        "accuracy = accuracy_score(y_test, y_pred)\n",
        "\n",
        "print(\"Accuracy: %.1f%%\" % (accuracy * 100.0))"
      ]
    },
    {
      "cell_type": "code",
      "execution_count": 25,
      "metadata": {
        "colab": {
          "base_uri": "https://localhost:8080/",
          "height": 564
        },
        "id": "LBFeAOJ65naI",
        "outputId": "dec2eadf-ab27-4741-b21a-c7cd5c3557db"
      },
      "outputs": [
        {
          "data": {
            "image/png": "[encoded data removed]",
            "text/plain": [
              "<Figure size 800x600 with 1 Axes>"
            ]
          },
          "metadata": {},
          "output_type": "display_data"
        }
      ],
      "source": [
        "from sklearn.metrics import accuracy_score, confusion_matrix\n",
        "# Calculate the confusion matrix\n",
        "conf_matrix = confusion_matrix(y_test, y_pred)\n",
        "\n",
        "# Plot the confusion matrix using a heatmap\n",
        "plt.figure(figsize=(8, 6))\n",
        "sns.heatmap(conf_matrix, annot=True, fmt=\"d\", cmap=\"Blues\", cbar=False)\n",
        "plt.xlabel(\"Predicted Labels\")\n",
        "plt.ylabel(\"True Labels\")\n",
        "plt.title(\"Confusion Matrix\")\n",
        "plt.show()"
      ]
    }
  ],
  "metadata": {
    "colab": {
      "provenance": []
    },
    "kernelspec": {
      "display_name": "Python 3",
      "name": "python3"
    },
    "language_info": {
      "codemirror_mode": {
        "name": "ipython",
        "version": 3
      },
      "file_extension": ".py",
      "mimetype": "text/x-python",
      "name": "python",
      "nbconvert_exporter": "python",
      "pygments_lexer": "ipython3",
      "version": "3.12.0"
    }
  },
  "nbformat": 4,
  "nbformat_minor": 0
}
