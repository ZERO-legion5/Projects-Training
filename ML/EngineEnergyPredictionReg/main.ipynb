{
  "cells": [
    {
      "cell_type": "markdown",
      "metadata": {},
      "source": [
        "# Import Libraries"
      ]
    },
    {
      "cell_type": "code",
      "execution_count": 32,
      "metadata": {},
      "outputs": [],
      "source": [
        "import numpy as np\n",
        "import pandas as pd\n",
        "\n",
        "import matplotlib.pyplot as plt\n",
        "import seaborn as sns\n",
        "%matplotlib inline"
      ]
    },
    {
      "cell_type": "code",
      "execution_count": 33,
      "metadata": {
        "id": "RB5AmN3hmtaC"
      },
      "outputs": [],
      "source": [
        "import pandas as pd\n",
        "import numpy as np\n",
        "from sklearn.preprocessing import LabelEncoder, OneHotEncoder, StandardScaler\n",
        "from sklearn.model_selection import train_test_split, cross_val_score, ShuffleSplit, GridSearchCV\n",
        "from sklearn import svm\n",
        "from sklearn.neural_network import MLPClassifier\n",
        "from sklearn.ensemble import RandomForestClassifier\n",
        "from sklearn.metrics import confusion_matrix, accuracy_score"
      ]
    },
    {
      "cell_type": "markdown",
      "metadata": {
        "id": "dG1JzySVnJmL"
      },
      "source": [
        "# Importing Data"
      ]
    },
    {
      "cell_type": "code",
      "execution_count": 34,
      "metadata": {
        "id": "rUM-hS-QuDHE"
      },
      "outputs": [],
      "source": [
        "dataset = pd.read_csv('volkswagen_e_golf.csv')"
      ]
    },
    {
      "cell_type": "code",
      "execution_count": 35,
      "metadata": {},
      "outputs": [
        {
          "data": {
            "text/plain": [
              "(3345, 18)"
            ]
          },
          "execution_count": 35,
          "metadata": {},
          "output_type": "execute_result"
        }
      ],
      "source": [
        "dataset.shape"
      ]
    },
    {
      "cell_type": "code",
      "execution_count": 36,
      "metadata": {
        "colab": {
          "base_uri": "https://localhost:8080/"
        },
        "id": "K8PO6sYf2pPs",
        "outputId": "407712cc-f219-4395-cb49-3e409401985d"
      },
      "outputs": [],
      "source": [
        "dataset.dropna(inplace= True)"
      ]
    },
    {
      "cell_type": "code",
      "execution_count": 37,
      "metadata": {
        "colab": {
          "base_uri": "https://localhost:8080/"
        },
        "id": "DRn3hZ-Q2rPy",
        "outputId": "963e29ad-9795-44d7-9be5-3d5157e7cd09"
      },
      "outputs": [
        {
          "name": "stdout",
          "output_type": "stream",
          "text": [
            "<class 'pandas.core.frame.DataFrame'>\n",
            "Index: 3331 entries, 1 to 3344\n",
            "Data columns (total 18 columns):\n",
            " #   Column                  Non-Null Count  Dtype  \n",
            "---  ------                  --------------  -----  \n",
            " 0   manufacturer            3331 non-null   object \n",
            " 1   model                   3331 non-null   object \n",
            " 2   version                 3331 non-null   object \n",
            " 3   power(kW)               3331 non-null   int64  \n",
            " 4   fuel_date               3331 non-null   object \n",
            " 5   trip_distance(km)       3331 non-null   object \n",
            " 6   quantity(kWh)           3331 non-null   float64\n",
            " 7   fuel_type               3331 non-null   object \n",
            " 8   tire_type               3331 non-null   object \n",
            " 9   city                    3331 non-null   int64  \n",
            " 10  motor_way               3331 non-null   int64  \n",
            " 11  country_roads           3331 non-null   int64  \n",
            " 12  driving_style           3331 non-null   object \n",
            " 13  consumption(kWh/100km)  3331 non-null   float64\n",
            " 14  A/C                     3331 non-null   int64  \n",
            " 15  park_heating            3331 non-null   int64  \n",
            " 16  avg_speed(km/h)         3331 non-null   float64\n",
            " 17  ecr_deviation           3331 non-null   float64\n",
            "dtypes: float64(4), int64(6), object(8)\n",
            "memory usage: 494.4+ KB\n"
          ]
        }
      ],
      "source": [
        "dataset.info()"
      ]
    },
    {
      "cell_type": "code",
      "execution_count": 38,
      "metadata": {
        "colab": {
          "base_uri": "https://localhost:8080/",
          "height": 634
        },
        "id": "kO0rLjFjuJFV",
        "outputId": "657adc64-404b-4de9-dadb-3e495dc67b9d"
      },
      "outputs": [
        {
          "data": {
            "text/html": [
              "<div>\n",
              "<style scoped>\n",
              "    .dataframe tbody tr th:only-of-type {\n",
              "        vertical-align: middle;\n",
              "    }\n",
              "\n",
              "    .dataframe tbody tr th {\n",
              "        vertical-align: top;\n",
              "    }\n",
              "\n",
              "    .dataframe thead th {\n",
              "        text-align: right;\n",
              "    }\n",
              "</style>\n",
              "<table border=\"1\" class=\"dataframe\">\n",
              "  <thead>\n",
              "    <tr style=\"text-align: right;\">\n",
              "      <th></th>\n",
              "      <th>manufacturer</th>\n",
              "      <th>model</th>\n",
              "      <th>version</th>\n",
              "      <th>power(kW)</th>\n",
              "      <th>fuel_date</th>\n",
              "      <th>trip_distance(km)</th>\n",
              "      <th>quantity(kWh)</th>\n",
              "      <th>fuel_type</th>\n",
              "      <th>tire_type</th>\n",
              "      <th>city</th>\n",
              "      <th>motor_way</th>\n",
              "      <th>country_roads</th>\n",
              "      <th>driving_style</th>\n",
              "      <th>consumption(kWh/100km)</th>\n",
              "      <th>A/C</th>\n",
              "      <th>park_heating</th>\n",
              "      <th>avg_speed(km/h)</th>\n",
              "      <th>ecr_deviation</th>\n",
              "    </tr>\n",
              "  </thead>\n",
              "  <tbody>\n",
              "    <tr>\n",
              "      <th>1</th>\n",
              "      <td>Volkswagen</td>\n",
              "      <td>Golf</td>\n",
              "      <td>e-Golf</td>\n",
              "      <td>85</td>\n",
              "      <td>06.02.2019</td>\n",
              "      <td>50</td>\n",
              "      <td>12.29</td>\n",
              "      <td>Electricity</td>\n",
              "      <td>Winter tires</td>\n",
              "      <td>0</td>\n",
              "      <td>0</td>\n",
              "      <td>1</td>\n",
              "      <td>Normal</td>\n",
              "      <td>15.5</td>\n",
              "      <td>0</td>\n",
              "      <td>1</td>\n",
              "      <td>47.0</td>\n",
              "      <td>-1.3</td>\n",
              "    </tr>\n",
              "    <tr>\n",
              "      <th>2</th>\n",
              "      <td>Volkswagen</td>\n",
              "      <td>Golf</td>\n",
              "      <td>e-Golf</td>\n",
              "      <td>85</td>\n",
              "      <td>05.02.2019</td>\n",
              "      <td>43</td>\n",
              "      <td>8.68</td>\n",
              "      <td>Electricity</td>\n",
              "      <td>Winter tires</td>\n",
              "      <td>0</td>\n",
              "      <td>1</td>\n",
              "      <td>1</td>\n",
              "      <td>Normal</td>\n",
              "      <td>18.0</td>\n",
              "      <td>0</td>\n",
              "      <td>1</td>\n",
              "      <td>58.0</td>\n",
              "      <td>1.2</td>\n",
              "    </tr>\n",
              "    <tr>\n",
              "      <th>3</th>\n",
              "      <td>Volkswagen</td>\n",
              "      <td>Golf</td>\n",
              "      <td>e-Golf</td>\n",
              "      <td>85</td>\n",
              "      <td>04.02.2019</td>\n",
              "      <td>44</td>\n",
              "      <td>1.50</td>\n",
              "      <td>Electricity</td>\n",
              "      <td>Winter tires</td>\n",
              "      <td>0</td>\n",
              "      <td>1</td>\n",
              "      <td>1</td>\n",
              "      <td>Normal</td>\n",
              "      <td>16.1</td>\n",
              "      <td>0</td>\n",
              "      <td>1</td>\n",
              "      <td>43.0</td>\n",
              "      <td>-0.7</td>\n",
              "    </tr>\n",
              "    <tr>\n",
              "      <th>4</th>\n",
              "      <td>Volkswagen</td>\n",
              "      <td>Golf</td>\n",
              "      <td>e-Golf</td>\n",
              "      <td>85</td>\n",
              "      <td>04.02.2019</td>\n",
              "      <td>76</td>\n",
              "      <td>14.44</td>\n",
              "      <td>Electricity</td>\n",
              "      <td>Winter tires</td>\n",
              "      <td>0</td>\n",
              "      <td>1</td>\n",
              "      <td>0</td>\n",
              "      <td>Normal</td>\n",
              "      <td>19.0</td>\n",
              "      <td>0</td>\n",
              "      <td>1</td>\n",
              "      <td>76.0</td>\n",
              "      <td>2.2</td>\n",
              "    </tr>\n",
              "    <tr>\n",
              "      <th>5</th>\n",
              "      <td>Volkswagen</td>\n",
              "      <td>Golf</td>\n",
              "      <td>e-Golf</td>\n",
              "      <td>85</td>\n",
              "      <td>03.02.2019</td>\n",
              "      <td>15</td>\n",
              "      <td>6.84</td>\n",
              "      <td>Electricity</td>\n",
              "      <td>Winter tires</td>\n",
              "      <td>1</td>\n",
              "      <td>0</td>\n",
              "      <td>0</td>\n",
              "      <td>Normal</td>\n",
              "      <td>16.1</td>\n",
              "      <td>0</td>\n",
              "      <td>1</td>\n",
              "      <td>23.0</td>\n",
              "      <td>-0.7</td>\n",
              "    </tr>\n",
              "    <tr>\n",
              "      <th>...</th>\n",
              "      <td>...</td>\n",
              "      <td>...</td>\n",
              "      <td>...</td>\n",
              "      <td>...</td>\n",
              "      <td>...</td>\n",
              "      <td>...</td>\n",
              "      <td>...</td>\n",
              "      <td>...</td>\n",
              "      <td>...</td>\n",
              "      <td>...</td>\n",
              "      <td>...</td>\n",
              "      <td>...</td>\n",
              "      <td>...</td>\n",
              "      <td>...</td>\n",
              "      <td>...</td>\n",
              "      <td>...</td>\n",
              "      <td>...</td>\n",
              "      <td>...</td>\n",
              "    </tr>\n",
              "    <tr>\n",
              "      <th>3340</th>\n",
              "      <td>Volkswagen</td>\n",
              "      <td>Golf</td>\n",
              "      <td>e-Golf</td>\n",
              "      <td>85</td>\n",
              "      <td>20.12.2014</td>\n",
              "      <td>26</td>\n",
              "      <td>5.62</td>\n",
              "      <td>Electricity</td>\n",
              "      <td>Winter tires</td>\n",
              "      <td>1</td>\n",
              "      <td>1</td>\n",
              "      <td>1</td>\n",
              "      <td>Normal</td>\n",
              "      <td>21.6</td>\n",
              "      <td>1</td>\n",
              "      <td>0</td>\n",
              "      <td>45.0</td>\n",
              "      <td>4.8</td>\n",
              "    </tr>\n",
              "    <tr>\n",
              "      <th>3341</th>\n",
              "      <td>Volkswagen</td>\n",
              "      <td>Golf</td>\n",
              "      <td>e-Golf</td>\n",
              "      <td>85</td>\n",
              "      <td>20.12.2014</td>\n",
              "      <td>77</td>\n",
              "      <td>14.25</td>\n",
              "      <td>Electricity</td>\n",
              "      <td>Winter tires</td>\n",
              "      <td>1</td>\n",
              "      <td>1</td>\n",
              "      <td>1</td>\n",
              "      <td>Normal</td>\n",
              "      <td>18.5</td>\n",
              "      <td>1</td>\n",
              "      <td>0</td>\n",
              "      <td>42.0</td>\n",
              "      <td>1.7</td>\n",
              "    </tr>\n",
              "    <tr>\n",
              "      <th>3342</th>\n",
              "      <td>Volkswagen</td>\n",
              "      <td>Golf</td>\n",
              "      <td>e-Golf</td>\n",
              "      <td>85</td>\n",
              "      <td>19.12.2014</td>\n",
              "      <td>26</td>\n",
              "      <td>4.97</td>\n",
              "      <td>Electricity</td>\n",
              "      <td>Winter tires</td>\n",
              "      <td>1</td>\n",
              "      <td>1</td>\n",
              "      <td>1</td>\n",
              "      <td>Normal</td>\n",
              "      <td>19.1</td>\n",
              "      <td>1</td>\n",
              "      <td>0</td>\n",
              "      <td>23.0</td>\n",
              "      <td>2.3</td>\n",
              "    </tr>\n",
              "    <tr>\n",
              "      <th>3343</th>\n",
              "      <td>Volkswagen</td>\n",
              "      <td>Golf</td>\n",
              "      <td>e-Golf</td>\n",
              "      <td>85</td>\n",
              "      <td>19.12.2014</td>\n",
              "      <td>20</td>\n",
              "      <td>4.76</td>\n",
              "      <td>Electricity</td>\n",
              "      <td>Winter tires</td>\n",
              "      <td>1</td>\n",
              "      <td>1</td>\n",
              "      <td>1</td>\n",
              "      <td>Fast</td>\n",
              "      <td>23.8</td>\n",
              "      <td>1</td>\n",
              "      <td>0</td>\n",
              "      <td>46.0</td>\n",
              "      <td>7.0</td>\n",
              "    </tr>\n",
              "    <tr>\n",
              "      <th>3344</th>\n",
              "      <td>Volkswagen</td>\n",
              "      <td>Golf</td>\n",
              "      <td>e-Golf</td>\n",
              "      <td>85</td>\n",
              "      <td>18.12.2014</td>\n",
              "      <td>43</td>\n",
              "      <td>7.86</td>\n",
              "      <td>Electricity</td>\n",
              "      <td>Winter tires</td>\n",
              "      <td>1</td>\n",
              "      <td>1</td>\n",
              "      <td>1</td>\n",
              "      <td>Normal</td>\n",
              "      <td>18.3</td>\n",
              "      <td>1</td>\n",
              "      <td>0</td>\n",
              "      <td>18.0</td>\n",
              "      <td>1.5</td>\n",
              "    </tr>\n",
              "  </tbody>\n",
              "</table>\n",
              "<p>3331 rows × 18 columns</p>\n",
              "</div>"
            ],
            "text/plain": [
              "     manufacturer model version  power(kW)   fuel_date trip_distance(km)  \\\n",
              "1      Volkswagen  Golf  e-Golf         85  06.02.2019                50   \n",
              "2      Volkswagen  Golf  e-Golf         85  05.02.2019                43   \n",
              "3      Volkswagen  Golf  e-Golf         85  04.02.2019                44   \n",
              "4      Volkswagen  Golf  e-Golf         85  04.02.2019                76   \n",
              "5      Volkswagen  Golf  e-Golf         85  03.02.2019                15   \n",
              "...           ...   ...     ...        ...         ...               ...   \n",
              "3340   Volkswagen  Golf  e-Golf         85  20.12.2014                26   \n",
              "3341   Volkswagen  Golf  e-Golf         85  20.12.2014                77   \n",
              "3342   Volkswagen  Golf  e-Golf         85  19.12.2014                26   \n",
              "3343   Volkswagen  Golf  e-Golf         85  19.12.2014                20   \n",
              "3344   Volkswagen  Golf  e-Golf         85  18.12.2014                43   \n",
              "\n",
              "      quantity(kWh)    fuel_type     tire_type  city  motor_way  \\\n",
              "1             12.29  Electricity  Winter tires     0          0   \n",
              "2              8.68  Electricity  Winter tires     0          1   \n",
              "3              1.50  Electricity  Winter tires     0          1   \n",
              "4             14.44  Electricity  Winter tires     0          1   \n",
              "5              6.84  Electricity  Winter tires     1          0   \n",
              "...             ...          ...           ...   ...        ...   \n",
              "3340           5.62  Electricity  Winter tires     1          1   \n",
              "3341          14.25  Electricity  Winter tires     1          1   \n",
              "3342           4.97  Electricity  Winter tires     1          1   \n",
              "3343           4.76  Electricity  Winter tires     1          1   \n",
              "3344           7.86  Electricity  Winter tires     1          1   \n",
              "\n",
              "      country_roads driving_style  consumption(kWh/100km)  A/C  park_heating  \\\n",
              "1                 1        Normal                    15.5    0             1   \n",
              "2                 1        Normal                    18.0    0             1   \n",
              "3                 1        Normal                    16.1    0             1   \n",
              "4                 0        Normal                    19.0    0             1   \n",
              "5                 0        Normal                    16.1    0             1   \n",
              "...             ...           ...                     ...  ...           ...   \n",
              "3340              1        Normal                    21.6    1             0   \n",
              "3341              1        Normal                    18.5    1             0   \n",
              "3342              1        Normal                    19.1    1             0   \n",
              "3343              1          Fast                    23.8    1             0   \n",
              "3344              1        Normal                    18.3    1             0   \n",
              "\n",
              "      avg_speed(km/h)  ecr_deviation  \n",
              "1                47.0           -1.3  \n",
              "2                58.0            1.2  \n",
              "3                43.0           -0.7  \n",
              "4                76.0            2.2  \n",
              "5                23.0           -0.7  \n",
              "...               ...            ...  \n",
              "3340             45.0            4.8  \n",
              "3341             42.0            1.7  \n",
              "3342             23.0            2.3  \n",
              "3343             46.0            7.0  \n",
              "3344             18.0            1.5  \n",
              "\n",
              "[3331 rows x 18 columns]"
            ]
          },
          "execution_count": 38,
          "metadata": {},
          "output_type": "execute_result"
        }
      ],
      "source": [
        "dataset"
      ]
    },
    {
      "cell_type": "code",
      "execution_count": 39,
      "metadata": {
        "id": "PYJllrIMwZ3r"
      },
      "outputs": [],
      "source": [
        "new_df = dataset.drop(\"consumption(kWh/100km)\", axis=1)"
      ]
    },
    {
      "cell_type": "code",
      "execution_count": 40,
      "metadata": {
        "colab": {
          "base_uri": "https://localhost:8080/",
          "height": 634
        },
        "id": "pHOKP4uexO5D",
        "outputId": "5270ae67-03fe-4059-9a87-9edf560a353c"
      },
      "outputs": [
        {
          "data": {
            "text/html": [
              "<div>\n",
              "<style scoped>\n",
              "    .dataframe tbody tr th:only-of-type {\n",
              "        vertical-align: middle;\n",
              "    }\n",
              "\n",
              "    .dataframe tbody tr th {\n",
              "        vertical-align: top;\n",
              "    }\n",
              "\n",
              "    .dataframe thead th {\n",
              "        text-align: right;\n",
              "    }\n",
              "</style>\n",
              "<table border=\"1\" class=\"dataframe\">\n",
              "  <thead>\n",
              "    <tr style=\"text-align: right;\">\n",
              "      <th></th>\n",
              "      <th>manufacturer</th>\n",
              "      <th>model</th>\n",
              "      <th>version</th>\n",
              "      <th>power(kW)</th>\n",
              "      <th>fuel_date</th>\n",
              "      <th>trip_distance(km)</th>\n",
              "      <th>quantity(kWh)</th>\n",
              "      <th>fuel_type</th>\n",
              "      <th>tire_type</th>\n",
              "      <th>city</th>\n",
              "      <th>motor_way</th>\n",
              "      <th>country_roads</th>\n",
              "      <th>driving_style</th>\n",
              "      <th>A/C</th>\n",
              "      <th>park_heating</th>\n",
              "      <th>avg_speed(km/h)</th>\n",
              "      <th>ecr_deviation</th>\n",
              "    </tr>\n",
              "  </thead>\n",
              "  <tbody>\n",
              "    <tr>\n",
              "      <th>1</th>\n",
              "      <td>Volkswagen</td>\n",
              "      <td>Golf</td>\n",
              "      <td>e-Golf</td>\n",
              "      <td>85</td>\n",
              "      <td>06.02.2019</td>\n",
              "      <td>50</td>\n",
              "      <td>12.29</td>\n",
              "      <td>Electricity</td>\n",
              "      <td>Winter tires</td>\n",
              "      <td>0</td>\n",
              "      <td>0</td>\n",
              "      <td>1</td>\n",
              "      <td>Normal</td>\n",
              "      <td>0</td>\n",
              "      <td>1</td>\n",
              "      <td>47.0</td>\n",
              "      <td>-1.3</td>\n",
              "    </tr>\n",
              "    <tr>\n",
              "      <th>2</th>\n",
              "      <td>Volkswagen</td>\n",
              "      <td>Golf</td>\n",
              "      <td>e-Golf</td>\n",
              "      <td>85</td>\n",
              "      <td>05.02.2019</td>\n",
              "      <td>43</td>\n",
              "      <td>8.68</td>\n",
              "      <td>Electricity</td>\n",
              "      <td>Winter tires</td>\n",
              "      <td>0</td>\n",
              "      <td>1</td>\n",
              "      <td>1</td>\n",
              "      <td>Normal</td>\n",
              "      <td>0</td>\n",
              "      <td>1</td>\n",
              "      <td>58.0</td>\n",
              "      <td>1.2</td>\n",
              "    </tr>\n",
              "    <tr>\n",
              "      <th>3</th>\n",
              "      <td>Volkswagen</td>\n",
              "      <td>Golf</td>\n",
              "      <td>e-Golf</td>\n",
              "      <td>85</td>\n",
              "      <td>04.02.2019</td>\n",
              "      <td>44</td>\n",
              "      <td>1.50</td>\n",
              "      <td>Electricity</td>\n",
              "      <td>Winter tires</td>\n",
              "      <td>0</td>\n",
              "      <td>1</td>\n",
              "      <td>1</td>\n",
              "      <td>Normal</td>\n",
              "      <td>0</td>\n",
              "      <td>1</td>\n",
              "      <td>43.0</td>\n",
              "      <td>-0.7</td>\n",
              "    </tr>\n",
              "    <tr>\n",
              "      <th>4</th>\n",
              "      <td>Volkswagen</td>\n",
              "      <td>Golf</td>\n",
              "      <td>e-Golf</td>\n",
              "      <td>85</td>\n",
              "      <td>04.02.2019</td>\n",
              "      <td>76</td>\n",
              "      <td>14.44</td>\n",
              "      <td>Electricity</td>\n",
              "      <td>Winter tires</td>\n",
              "      <td>0</td>\n",
              "      <td>1</td>\n",
              "      <td>0</td>\n",
              "      <td>Normal</td>\n",
              "      <td>0</td>\n",
              "      <td>1</td>\n",
              "      <td>76.0</td>\n",
              "      <td>2.2</td>\n",
              "    </tr>\n",
              "    <tr>\n",
              "      <th>5</th>\n",
              "      <td>Volkswagen</td>\n",
              "      <td>Golf</td>\n",
              "      <td>e-Golf</td>\n",
              "      <td>85</td>\n",
              "      <td>03.02.2019</td>\n",
              "      <td>15</td>\n",
              "      <td>6.84</td>\n",
              "      <td>Electricity</td>\n",
              "      <td>Winter tires</td>\n",
              "      <td>1</td>\n",
              "      <td>0</td>\n",
              "      <td>0</td>\n",
              "      <td>Normal</td>\n",
              "      <td>0</td>\n",
              "      <td>1</td>\n",
              "      <td>23.0</td>\n",
              "      <td>-0.7</td>\n",
              "    </tr>\n",
              "    <tr>\n",
              "      <th>...</th>\n",
              "      <td>...</td>\n",
              "      <td>...</td>\n",
              "      <td>...</td>\n",
              "      <td>...</td>\n",
              "      <td>...</td>\n",
              "      <td>...</td>\n",
              "      <td>...</td>\n",
              "      <td>...</td>\n",
              "      <td>...</td>\n",
              "      <td>...</td>\n",
              "      <td>...</td>\n",
              "      <td>...</td>\n",
              "      <td>...</td>\n",
              "      <td>...</td>\n",
              "      <td>...</td>\n",
              "      <td>...</td>\n",
              "      <td>...</td>\n",
              "    </tr>\n",
              "    <tr>\n",
              "      <th>3340</th>\n",
              "      <td>Volkswagen</td>\n",
              "      <td>Golf</td>\n",
              "      <td>e-Golf</td>\n",
              "      <td>85</td>\n",
              "      <td>20.12.2014</td>\n",
              "      <td>26</td>\n",
              "      <td>5.62</td>\n",
              "      <td>Electricity</td>\n",
              "      <td>Winter tires</td>\n",
              "      <td>1</td>\n",
              "      <td>1</td>\n",
              "      <td>1</td>\n",
              "      <td>Normal</td>\n",
              "      <td>1</td>\n",
              "      <td>0</td>\n",
              "      <td>45.0</td>\n",
              "      <td>4.8</td>\n",
              "    </tr>\n",
              "    <tr>\n",
              "      <th>3341</th>\n",
              "      <td>Volkswagen</td>\n",
              "      <td>Golf</td>\n",
              "      <td>e-Golf</td>\n",
              "      <td>85</td>\n",
              "      <td>20.12.2014</td>\n",
              "      <td>77</td>\n",
              "      <td>14.25</td>\n",
              "      <td>Electricity</td>\n",
              "      <td>Winter tires</td>\n",
              "      <td>1</td>\n",
              "      <td>1</td>\n",
              "      <td>1</td>\n",
              "      <td>Normal</td>\n",
              "      <td>1</td>\n",
              "      <td>0</td>\n",
              "      <td>42.0</td>\n",
              "      <td>1.7</td>\n",
              "    </tr>\n",
              "    <tr>\n",
              "      <th>3342</th>\n",
              "      <td>Volkswagen</td>\n",
              "      <td>Golf</td>\n",
              "      <td>e-Golf</td>\n",
              "      <td>85</td>\n",
              "      <td>19.12.2014</td>\n",
              "      <td>26</td>\n",
              "      <td>4.97</td>\n",
              "      <td>Electricity</td>\n",
              "      <td>Winter tires</td>\n",
              "      <td>1</td>\n",
              "      <td>1</td>\n",
              "      <td>1</td>\n",
              "      <td>Normal</td>\n",
              "      <td>1</td>\n",
              "      <td>0</td>\n",
              "      <td>23.0</td>\n",
              "      <td>2.3</td>\n",
              "    </tr>\n",
              "    <tr>\n",
              "      <th>3343</th>\n",
              "      <td>Volkswagen</td>\n",
              "      <td>Golf</td>\n",
              "      <td>e-Golf</td>\n",
              "      <td>85</td>\n",
              "      <td>19.12.2014</td>\n",
              "      <td>20</td>\n",
              "      <td>4.76</td>\n",
              "      <td>Electricity</td>\n",
              "      <td>Winter tires</td>\n",
              "      <td>1</td>\n",
              "      <td>1</td>\n",
              "      <td>1</td>\n",
              "      <td>Fast</td>\n",
              "      <td>1</td>\n",
              "      <td>0</td>\n",
              "      <td>46.0</td>\n",
              "      <td>7.0</td>\n",
              "    </tr>\n",
              "    <tr>\n",
              "      <th>3344</th>\n",
              "      <td>Volkswagen</td>\n",
              "      <td>Golf</td>\n",
              "      <td>e-Golf</td>\n",
              "      <td>85</td>\n",
              "      <td>18.12.2014</td>\n",
              "      <td>43</td>\n",
              "      <td>7.86</td>\n",
              "      <td>Electricity</td>\n",
              "      <td>Winter tires</td>\n",
              "      <td>1</td>\n",
              "      <td>1</td>\n",
              "      <td>1</td>\n",
              "      <td>Normal</td>\n",
              "      <td>1</td>\n",
              "      <td>0</td>\n",
              "      <td>18.0</td>\n",
              "      <td>1.5</td>\n",
              "    </tr>\n",
              "  </tbody>\n",
              "</table>\n",
              "<p>3331 rows × 17 columns</p>\n",
              "</div>"
            ],
            "text/plain": [
              "     manufacturer model version  power(kW)   fuel_date trip_distance(km)  \\\n",
              "1      Volkswagen  Golf  e-Golf         85  06.02.2019                50   \n",
              "2      Volkswagen  Golf  e-Golf         85  05.02.2019                43   \n",
              "3      Volkswagen  Golf  e-Golf         85  04.02.2019                44   \n",
              "4      Volkswagen  Golf  e-Golf         85  04.02.2019                76   \n",
              "5      Volkswagen  Golf  e-Golf         85  03.02.2019                15   \n",
              "...           ...   ...     ...        ...         ...               ...   \n",
              "3340   Volkswagen  Golf  e-Golf         85  20.12.2014                26   \n",
              "3341   Volkswagen  Golf  e-Golf         85  20.12.2014                77   \n",
              "3342   Volkswagen  Golf  e-Golf         85  19.12.2014                26   \n",
              "3343   Volkswagen  Golf  e-Golf         85  19.12.2014                20   \n",
              "3344   Volkswagen  Golf  e-Golf         85  18.12.2014                43   \n",
              "\n",
              "      quantity(kWh)    fuel_type     tire_type  city  motor_way  \\\n",
              "1             12.29  Electricity  Winter tires     0          0   \n",
              "2              8.68  Electricity  Winter tires     0          1   \n",
              "3              1.50  Electricity  Winter tires     0          1   \n",
              "4             14.44  Electricity  Winter tires     0          1   \n",
              "5              6.84  Electricity  Winter tires     1          0   \n",
              "...             ...          ...           ...   ...        ...   \n",
              "3340           5.62  Electricity  Winter tires     1          1   \n",
              "3341          14.25  Electricity  Winter tires     1          1   \n",
              "3342           4.97  Electricity  Winter tires     1          1   \n",
              "3343           4.76  Electricity  Winter tires     1          1   \n",
              "3344           7.86  Electricity  Winter tires     1          1   \n",
              "\n",
              "      country_roads driving_style  A/C  park_heating  avg_speed(km/h)  \\\n",
              "1                 1        Normal    0             1             47.0   \n",
              "2                 1        Normal    0             1             58.0   \n",
              "3                 1        Normal    0             1             43.0   \n",
              "4                 0        Normal    0             1             76.0   \n",
              "5                 0        Normal    0             1             23.0   \n",
              "...             ...           ...  ...           ...              ...   \n",
              "3340              1        Normal    1             0             45.0   \n",
              "3341              1        Normal    1             0             42.0   \n",
              "3342              1        Normal    1             0             23.0   \n",
              "3343              1          Fast    1             0             46.0   \n",
              "3344              1        Normal    1             0             18.0   \n",
              "\n",
              "      ecr_deviation  \n",
              "1              -1.3  \n",
              "2               1.2  \n",
              "3              -0.7  \n",
              "4               2.2  \n",
              "5              -0.7  \n",
              "...             ...  \n",
              "3340            4.8  \n",
              "3341            1.7  \n",
              "3342            2.3  \n",
              "3343            7.0  \n",
              "3344            1.5  \n",
              "\n",
              "[3331 rows x 17 columns]"
            ]
          },
          "execution_count": 40,
          "metadata": {},
          "output_type": "execute_result"
        }
      ],
      "source": [
        "new_df"
      ]
    },
    {
      "cell_type": "code",
      "execution_count": 41,
      "metadata": {
        "colab": {
          "base_uri": "https://localhost:8080/"
        },
        "id": "T7KrKbP0zPkc",
        "outputId": "62a628e1-fe07-4779-d887-57b8e1b4e1e4"
      },
      "outputs": [
        {
          "name": "stdout",
          "output_type": "stream",
          "text": [
            "<class 'pandas.core.frame.DataFrame'>\n",
            "Index: 3331 entries, 1 to 3344\n",
            "Data columns (total 17 columns):\n",
            " #   Column             Non-Null Count  Dtype  \n",
            "---  ------             --------------  -----  \n",
            " 0   manufacturer       3331 non-null   object \n",
            " 1   model              3331 non-null   object \n",
            " 2   version            3331 non-null   object \n",
            " 3   power(kW)          3331 non-null   int64  \n",
            " 4   fuel_date          3331 non-null   object \n",
            " 5   trip_distance(km)  3331 non-null   object \n",
            " 6   quantity(kWh)      3331 non-null   float64\n",
            " 7   fuel_type          3331 non-null   object \n",
            " 8   tire_type          3331 non-null   object \n",
            " 9   city               3331 non-null   int64  \n",
            " 10  motor_way          3331 non-null   int64  \n",
            " 11  country_roads      3331 non-null   int64  \n",
            " 12  driving_style      3331 non-null   object \n",
            " 13  A/C                3331 non-null   int64  \n",
            " 14  park_heating       3331 non-null   int64  \n",
            " 15  avg_speed(km/h)    3331 non-null   float64\n",
            " 16  ecr_deviation      3331 non-null   float64\n",
            "dtypes: float64(3), int64(6), object(8)\n",
            "memory usage: 468.4+ KB\n"
          ]
        }
      ],
      "source": [
        "new_df.info()"
      ]
    },
    {
      "cell_type": "code",
      "execution_count": 42,
      "metadata": {
        "id": "_o_BKureuKIb"
      },
      "outputs": [],
      "source": [
        "X = new_df.iloc[:, 6:].values\n",
        "y = dataset[\"consumption(kWh/100km)\"]"
      ]
    },
    {
      "cell_type": "code",
      "execution_count": 43,
      "metadata": {
        "colab": {
          "base_uri": "https://localhost:8080/"
        },
        "id": "JuiMUAmPxoDu",
        "outputId": "20cadee5-ec65-4840-f8ab-3349e952bdc9"
      },
      "outputs": [
        {
          "data": {
            "text/plain": [
              "array([12.29, 'Electricity', 'Winter tires', 0, 0, 1, 'Normal', 0, 1,\n",
              "       47.0, -1.3], dtype=object)"
            ]
          },
          "execution_count": 43,
          "metadata": {},
          "output_type": "execute_result"
        }
      ],
      "source": [
        "X[0]"
      ]
    },
    {
      "cell_type": "code",
      "execution_count": 44,
      "metadata": {
        "colab": {
          "base_uri": "https://localhost:8080/"
        },
        "id": "5ne2H6XXv9DC",
        "outputId": "6315113f-6729-4ef1-a909-c08e59247517"
      },
      "outputs": [
        {
          "data": {
            "text/plain": [
              "1       15.5\n",
              "2       18.0\n",
              "3       16.1\n",
              "4       19.0\n",
              "5       16.1\n",
              "        ... \n",
              "3340    21.6\n",
              "3341    18.5\n",
              "3342    19.1\n",
              "3343    23.8\n",
              "3344    18.3\n",
              "Name: consumption(kWh/100km), Length: 3331, dtype: float64"
            ]
          },
          "execution_count": 44,
          "metadata": {},
          "output_type": "execute_result"
        }
      ],
      "source": [
        "y"
      ]
    },
    {
      "cell_type": "code",
      "execution_count": 45,
      "metadata": {
        "id": "889R9vQ5v4si"
      },
      "outputs": [],
      "source": [
        "from sklearn.preprocessing import LabelEncoder\n",
        "\n",
        "label_encoder_1 = LabelEncoder()\n",
        "X[:, 1] = label_encoder_1.fit_transform(X[:, 1])\n",
        "label_encoder_2 = LabelEncoder()\n",
        "X[:, 2] = label_encoder_2.fit_transform(X[:, 2])\n",
        "label_encoder_3 = LabelEncoder()\n",
        "X[:, 6] = label_encoder_2.fit_transform(X[:, 6])"
      ]
    },
    {
      "cell_type": "code",
      "execution_count": 46,
      "metadata": {},
      "outputs": [
        {
          "data": {
            "text/plain": [
              "array([12.29, 0, 1, 0, 0, 1, 2, 0, 1, 47.0, -1.3], dtype=object)"
            ]
          },
          "execution_count": 46,
          "metadata": {},
          "output_type": "execute_result"
        }
      ],
      "source": [
        "X[0]"
      ]
    },
    {
      "cell_type": "code",
      "execution_count": 47,
      "metadata": {
        "id": "p0qBD4H9yjK4"
      },
      "outputs": [],
      "source": [
        "# split the dataset into training-set and test-set\n",
        "X_train, X_test, y_train, y_test = train_test_split(X, y, test_size=0.25, random_state=0)"
      ]
    },
    {
      "cell_type": "code",
      "execution_count": 48,
      "metadata": {
        "id": "-Xw_nHAvyquV"
      },
      "outputs": [],
      "source": [
        "from sklearn.preprocessing import StandardScaler\n",
        "\n",
        "sc = StandardScaler()\n",
        "X_train = sc.fit_transform(X=X_train)\n",
        "X_test = sc.fit_transform(X=X_test)"
      ]
    },
    {
      "cell_type": "code",
      "execution_count": 49,
      "metadata": {
        "id": "ArZYF8XNytyU"
      },
      "outputs": [],
      "source": [
        "def regression_models(X_train, y_train):\n",
        "    from sklearn.linear_model import LinearRegression\n",
        "    from sklearn.neighbors import KNeighborsRegressor\n",
        "    from sklearn.svm import SVR\n",
        "    from sklearn.tree import DecisionTreeRegressor\n",
        "    from sklearn.ensemble import RandomForestRegressor\n",
        "    from sklearn.metrics import r2_score\n",
        "\n",
        "    # Using Linear Regression\n",
        "    linear_reg = LinearRegression()\n",
        "    linear_reg.fit(X_train, y_train)\n",
        "\n",
        "    # Using K Neighbors Regressor\n",
        "    knn_reg = KNeighborsRegressor(n_neighbors=5)\n",
        "    knn_reg.fit(X_train, y_train)\n",
        "\n",
        "    # Using Support Vector Regression (Linear Kernel)\n",
        "    svr_linear = SVR(kernel='linear')\n",
        "    svr_linear.fit(X_train, y_train)\n",
        "\n",
        "    # Using Support Vector Regression (RBF Kernel)\n",
        "    svr_rbf = SVR(kernel='rbf')\n",
        "    svr_rbf.fit(X_train, y_train)\n",
        "\n",
        "    # Using Decision Tree Regressor\n",
        "    tree_reg = DecisionTreeRegressor()\n",
        "    tree_reg.fit(X_train, y_train)\n",
        "\n",
        "    # Using Random Forest Regressor\n",
        "    forest_reg = RandomForestRegressor(n_estimators=10)\n",
        "    forest_reg.fit(X_train, y_train)\n",
        "\n",
        "    # Print model performance on the training data\n",
        "    models = [linear_reg, knn_reg, svr_linear, svr_rbf, tree_reg, forest_reg]\n",
        "    model_names = ['Linear Regression', 'K Neighbors Regressor', 'SVR Linear', 'SVR RBF', 'Decision Tree Regressor', 'Random Forest Regressor']\n",
        "\n",
        "    for i, model in enumerate(models):\n",
        "        y_pred = model.predict(X_train)\n",
        "        r2 = r2_score(y_train, y_pred)\n",
        "        print(f'[{i}] {model_names[i]} Training R-squared:', r2)\n",
        "\n",
        "    return models\n"
      ]
    },
    {
      "cell_type": "code",
      "execution_count": 50,
      "metadata": {
        "colab": {
          "base_uri": "https://localhost:8080/"
        },
        "id": "37It7tce0sid",
        "outputId": "bcca40d1-b862-49b9-f451-f6c1d0a46da3"
      },
      "outputs": [
        {
          "name": "stdout",
          "output_type": "stream",
          "text": [
            "[0] Linear Regression Training R-squared: 1.0\n",
            "[1] K Neighbors Regressor Training R-squared: 0.9491886920244932\n",
            "[2] SVR Linear Training R-squared: 0.9997394065004301\n",
            "[3] SVR RBF Training R-squared: 0.8711635235641715\n",
            "[4] Decision Tree Regressor Training R-squared: 1.0\n",
            "[5] Random Forest Regressor Training R-squared: 0.9937602814526129\n"
          ]
        }
      ],
      "source": [
        "trained_models = regression_models(X_train, y_train)"
      ]
    },
    {
      "cell_type": "markdown",
      "metadata": {
        "id": "HVAaZ7d-08TF"
      },
      "source": [
        "# Model Evaluation"
      ]
    },
    {
      "cell_type": "code",
      "execution_count": 51,
      "metadata": {
        "colab": {
          "base_uri": "https://localhost:8080/"
        },
        "id": "zmq28kYJ05dB",
        "outputId": "c4f972ee-7ad7-4fe9-e207-51cf2c892e5e"
      },
      "outputs": [
        {
          "name": "stdout",
          "output_type": "stream",
          "text": [
            "Model[0] R-squared: 0.9973\n",
            "\n",
            "Model[1] R-squared: 0.8562\n",
            "\n",
            "Model[2] R-squared: 0.9976\n",
            "\n",
            "Model[3] R-squared: 0.7440\n",
            "\n",
            "Model[4] R-squared: 0.9722\n",
            "\n",
            "Model[5] R-squared: 0.9809\n",
            "\n"
          ]
        }
      ],
      "source": [
        "from sklearn.metrics import r2_score\n",
        "for i, model in enumerate(trained_models):\n",
        "    y_pred = model.predict(X_test)\n",
        "    r2 = r2_score(y_test, y_pred)\n",
        "    print(f'Model[{i}] R-squared: {r2:.4f}')\n",
        "    print()"
      ]
    },
    {
      "cell_type": "markdown",
      "metadata": {
        "id": "RyaQq-nw2QAo"
      },
      "source": [
        "As per our prediction on test data  SVR Linear Training R-squared fits the best for our data"
      ]
    }
  ],
  "metadata": {
    "colab": {
      "provenance": []
    },
    "kernelspec": {
      "display_name": "Python 3",
      "name": "python3"
    },
    "language_info": {
      "codemirror_mode": {
        "name": "ipython",
        "version": 3
      },
      "file_extension": ".py",
      "mimetype": "text/x-python",
      "name": "python",
      "nbconvert_exporter": "python",
      "pygments_lexer": "ipython3",
      "version": "3.12.0"
    }
  },
  "nbformat": 4,
  "nbformat_minor": 0
}
